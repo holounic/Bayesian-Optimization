{
 "cells": [
  {
   "cell_type": "code",
   "execution_count": 82,
   "id": "40a46c9c",
   "metadata": {},
   "outputs": [],
   "source": [
    "import numpy as np\n",
    "import matplotlib\n",
    "import matplotlib.pyplot as plt\n",
    "\n",
    "import cma\n",
    "\n",
    "from bayes_optim import BO\n",
    "from bayes_optim.search_space import RealSpace\n",
    "from bayes_optim.surrogate import GaussianProcess, trend\n",
    "\n",
    "# only noiseless functions\n",
    "from benchmark.bbobbenchmarks import F1, F2, F3, F4, F5, F6, F7, F8, F9, F10, F11, F12, F13, F14, F15, F16, F21"
   ]
  },
  {
   "cell_type": "code",
   "execution_count": 101,
   "id": "688dbcc3",
   "metadata": {},
   "outputs": [],
   "source": [
    "dim = 2\n",
    "lb, ub = -5, 5\n",
    "\n",
    "space = RealSpace([lb, ub]) * dim\n",
    "\n",
    "mean = trend.constant_trend(dim, beta=None)\n",
    "thetaL = 1e-10 * (ub - lb) * np.ones(dim)\n",
    "thetaU = 10 * (ub - lb) * np.ones(dim)\n",
    "theta0 = np.random.rand(dim) * (thetaU - thetaL) + thetaL\n",
    "\n",
    "doe_size = 5\n",
    "max_FEs = 5\n",
    "verbose = False\n",
    "\n",
    "n_test_samples = 1000"
   ]
  },
  {
   "cell_type": "code",
   "execution_count": 102,
   "id": "7395e470",
   "metadata": {},
   "outputs": [],
   "source": [
    "def regret_function(obj_func, doe_size):\n",
    "    def func(X):\n",
    "        _X = np.split(X, doe_size)\n",
    "        model = GaussianProcess(\n",
    "            mean=mean,\n",
    "            corr=\"squared_exponential\",\n",
    "            theta0=theta0,\n",
    "            thetaL=thetaL,\n",
    "            thetaU=thetaU,\n",
    "            nugget=0,\n",
    "            noise_estim=False,\n",
    "            optimizer=\"BFGS\",\n",
    "            wait_iter=3,\n",
    "            random_start=dim,\n",
    "            likelihood=\"concentrated\",\n",
    "            eval_budget=100 * dim,\n",
    "        )\n",
    "        opt = BO(\n",
    "            search_space=space,\n",
    "            obj_fun=obj_func,\n",
    "            model=model,\n",
    "            DoE_size=doe_size,\n",
    "            acquisition_fun=\"EI\",\n",
    "            initial_points=_X,\n",
    "            max_FEs=max_FEs,\n",
    "            verbose=verbose,\n",
    "            n_point=1\n",
    "        )\n",
    "        x, value, _ = opt.run()\n",
    "        return value - obj_func.getfopt()\n",
    "    return func"
   ]
  },
  {
   "cell_type": "code",
   "execution_count": 113,
   "id": "90def3b5",
   "metadata": {},
   "outputs": [],
   "source": [
    "obj_func = F21(1)\n",
    "regret = regret_function(obj_func, doe_size)"
   ]
  },
  {
   "cell_type": "code",
   "execution_count": 114,
   "id": "ebe0221d",
   "metadata": {},
   "outputs": [
    {
     "name": "stdout",
     "output_type": "stream",
     "text": [
      "(5_w,10)-aCMA-ES (mu_w=3.2,w_1=45%) in dimension 10 (seed=98496, Mon Oct 17 13:13:45 2022)\n",
      "Iterat #Fevals   function value  axis ratio  sigma  min&max std  t[m:s]\n",
      "    1     10 6.526985214870777e+00 1.0e+00 4.82e-01  5e-01  5e-01 0:00.3\n",
      "    2     20 2.011434718095828e+00 1.2e+00 5.07e-01  5e-01  5e-01 0:00.6\n",
      "    3     30 1.986158151215854e+00 1.3e+00 5.29e-01  5e-01  6e-01 0:00.8\n",
      "   22    220 2.682153071662086e-01 2.3e+00 9.77e-01  8e-01  1e+00 0:03.8\n",
      "   43    430 3.555628307971404e-03 3.7e+00 3.66e-01  2e-01  5e-01 0:07.8\n",
      "   69    690 4.067698286291943e-05 1.2e+01 2.70e-01  1e-01  4e-01 0:13.2\n",
      "   93    930 3.558730270469823e-07 2.5e+01 1.53e-01  3e-02  2e-01 0:19.3\n",
      "  100   1000 1.378381853101018e-10 2.8e+01 8.54e-02  2e-02  1e-01 0:20.4\n",
      "  142   1420 2.348343741687131e-11 1.4e+02 7.55e-02  5e-03  1e-01 0:28.4\n",
      "  196   1960 0.000000000000000e+00 7.8e+02 3.06e-02  4e-04  6e-02 0:36.9\n",
      "termination on tolfun=1e-11 (Mon Oct 17 13:14:22 2022)\n",
      "final/bestever f-value = 0.000000e+00 0.000000e+00\n",
      "incumbent solution: [-0.02291564  2.18451439  0.37073291 -2.046871   -1.95075607 -0.99775946\n",
      " -2.51480629 -1.78739424 ...]\n",
      "std deviations: [0.04428478 0.03327406 0.02975407 0.03408652 0.06447382 0.04795026\n",
      " 0.00049202 0.00038714 ...]\n"
     ]
    }
   ],
   "source": [
    "xopt, es = cma.fmin2(regret, np.zeros(2 * doe_size), 0.5)"
   ]
  },
  {
   "cell_type": "code",
   "execution_count": 115,
   "id": "596f3aa2",
   "metadata": {},
   "outputs": [
    {
     "data": {
      "text/plain": [
       "array([-2.51487651, -1.78747656])"
      ]
     },
     "execution_count": 115,
     "metadata": {},
     "output_type": "execute_result"
    }
   ],
   "source": [
    "obj_func._xopt"
   ]
  },
  {
   "cell_type": "code",
   "execution_count": 116,
   "id": "a3002558",
   "metadata": {},
   "outputs": [
    {
     "data": {
      "text/plain": [
       "[array([-0.19516681,  2.00839629]),\n",
       " array([ 0.33629866, -2.05740294]),\n",
       " array([-2.02113167, -1.37511151]),\n",
       " array([-2.51483613, -1.78743351]),\n",
       " array([0.32704453, 3.21379349])]"
      ]
     },
     "execution_count": 116,
     "metadata": {},
     "output_type": "execute_result"
    }
   ],
   "source": [
    "np.split(xopt, doe_size)"
   ]
  },
  {
   "cell_type": "code",
   "execution_count": 111,
   "id": "a1d9426d",
   "metadata": {},
   "outputs": [],
   "source": [
    "model = GaussianProcess(\n",
    "        mean=mean,\n",
    "        corr=\"squared_exponential\",\n",
    "        theta0=theta0,\n",
    "        thetaL=thetaL,\n",
    "        thetaU=thetaU,\n",
    "        nugget=0,\n",
    "        noise_estim=False,\n",
    "        optimizer=\"BFGS\",\n",
    "        wait_iter=3,\n",
    "        random_start=dim,\n",
    "        likelihood=\"concentrated\",\n",
    "        eval_budget=100 * dim,\n",
    "    )\n",
    "opt = BO(\n",
    "    search_space=space,\n",
    "    obj_fun=obj_func,\n",
    "    model=model,\n",
    "    DoE_size=doe_size,\n",
    "    acquisition_fun=\"EI\",\n",
    "    initial_points=np.split(xopt, doe_size),\n",
    "    max_FEs=max_FEs,\n",
    "    verbose=verbose,\n",
    "    n_point=1\n",
    ")"
   ]
  },
  {
   "cell_type": "code",
   "execution_count": 112,
   "id": "3101e074",
   "metadata": {},
   "outputs": [
    {
     "data": {
      "text/plain": [
       "([0.2528000084293766, -1.1568000321896277], array([79.48]), {'max_FEs': 5})"
      ]
     },
     "execution_count": 112,
     "metadata": {},
     "output_type": "execute_result"
    }
   ],
   "source": [
    "opt.run()"
   ]
  },
  {
   "cell_type": "code",
   "execution_count": null,
   "id": "14171092",
   "metadata": {},
   "outputs": [],
   "source": []
  }
 ],
 "metadata": {
  "kernelspec": {
   "display_name": "Python 3 (ipykernel)",
   "language": "python",
   "name": "python3"
  },
  "language_info": {
   "codemirror_mode": {
    "name": "ipython",
    "version": 3
   },
   "file_extension": ".py",
   "mimetype": "text/x-python",
   "name": "python",
   "nbconvert_exporter": "python",
   "pygments_lexer": "ipython3",
   "version": "3.9.12"
  }
 },
 "nbformat": 4,
 "nbformat_minor": 5
}
