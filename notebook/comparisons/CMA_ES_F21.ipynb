{
  "cells": [
    {
      "cell_type": "code",
      "execution_count": null,
      "metadata": {
        "colab": {
          "base_uri": "https://localhost:8080/"
        },
        "id": "zop16yDDNNTy",
        "outputId": "be697bdf-25b5-496a-9bf9-deefd67819ce"
      },
      "outputs": [
        {
          "output_type": "stream",
          "name": "stdout",
          "text": [
            "Looking in indexes: https://pypi.org/simple, https://us-python.pkg.dev/colab-wheels/public/simple/\n",
            "Collecting git+https://github.com/holounic/Bayesian-Optimization.git\n",
            "  Cloning https://github.com/holounic/Bayesian-Optimization.git to /tmp/pip-req-build-b3zm93r9\n",
            "  Running command git clone -q https://github.com/holounic/Bayesian-Optimization.git /tmp/pip-req-build-b3zm93r9\n",
            "  Installing build dependencies ... \u001b[?25l\u001b[?25hdone\n",
            "  Getting requirements to build wheel ... \u001b[?25l\u001b[?25hdone\n",
            "    Preparing wheel metadata ... \u001b[?25l\u001b[?25hdone\n",
            "Collecting pyDOE@ git+https://github.com/holounic/pyDOE\n",
            "  Cloning https://github.com/holounic/pyDOE to /tmp/pip-install-8c9eough/pydoe_4a5491b3435346c59fc8a86f88fc11e8\n",
            "  Running command git clone -q https://github.com/holounic/pyDOE /tmp/pip-install-8c9eough/pydoe_4a5491b3435346c59fc8a86f88fc11e8\n",
            "Requirement already satisfied: joblib>=1.0.0 in /usr/local/lib/python3.7/dist-packages (from bayes-optim==0.2.7) (1.2.0)\n",
            "Collecting pytest>=6.2.5\n",
            "  Downloading pytest-7.2.0-py3-none-any.whl (316 kB)\n",
            "\u001b[K     |████████████████████████████████| 316 kB 5.0 MB/s \n",
            "\u001b[?25hCollecting requests>=2.25.0\n",
            "  Downloading requests-2.28.1-py3-none-any.whl (62 kB)\n",
            "\u001b[K     |████████████████████████████████| 62 kB 1.4 MB/s \n",
            "\u001b[?25hRequirement already satisfied: scipy>=1.5.4 in /usr/local/lib/python3.7/dist-packages (from bayes-optim==0.2.7) (1.7.3)\n",
            "Requirement already satisfied: dill>=0.3.3 in /usr/local/lib/python3.7/dist-packages (from bayes-optim==0.2.7) (0.3.6)\n",
            "Requirement already satisfied: requests-oauthlib>=1.3.0 in /usr/local/lib/python3.7/dist-packages (from bayes-optim==0.2.7) (1.3.1)\n",
            "Requirement already satisfied: torch>=1.9.0 in /usr/local/lib/python3.7/dist-packages (from bayes-optim==0.2.7) (1.12.1+cu113)\n",
            "Requirement already satisfied: numpy>=1.19.2 in /usr/local/lib/python3.7/dist-packages (from bayes-optim==0.2.7) (1.21.6)\n",
            "Collecting sklearn==0.0\n",
            "  Downloading sklearn-0.0.tar.gz (1.1 kB)\n",
            "Requirement already satisfied: threadpoolctl>=2.1.0 in /usr/local/lib/python3.7/dist-packages (from bayes-optim==0.2.7) (3.1.0)\n",
            "Collecting py-expression-eval>=0.3.13\n",
            "  Downloading py_expression_eval-0.3.14-py3-none-any.whl (12 kB)\n",
            "Requirement already satisfied: scikit-learn>=0.23.2 in /usr/local/lib/python3.7/dist-packages (from bayes-optim==0.2.7) (1.0.2)\n",
            "Collecting sobol-seq>=0.2.0\n",
            "  Downloading sobol_seq-0.2.0-py3-none-any.whl (9.2 kB)\n",
            "Requirement already satisfied: tabulate>=0.8.7 in /usr/local/lib/python3.7/dist-packages (from bayes-optim==0.2.7) (0.8.10)\n",
            "Collecting exceptiongroup>=1.0.0rc8\n",
            "  Downloading exceptiongroup-1.0.4-py3-none-any.whl (14 kB)\n",
            "Requirement already satisfied: importlib-metadata>=0.12 in /usr/local/lib/python3.7/dist-packages (from pytest>=6.2.5->bayes-optim==0.2.7) (4.13.0)\n",
            "Requirement already satisfied: attrs>=19.2.0 in /usr/local/lib/python3.7/dist-packages (from pytest>=6.2.5->bayes-optim==0.2.7) (22.1.0)\n",
            "Requirement already satisfied: tomli>=1.0.0 in /usr/local/lib/python3.7/dist-packages (from pytest>=6.2.5->bayes-optim==0.2.7) (2.0.1)\n",
            "Collecting iniconfig\n",
            "  Downloading iniconfig-1.1.1-py2.py3-none-any.whl (5.0 kB)\n",
            "Collecting pluggy<2.0,>=0.12\n",
            "  Downloading pluggy-1.0.0-py2.py3-none-any.whl (13 kB)\n",
            "Requirement already satisfied: packaging in /usr/local/lib/python3.7/dist-packages (from pytest>=6.2.5->bayes-optim==0.2.7) (21.3)\n",
            "Requirement already satisfied: zipp>=0.5 in /usr/local/lib/python3.7/dist-packages (from importlib-metadata>=0.12->pytest>=6.2.5->bayes-optim==0.2.7) (3.10.0)\n",
            "Requirement already satisfied: typing-extensions>=3.6.4 in /usr/local/lib/python3.7/dist-packages (from importlib-metadata>=0.12->pytest>=6.2.5->bayes-optim==0.2.7) (4.1.1)\n",
            "Requirement already satisfied: charset-normalizer<3,>=2 in /usr/local/lib/python3.7/dist-packages (from requests>=2.25.0->bayes-optim==0.2.7) (2.1.1)\n",
            "Requirement already satisfied: idna<4,>=2.5 in /usr/local/lib/python3.7/dist-packages (from requests>=2.25.0->bayes-optim==0.2.7) (2.10)\n",
            "Requirement already satisfied: urllib3<1.27,>=1.21.1 in /usr/local/lib/python3.7/dist-packages (from requests>=2.25.0->bayes-optim==0.2.7) (1.24.3)\n",
            "Requirement already satisfied: certifi>=2017.4.17 in /usr/local/lib/python3.7/dist-packages (from requests>=2.25.0->bayes-optim==0.2.7) (2022.9.24)\n",
            "Requirement already satisfied: oauthlib>=3.0.0 in /usr/local/lib/python3.7/dist-packages (from requests-oauthlib>=1.3.0->bayes-optim==0.2.7) (3.2.2)\n",
            "Requirement already satisfied: pyparsing!=3.0.5,>=2.0.2 in /usr/local/lib/python3.7/dist-packages (from packaging->pytest>=6.2.5->bayes-optim==0.2.7) (3.0.9)\n",
            "Building wheels for collected packages: bayes-optim, pyDOE, sklearn\n",
            "  Building wheel for bayes-optim (PEP 517) ... \u001b[?25l\u001b[?25hdone\n",
            "  Created wheel for bayes-optim: filename=bayes_optim-0.2.7-py3-none-any.whl size=145056 sha256=fe6970374898e66b4a8808f6f8abfa7cda9c9245d02acf58bc40715421565bd0\n",
            "  Stored in directory: /tmp/pip-ephem-wheel-cache-rbm1dwkp/wheels/73/83/49/8a05ed204e57c8c6abbb4accee1e78a9486a23fbe0c281eb97\n",
            "  Building wheel for pyDOE (setup.py) ... \u001b[?25l\u001b[?25hdone\n",
            "  Created wheel for pyDOE: filename=pyDOE-0.3.8-py3-none-any.whl size=19276 sha256=5a655e5439b25b7d552c0801278e9f9e549deb25c1bfc0d51a1e34b7137a933d\n",
            "  Stored in directory: /tmp/pip-ephem-wheel-cache-rbm1dwkp/wheels/19/fe/80/432a17fa421f400bc89864e083ccd88ed501a0e7ce8067a27d\n",
            "  Building wheel for sklearn (setup.py) ... \u001b[?25l\u001b[?25hdone\n",
            "  Created wheel for sklearn: filename=sklearn-0.0-py2.py3-none-any.whl size=1309 sha256=f82f2cbb093ae3534f8d69da18b43ef1ecf7ef2554be85ba0d4670aba1fa3b96\n",
            "  Stored in directory: /root/.cache/pip/wheels/46/ef/c3/157e41f5ee1372d1be90b09f74f82b10e391eaacca8f22d33e\n",
            "Successfully built bayes-optim pyDOE sklearn\n",
            "Installing collected packages: requests, pluggy, iniconfig, exceptiongroup, sobol-seq, sklearn, pytest, pyDOE, py-expression-eval, bayes-optim\n",
            "  Attempting uninstall: requests\n",
            "    Found existing installation: requests 2.23.0\n",
            "    Uninstalling requests-2.23.0:\n",
            "      Successfully uninstalled requests-2.23.0\n",
            "  Attempting uninstall: pluggy\n",
            "    Found existing installation: pluggy 0.7.1\n",
            "    Uninstalling pluggy-0.7.1:\n",
            "      Successfully uninstalled pluggy-0.7.1\n",
            "  Attempting uninstall: pytest\n",
            "    Found existing installation: pytest 3.6.4\n",
            "    Uninstalling pytest-3.6.4:\n",
            "      Successfully uninstalled pytest-3.6.4\n",
            "Successfully installed bayes-optim-0.2.7 exceptiongroup-1.0.4 iniconfig-1.1.1 pluggy-1.0.0 py-expression-eval-0.3.14 pyDOE-0.3.8 pytest-7.2.0 requests-2.28.1 sklearn-0.0 sobol-seq-0.2.0\n",
            "Looking in indexes: https://pypi.org/simple, https://us-python.pkg.dev/colab-wheels/public/simple/\n",
            "Collecting cma\n",
            "  Downloading cma-3.2.2-py2.py3-none-any.whl (249 kB)\n",
            "\u001b[K     |████████████████████████████████| 249 kB 5.1 MB/s \n",
            "\u001b[?25hRequirement already satisfied: numpy in /usr/local/lib/python3.7/dist-packages (from cma) (1.21.6)\n",
            "Installing collected packages: cma\n",
            "Successfully installed cma-3.2.2\n"
          ]
        }
      ],
      "source": [
        "!pip3 install git+https://github.com/holounic/Bayesian-Optimization.git\n",
        "!pip3 install cma"
      ]
    },
    {
      "cell_type": "code",
      "execution_count": null,
      "metadata": {
        "id": "sovF8jezNWfY"
      },
      "outputs": [],
      "source": [
        "import numpy as np\n",
        "import matplotlib\n",
        "import matplotlib.pyplot as plt\n",
        "import pandas as pd\n",
        "\n",
        "import cma\n",
        "\n",
        "from pyDOE import lhs\n",
        "\n",
        "from bayes_optim import BO\n",
        "from bayes_optim.search_space import RealSpace\n",
        "from bayes_optim.surrogate import GaussianProcess, trend\n",
        "\n",
        "from benchmark.bbobbenchmarks import F21\n",
        "\n",
        "from tqdm.notebook import trange"
      ]
    },
    {
      "cell_type": "markdown",
      "metadata": {
        "id": "Ftb2fK4mNqfF"
      },
      "source": [
        "# Constants"
      ]
    },
    {
      "cell_type": "code",
      "execution_count": null,
      "metadata": {
        "id": "stgMEL6dNbhW"
      },
      "outputs": [],
      "source": [
        "np.random.seed(1111)\n",
        "\n",
        "dim = 2\n",
        "lb, ub = -5, 5\n",
        "\n",
        "mean = trend.constant_trend(dim, beta=None)\n",
        "thetaL = 1e-10 * (ub - lb) * np.ones(dim)\n",
        "thetaU = 10 * (ub - lb) * np.ones(dim)\n",
        "theta0 = np.random.rand(dim) * (thetaU - thetaL) + thetaL\n",
        "\n",
        "max_FEs = 2**5\n",
        "verbose = False\n",
        "\n",
        "doe_budget = 0.2\n",
        "doe_size = int(doe_budget * max_FEs)\n",
        "\n",
        "n_samples = 30000\n",
        "\n",
        "max_cma_iter = 20\n",
        "\n",
        "f = F21\n",
        "\n",
        "test_seeds = list(range(50))\n",
        "\n",
        "space = RealSpace([lb, ub]) * dim\n",
        "\n",
        "pop_size = int(4 + 3 * np.log(doe_size * dim) // 1)\n",
        "\n",
        "n_tests = 3\n",
        "\n",
        "f_name = 'f21'"
      ]
    },
    {
      "cell_type": "markdown",
      "metadata": {
        "id": "vhSa2vWHN4LH"
      },
      "source": [
        "# Make optimizer function"
      ]
    },
    {
      "cell_type": "code",
      "execution_count": null,
      "metadata": {
        "id": "VDqW3jl2NlGH"
      },
      "outputs": [],
      "source": [
        "def make_optimizer(obj_func, doe):\n",
        "    model = GaussianProcess(\n",
        "        mean=mean,\n",
        "        corr=\"squared_exponential\",\n",
        "        theta0=theta0,\n",
        "        thetaL=thetaL,\n",
        "        thetaU=thetaU,\n",
        "        nugget=0,\n",
        "        noise_estim=False,\n",
        "        optimizer=\"BFGS\",\n",
        "        wait_iter=3,\n",
        "        random_start=dim,\n",
        "        likelihood=\"concentrated\",\n",
        "        eval_budget=100 * dim\n",
        "    )\n",
        "    return BO(\n",
        "        search_space=space,\n",
        "        obj_fun=obj_func,\n",
        "        model=model,\n",
        "        DoE_size=len(doe),\n",
        "        acquisition_fun=\"EI\",\n",
        "        initial_points=doe,\n",
        "        max_FEs=max_FEs,\n",
        "        verbose=verbose,\n",
        "        n_point=1\n",
        "    )"
      ]
    },
    {
      "cell_type": "markdown",
      "metadata": {
        "id": "nKhU2qqAOrNk"
      },
      "source": [
        "# Experiment code"
      ]
    },
    {
      "cell_type": "code",
      "execution_count": null,
      "metadata": {
        "id": "SOfcpmHyOKCv"
      },
      "outputs": [],
      "source": [
        "def regret(obj_func, doe):\n",
        "  bo = make_optimizer(obj_func, doe)\n",
        "  xopt, yopt, _ = bo.run()\n",
        "  return yopt - obj_func.getfopt()\n",
        "\n",
        "def fitness_function(doe_size, n_individuals, func_seeds):\n",
        "  i = 0\n",
        "  def func(X):\n",
        "    nonlocal i\n",
        "    X = X.clip(lb, ub, out=X)\n",
        "    doe = np.split(X, doe_size)\n",
        "    obj_func = None\n",
        "    k = i // n_individuals\n",
        "    func_seed_set = func_seeds[k]\n",
        "    i += 1\n",
        "    r = 0\n",
        "    print(func_seed_set)\n",
        "    for func_seed in func_seed_set:\n",
        "      r += regret(f(func_seed), doe)\n",
        "    return r / len(func_seed_set)\n",
        "  return func\n",
        "\n",
        "def cma_es_experiment(doe_size, func_seeds, individual0, sigma0 = ub / 3):\n",
        "  # run cma-es \n",
        "  doe_flattened, es = cma.fmin2(fitness_function(doe_size, pop_size, func_seeds), individual0, sigma0, {'maxiter': max_cma_iter, 'popsize': pop_size})\n",
        "  \n",
        "  # split a vector into set of points\n",
        "  doe = np.split(doe_flattened, doe_size)\n",
        "\n",
        "  return doe, es"
      ]
    },
    {
      "cell_type": "markdown",
      "metadata": {
        "id": "knNc-i5UlXfY"
      },
      "source": [
        "# Testing code"
      ]
    },
    {
      "cell_type": "code",
      "execution_count": null,
      "metadata": {
        "id": "GoM0F1RpB-oM"
      },
      "outputs": [],
      "source": [
        "def additional_metrics(history):\n",
        "  for h in history:\n",
        "    func = f(h['f_s'])\n",
        "    y = func(h['xopt'])\n",
        "    real_x = func._getxopt()\n",
        "    d = np.linalg.norm(h['doe'] - real_x, axis=1)\n",
        "    h['min_dist_to_opt'] = d.min()\n",
        "    h['max_dist_to_opt'] = d.max()\n",
        "    h['real_xopt'] = real_x\n",
        "    h['real_yopt'] = func.getfopt()\n",
        "    h['bo_history'] = h['bo'].history\n",
        "  return history"
      ]
    },
    {
      "cell_type": "code",
      "execution_count": null,
      "metadata": {
        "id": "ogBc0uV5lZnu"
      },
      "outputs": [],
      "source": [
        "def compute_all(func_seed, doe, n=3, n_points=1000):\n",
        "  regrets, history, precisions = [], [], []\n",
        "  for _ in range(n):\n",
        "    obj_func = f(func_seed)\n",
        "    bo = make_optimizer(obj_func, doe)\n",
        "    xopt, yopt, _ = bo.run()\n",
        "    regret = yopt - obj_func.getfopt()\n",
        "    points = lhs(dim, n_points) * 10 - 5\n",
        "    predicted_y = np.concatenate(bo.model.predict(points))\n",
        "    real_y = obj_func(points)\n",
        "    precision = np.mean((predicted_y - real_y)**2)\n",
        "    precisions.append(precision)\n",
        "    regrets.append(regret)\n",
        "    history.append({'xopt': xopt, 'yopt': yopt, 'regret': regret, 'doe': doe, 'precision': precision, 'bo': bo, 'f_s': func_seed})\n",
        "  return np.concatenate(regrets).mean(), np.mean(precisions), history\n",
        "\n",
        "def test(doe, n=10):\n",
        "  precisions, regrets, history = [], [], []\n",
        "  for seed in trange(n):\n",
        "    doe = doe\n",
        "    r, p, h = compute_all(seed, doe, n=1, n_points=1000)\n",
        "    precisions.append(p)\n",
        "    regrets.append(r)\n",
        "    history.append(h[0])\n",
        "  return precisions, regrets, history"
      ]
    },
    {
      "cell_type": "markdown",
      "metadata": {
        "id": "NB7NuLCBUDth"
      },
      "source": [
        "# Experiments"
      ]
    },
    {
      "cell_type": "code",
      "execution_count": null,
      "metadata": {
        "colab": {
          "base_uri": "https://localhost:8080/"
        },
        "id": "t9t0r_IiUF2b",
        "outputId": "8c5ded2f-87e9-4d6d-9bab-9e2f75a07ee4"
      },
      "outputs": [
        {
          "output_type": "execute_result",
          "data": {
            "text/plain": [
              "array([ 0.38950572,  1.05763874, -4.98967912,  3.80685902, -1.76216423,\n",
              "       -4.87491682,  2.76696206, -0.90026304, -0.40056144, -3.05364234,\n",
              "        3.35280076,  1.9326086 ])"
            ]
          },
          "metadata": {},
          "execution_count": 8
        }
      ],
      "source": [
        "individual0 = np.concatenate(lhs(2, doe_size) * 10 - 5)\n",
        "individual0"
      ]
    },
    {
      "cell_type": "code",
      "execution_count": null,
      "metadata": {
        "colab": {
          "base_uri": "https://localhost:8080/"
        },
        "id": "TjTDQPqlQ4zM",
        "outputId": "6b0682c0-9784-427a-b72a-4b02faad9d56"
      },
      "outputs": [
        {
          "output_type": "execute_result",
          "data": {
            "text/plain": [
              "[[1475636620, 1134109346, 1333488308],\n",
              " [1005703320, 8632214, 651166484],\n",
              " [1011871627, 586793230, 1021307656],\n",
              " [1790440934, 1013250956, 23639534],\n",
              " [2128019186, 1941953366, 1221597576],\n",
              " [441380969, 543340478, 721493309],\n",
              " [458055347, 1529544234, 2001974348],\n",
              " [985630174, 1018474702, 2025616588],\n",
              " [1868994436, 1247560269, 1046561192],\n",
              " [104666121, 1648579849, 1890662871],\n",
              " [1453389842, 1597818624, 666513316],\n",
              " [104385800, 637573627, 705513029],\n",
              " [597623957, 101841489, 590019245],\n",
              " [1874809778, 476201470, 1524655072],\n",
              " [1846915629, 319501579, 1359356797],\n",
              " [114995871, 1157171255, 1425728285],\n",
              " [366794197, 1281455660, 708681325],\n",
              " [1428655094, 909226738, 2134097890],\n",
              " [1663587672, 1748947072, 1151088343],\n",
              " [1358540125, 1044006575, 1473510937],\n",
              " [0,\n",
              "  1,\n",
              "  2,\n",
              "  3,\n",
              "  4,\n",
              "  5,\n",
              "  6,\n",
              "  7,\n",
              "  8,\n",
              "  9,\n",
              "  10,\n",
              "  11,\n",
              "  12,\n",
              "  13,\n",
              "  14,\n",
              "  15,\n",
              "  16,\n",
              "  17,\n",
              "  18,\n",
              "  19,\n",
              "  20,\n",
              "  21,\n",
              "  22,\n",
              "  23,\n",
              "  24,\n",
              "  25,\n",
              "  26,\n",
              "  27,\n",
              "  28,\n",
              "  29,\n",
              "  30,\n",
              "  31,\n",
              "  32,\n",
              "  33,\n",
              "  34,\n",
              "  35,\n",
              "  36,\n",
              "  37,\n",
              "  38,\n",
              "  39,\n",
              "  40,\n",
              "  41,\n",
              "  42,\n",
              "  43,\n",
              "  44,\n",
              "  45,\n",
              "  46,\n",
              "  47,\n",
              "  48,\n",
              "  49]]"
            ]
          },
          "metadata": {},
          "execution_count": 9
        }
      ],
      "source": [
        "func_seeds = np.random.randint(0, 2**31, (max_cma_iter, n_tests)).tolist()\n",
        "func_seeds.append(test_seeds)\n",
        "func_seeds"
      ]
    },
    {
      "cell_type": "code",
      "execution_count": null,
      "metadata": {
        "colab": {
          "base_uri": "https://localhost:8080/"
        },
        "id": "QFEsG07LTgdY",
        "outputId": "6c104812-b617-4f02-e5ca-0f4d2027d63b"
      },
      "outputs": [
        {
          "output_type": "stream",
          "name": "stdout",
          "text": [
            "(5_w,11)-aCMA-ES (mu_w=3.4,w_1=42%) in dimension 12 (seed=799783, Wed Nov 16 18:19:46 2022)\n",
            "[1475636620, 1134109346, 1333488308]\n",
            "[1475636620, 1134109346, 1333488308]\n",
            "[1475636620, 1134109346, 1333488308]\n",
            "[1475636620, 1134109346, 1333488308]\n",
            "[1475636620, 1134109346, 1333488308]\n",
            "[1475636620, 1134109346, 1333488308]\n",
            "[1475636620, 1134109346, 1333488308]\n",
            "[1475636620, 1134109346, 1333488308]\n",
            "[1475636620, 1134109346, 1333488308]\n",
            "[1475636620, 1134109346, 1333488308]\n",
            "[1475636620, 1134109346, 1333488308]\n",
            "Iterat #Fevals   function value  axis ratio  sigma  min&max std  t[m:s]\n",
            "    1     11 6.506769671141596e-01 1.0e+00 1.68e+00  2e+00  2e+00 2:25.7\n",
            "[1005703320, 8632214, 651166484]\n",
            "[1005703320, 8632214, 651166484]\n",
            "[1005703320, 8632214, 651166484]\n",
            "[1005703320, 8632214, 651166484]\n",
            "[1005703320, 8632214, 651166484]\n",
            "[1005703320, 8632214, 651166484]\n",
            "[1005703320, 8632214, 651166484]\n",
            "[1005703320, 8632214, 651166484]\n",
            "[1005703320, 8632214, 651166484]\n",
            "[1005703320, 8632214, 651166484]\n",
            "[1005703320, 8632214, 651166484]\n",
            "    2     22 5.928133396265002e-01 1.2e+00 1.75e+00  2e+00  2e+00 4:55.8\n",
            "[1011871627, 586793230, 1021307656]\n",
            "[1011871627, 586793230, 1021307656]\n",
            "[1011871627, 586793230, 1021307656]\n",
            "[1011871627, 586793230, 1021307656]\n",
            "[1011871627, 586793230, 1021307656]\n",
            "[1011871627, 586793230, 1021307656]\n",
            "[1011871627, 586793230, 1021307656]\n",
            "[1011871627, 586793230, 1021307656]\n",
            "[1011871627, 586793230, 1021307656]\n",
            "[1011871627, 586793230, 1021307656]\n",
            "[1011871627, 586793230, 1021307656]\n",
            "    3     33 1.666493930094930e-01 1.3e+00 1.82e+00  2e+00  2e+00 7:09.9\n",
            "[1790440934, 1013250956, 23639534]\n",
            "[1790440934, 1013250956, 23639534]\n",
            "[1790440934, 1013250956, 23639534]\n",
            "[1790440934, 1013250956, 23639534]\n",
            "[1790440934, 1013250956, 23639534]\n",
            "[1790440934, 1013250956, 23639534]\n",
            "[1790440934, 1013250956, 23639534]\n",
            "[1790440934, 1013250956, 23639534]\n",
            "[1790440934, 1013250956, 23639534]\n",
            "[1790440934, 1013250956, 23639534]\n",
            "[1790440934, 1013250956, 23639534]\n",
            "    4     44 7.066269559341171e-01 1.4e+00 1.86e+00  2e+00  2e+00 9:37.2\n",
            "[2128019186, 1941953366, 1221597576]\n",
            "[2128019186, 1941953366, 1221597576]\n",
            "[2128019186, 1941953366, 1221597576]\n",
            "[2128019186, 1941953366, 1221597576]\n",
            "[2128019186, 1941953366, 1221597576]\n",
            "[2128019186, 1941953366, 1221597576]\n",
            "[2128019186, 1941953366, 1221597576]\n",
            "[2128019186, 1941953366, 1221597576]\n",
            "[2128019186, 1941953366, 1221597576]\n",
            "[2128019186, 1941953366, 1221597576]\n",
            "[2128019186, 1941953366, 1221597576]\n",
            "    5     55 5.745312911762923e-02 1.5e+00 1.95e+00  2e+00  2e+00 12:03.3\n",
            "[441380969, 543340478, 721493309]\n",
            "[441380969, 543340478, 721493309]\n",
            "[441380969, 543340478, 721493309]\n",
            "[441380969, 543340478, 721493309]\n",
            "[441380969, 543340478, 721493309]\n",
            "[441380969, 543340478, 721493309]\n",
            "[441380969, 543340478, 721493309]\n",
            "[441380969, 543340478, 721493309]\n",
            "[441380969, 543340478, 721493309]\n",
            "[441380969, 543340478, 721493309]\n",
            "[441380969, 543340478, 721493309]\n",
            "    6     66 4.988066676428637e-01 1.6e+00 1.90e+00  2e+00  2e+00 14:23.2\n",
            "[458055347, 1529544234, 2001974348]\n",
            "[458055347, 1529544234, 2001974348]\n",
            "[458055347, 1529544234, 2001974348]\n",
            "[458055347, 1529544234, 2001974348]\n",
            "[458055347, 1529544234, 2001974348]\n",
            "[458055347, 1529544234, 2001974348]\n",
            "[458055347, 1529544234, 2001974348]\n",
            "[458055347, 1529544234, 2001974348]\n",
            "[458055347, 1529544234, 2001974348]\n",
            "[458055347, 1529544234, 2001974348]\n",
            "[458055347, 1529544234, 2001974348]\n",
            "    7     77 4.098510533885460e-01 1.5e+00 1.81e+00  2e+00  2e+00 16:45.4\n",
            "[985630174, 1018474702, 2025616588]\n",
            "[985630174, 1018474702, 2025616588]\n",
            "[985630174, 1018474702, 2025616588]\n",
            "[985630174, 1018474702, 2025616588]\n",
            "[985630174, 1018474702, 2025616588]\n",
            "[985630174, 1018474702, 2025616588]\n",
            "[985630174, 1018474702, 2025616588]\n",
            "[985630174, 1018474702, 2025616588]\n",
            "[985630174, 1018474702, 2025616588]\n",
            "[985630174, 1018474702, 2025616588]\n",
            "[985630174, 1018474702, 2025616588]\n",
            "    8     88 5.433657497686303e-02 1.5e+00 1.75e+00  2e+00  2e+00 19:16.5\n",
            "[1868994436, 1247560269, 1046561192]\n",
            "[1868994436, 1247560269, 1046561192]\n",
            "[1868994436, 1247560269, 1046561192]\n",
            "[1868994436, 1247560269, 1046561192]\n",
            "[1868994436, 1247560269, 1046561192]\n",
            "[1868994436, 1247560269, 1046561192]\n",
            "[1868994436, 1247560269, 1046561192]\n",
            "[1868994436, 1247560269, 1046561192]\n",
            "[1868994436, 1247560269, 1046561192]\n",
            "[1868994436, 1247560269, 1046561192]\n",
            "[1868994436, 1247560269, 1046561192]\n",
            "    9     99 4.606013987496287e-01 1.6e+00 1.66e+00  2e+00  2e+00 21:36.7\n",
            "[104666121, 1648579849, 1890662871]\n",
            "[104666121, 1648579849, 1890662871]\n",
            "[104666121, 1648579849, 1890662871]\n",
            "[104666121, 1648579849, 1890662871]\n",
            "[104666121, 1648579849, 1890662871]\n",
            "[104666121, 1648579849, 1890662871]\n",
            "[104666121, 1648579849, 1890662871]\n",
            "[104666121, 1648579849, 1890662871]\n",
            "[104666121, 1648579849, 1890662871]\n",
            "[104666121, 1648579849, 1890662871]\n",
            "[104666121, 1648579849, 1890662871]\n",
            "   10    110 4.568443071610394e-01 1.6e+00 1.61e+00  1e+00  2e+00 23:47.8\n",
            "[1453389842, 1597818624, 666513316]\n",
            "[1453389842, 1597818624, 666513316]\n",
            "[1453389842, 1597818624, 666513316]\n",
            "[1453389842, 1597818624, 666513316]\n",
            "[1453389842, 1597818624, 666513316]\n",
            "[1453389842, 1597818624, 666513316]\n",
            "[1453389842, 1597818624, 666513316]\n",
            "[1453389842, 1597818624, 666513316]\n",
            "[1453389842, 1597818624, 666513316]\n",
            "[1453389842, 1597818624, 666513316]\n",
            "[1453389842, 1597818624, 666513316]\n",
            "   11    121 1.336773479931660e-01 1.6e+00 1.81e+00  2e+00  2e+00 26:10.8\n",
            "[104385800, 637573627, 705513029]\n",
            "[104385800, 637573627, 705513029]\n",
            "[104385800, 637573627, 705513029]\n",
            "[104385800, 637573627, 705513029]\n",
            "[104385800, 637573627, 705513029]\n",
            "[104385800, 637573627, 705513029]\n",
            "[104385800, 637573627, 705513029]\n",
            "[104385800, 637573627, 705513029]\n",
            "[104385800, 637573627, 705513029]\n",
            "[104385800, 637573627, 705513029]\n",
            "[104385800, 637573627, 705513029]\n",
            "   12    132 4.410667756017285e-01 1.6e+00 1.89e+00  2e+00  2e+00 28:34.7\n",
            "[597623957, 101841489, 590019245]\n",
            "[597623957, 101841489, 590019245]\n",
            "[597623957, 101841489, 590019245]\n",
            "[597623957, 101841489, 590019245]\n",
            "[597623957, 101841489, 590019245]\n",
            "[597623957, 101841489, 590019245]\n",
            "[597623957, 101841489, 590019245]\n",
            "[597623957, 101841489, 590019245]\n",
            "[597623957, 101841489, 590019245]\n",
            "[597623957, 101841489, 590019245]\n",
            "[597623957, 101841489, 590019245]\n",
            "   13    143 5.320041497091950e-01 1.6e+00 1.86e+00  2e+00  2e+00 31:00.3\n",
            "[1874809778, 476201470, 1524655072]\n",
            "[1874809778, 476201470, 1524655072]\n",
            "[1874809778, 476201470, 1524655072]\n",
            "[1874809778, 476201470, 1524655072]\n",
            "[1874809778, 476201470, 1524655072]\n",
            "[1874809778, 476201470, 1524655072]\n",
            "[1874809778, 476201470, 1524655072]\n",
            "[1874809778, 476201470, 1524655072]\n",
            "[1874809778, 476201470, 1524655072]\n",
            "[1874809778, 476201470, 1524655072]\n",
            "[1874809778, 476201470, 1524655072]\n",
            "   14    154 2.274456874513765e-01 1.7e+00 1.92e+00  2e+00  2e+00 33:21.2\n",
            "[1846915629, 319501579, 1359356797]\n",
            "[1846915629, 319501579, 1359356797]\n",
            "[1846915629, 319501579, 1359356797]\n",
            "[1846915629, 319501579, 1359356797]\n",
            "[1846915629, 319501579, 1359356797]\n",
            "[1846915629, 319501579, 1359356797]\n",
            "[1846915629, 319501579, 1359356797]\n",
            "[1846915629, 319501579, 1359356797]\n",
            "[1846915629, 319501579, 1359356797]\n",
            "[1846915629, 319501579, 1359356797]\n",
            "[1846915629, 319501579, 1359356797]\n",
            "   15    165 5.992588432392679e-01 1.7e+00 2.07e+00  2e+00  2e+00 35:44.3\n",
            "[114995871, 1157171255, 1425728285]\n",
            "[114995871, 1157171255, 1425728285]\n",
            "[114995871, 1157171255, 1425728285]\n",
            "[114995871, 1157171255, 1425728285]\n",
            "[114995871, 1157171255, 1425728285]\n",
            "[114995871, 1157171255, 1425728285]\n",
            "[114995871, 1157171255, 1425728285]\n",
            "[114995871, 1157171255, 1425728285]\n",
            "[114995871, 1157171255, 1425728285]\n",
            "[114995871, 1157171255, 1425728285]\n",
            "[114995871, 1157171255, 1425728285]\n",
            "   16    176 3.481398902403943e-01 1.7e+00 2.19e+00  2e+00  2e+00 38:08.8\n",
            "[366794197, 1281455660, 708681325]\n",
            "[366794197, 1281455660, 708681325]\n",
            "[366794197, 1281455660, 708681325]\n",
            "[366794197, 1281455660, 708681325]\n",
            "[366794197, 1281455660, 708681325]\n",
            "[366794197, 1281455660, 708681325]\n",
            "[366794197, 1281455660, 708681325]\n",
            "[366794197, 1281455660, 708681325]\n",
            "[366794197, 1281455660, 708681325]\n",
            "[366794197, 1281455660, 708681325]\n",
            "[366794197, 1281455660, 708681325]\n",
            "   17    187 7.059241252363364e-01 1.8e+00 2.20e+00  2e+00  2e+00 40:31.1\n",
            "[1428655094, 909226738, 2134097890]\n",
            "[1428655094, 909226738, 2134097890]\n",
            "[1428655094, 909226738, 2134097890]\n",
            "[1428655094, 909226738, 2134097890]\n",
            "[1428655094, 909226738, 2134097890]\n",
            "[1428655094, 909226738, 2134097890]\n",
            "[1428655094, 909226738, 2134097890]\n",
            "[1428655094, 909226738, 2134097890]\n",
            "[1428655094, 909226738, 2134097890]\n",
            "[1428655094, 909226738, 2134097890]\n",
            "[1428655094, 909226738, 2134097890]\n",
            "   18    198 2.218277760318514e-01 1.8e+00 2.01e+00  2e+00  2e+00 42:47.4\n",
            "[1663587672, 1748947072, 1151088343]\n",
            "[1663587672, 1748947072, 1151088343]\n",
            "[1663587672, 1748947072, 1151088343]\n",
            "[1663587672, 1748947072, 1151088343]\n",
            "[1663587672, 1748947072, 1151088343]\n",
            "[1663587672, 1748947072, 1151088343]\n",
            "[1663587672, 1748947072, 1151088343]\n",
            "[1663587672, 1748947072, 1151088343]\n",
            "[1663587672, 1748947072, 1151088343]\n",
            "[1663587672, 1748947072, 1151088343]\n",
            "[1663587672, 1748947072, 1151088343]\n",
            "   19    209 3.185157040925712e-01 1.9e+00 1.91e+00  2e+00  2e+00 45:08.6\n",
            "[1358540125, 1044006575, 1473510937]\n",
            "[1358540125, 1044006575, 1473510937]\n",
            "[1358540125, 1044006575, 1473510937]\n",
            "[1358540125, 1044006575, 1473510937]\n",
            "[1358540125, 1044006575, 1473510937]\n",
            "[1358540125, 1044006575, 1473510937]\n",
            "[1358540125, 1044006575, 1473510937]\n",
            "[1358540125, 1044006575, 1473510937]\n",
            "[1358540125, 1044006575, 1473510937]\n",
            "[1358540125, 1044006575, 1473510937]\n",
            "[1358540125, 1044006575, 1473510937]\n",
            "   20    220 2.275541746280870e-02 1.9e+00 2.00e+00  2e+00  2e+00 47:28.3\n",
            "[0, 1, 2, 3, 4, 5, 6, 7, 8, 9, 10, 11, 12, 13, 14, 15, 16, 17, 18, 19, 20, 21, 22, 23, 24, 25, 26, 27, 28, 29, 30, 31, 32, 33, 34, 35, 36, 37, 38, 39, 40, 41, 42, 43, 44, 45, 46, 47, 48, 49]\n",
            "termination on maxiter=20 (Wed Nov 16 19:10:39 2022)\n",
            "final/bestever f-value = 9.106225e-01 2.275542e-02\n",
            "incumbent solution: [-1.75445849 -1.03838519  0.05632151  1.87541399 -0.92233751 -1.00048832\n",
            "  2.12079819 -2.25120353 ...]\n",
            "std deviations: [2.07781566 2.0232643  2.03487508 1.99455646 1.63966882 2.26137156\n",
            " 1.77456223 2.16024874 ...]\n"
          ]
        }
      ],
      "source": [
        "doe, es = cma_es_experiment(doe_size, func_seeds, individual0, sigma0 = ub / 3)"
      ]
    },
    {
      "cell_type": "code",
      "execution_count": null,
      "metadata": {
        "colab": {
          "base_uri": "https://localhost:8080/"
        },
        "id": "juFt6SPf4cNO",
        "outputId": "16fe8a37-5400-4d4b-9620-6d1b3c076490"
      },
      "outputs": [
        {
          "output_type": "execute_result",
          "data": {
            "text/plain": [
              "[array([-1.34472485,  0.22092631]),\n",
              " array([-0.15933919,  0.58006748]),\n",
              " array([-1.67143625, -1.47604456]),\n",
              " array([ 0.97891983, -3.08704658]),\n",
              " array([ 1.88175575, -1.06267647]),\n",
              " array([ 3.82500116, -2.04491453])]"
            ]
          },
          "metadata": {},
          "execution_count": 11
        }
      ],
      "source": [
        "doe"
      ]
    },
    {
      "cell_type": "code",
      "execution_count": null,
      "metadata": {
        "colab": {
          "base_uri": "https://localhost:8080/",
          "height": 49,
          "referenced_widgets": [
            "00d084c826a64a61a5bc22a7e11dc354",
            "c2f598d4267a469cb2fb7541ef686ab8",
            "349076ab7fab4722926693d3bcd4f0ac",
            "80371401dfd447ab86dc797a536e6cd6",
            "c269a1caf55d405f94d4cafb6529bc3c",
            "0b94306e3ba344d5bcdf8e58470ee571",
            "d3afd7eea0a6434e9eee42344bf43336",
            "4aeb01a837fa464c9b0d1d3b051a3ff7",
            "574cd20299854c37bb9db468a6fe3068",
            "a80dcdcd6ff34997b94d8b373a1eafd4",
            "b313f5e1c9c24cf6ad23b3993c174117"
          ]
        },
        "id": "QKISWjXM4m6h",
        "outputId": "a3479bc5-2bc8-443c-8938-831c80a031bf"
      },
      "outputs": [
        {
          "data": {
            "application/vnd.jupyter.widget-view+json": {
              "model_id": "00d084c826a64a61a5bc22a7e11dc354",
              "version_major": 2,
              "version_minor": 0
            },
            "text/plain": [
              "  0%|          | 0/50 [00:00<?, ?it/s]"
            ]
          },
          "metadata": {},
          "output_type": "display_data"
        }
      ],
      "source": [
        "precision, regrets, history = test(doe, n=50)"
      ]
    },
    {
      "cell_type": "code",
      "execution_count": null,
      "metadata": {
        "colab": {
          "base_uri": "https://localhost:8080/"
        },
        "id": "X365t3XG6gew",
        "outputId": "ca21fe08-ea94-4e8b-91a7-9743042e284c"
      },
      "outputs": [
        {
          "output_type": "execute_result",
          "data": {
            "text/plain": [
              "146779.31433741795"
            ]
          },
          "metadata": {},
          "execution_count": 14
        }
      ],
      "source": [
        "np.mean(precision)"
      ]
    },
    {
      "cell_type": "code",
      "execution_count": null,
      "metadata": {
        "colab": {
          "base_uri": "https://localhost:8080/"
        },
        "id": "X9gcGak268EZ",
        "outputId": "67273f01-8784-4a46-d39e-1b984356e74e"
      },
      "outputs": [
        {
          "output_type": "execute_result",
          "data": {
            "text/plain": [
              "[array([0.38950572, 1.05763874]),\n",
              " array([-4.98967912,  3.80685902]),\n",
              " array([-1.76216423, -4.87491682]),\n",
              " array([ 2.76696206, -0.90026304]),\n",
              " array([-0.40056144, -3.05364234]),\n",
              " array([3.35280076, 1.9326086 ])]"
            ]
          },
          "metadata": {},
          "execution_count": 15
        }
      ],
      "source": [
        "doe_lhs = np.split(individual0, doe_size)\n",
        "doe_lhs"
      ]
    },
    {
      "cell_type": "code",
      "execution_count": null,
      "metadata": {
        "colab": {
          "base_uri": "https://localhost:8080/",
          "height": 49,
          "referenced_widgets": [
            "c0ab8e3f36f14a3683913f31f3bef329",
            "8e370215755843019e729a88fbb7164c",
            "152d625cdbe74833a288289edf78bbbf",
            "156809af65e84193b98086461a77810e",
            "24b9180281f34acca98246b2b9d1d8d5",
            "0f27652d6b7a4a33b18a8181234fdedc",
            "dcb665659b154316a6fd41d39ebcc7b9",
            "41b2350907334d04854a59977735e7ca",
            "db769bbb6a384836b4a124ef9ccc2269",
            "7bbce4c7fdda4f99b9182f81701d24a7",
            "6b33ed5af9c2478c8dad9caa4123866a"
          ]
        },
        "id": "q0mv-R_h7AOq",
        "outputId": "df01c958-1bfd-43bd-a803-528fe980883c"
      },
      "outputs": [
        {
          "output_type": "display_data",
          "data": {
            "text/plain": [
              "  0%|          | 0/50 [00:00<?, ?it/s]"
            ],
            "application/vnd.jupyter.widget-view+json": {
              "version_major": 2,
              "version_minor": 0,
              "model_id": "c0ab8e3f36f14a3683913f31f3bef329"
            }
          },
          "metadata": {}
        }
      ],
      "source": [
        "lhs_precision, lhs_regrets, lhs_history = test(doe_lhs, n=50)"
      ]
    },
    {
      "cell_type": "code",
      "execution_count": null,
      "metadata": {
        "colab": {
          "base_uri": "https://localhost:8080/"
        },
        "id": "JdeKn5UW8Kdy",
        "outputId": "15b00cd8-f71d-4022-8da2-ee2fb81b2cca"
      },
      "outputs": [
        {
          "output_type": "execute_result",
          "data": {
            "text/plain": [
              "146699.32710877174"
            ]
          },
          "metadata": {},
          "execution_count": 17
        }
      ],
      "source": [
        "np.mean(lhs_precision)"
      ]
    },
    {
      "cell_type": "code",
      "execution_count": null,
      "metadata": {
        "id": "uaQM-JXdBkVI"
      },
      "outputs": [],
      "source": [
        "pd.DataFrame(additional_metrics(history)).drop('bo', axis=1).to_csv(f'{f_name}_cma_es_doe.csv')"
      ]
    },
    {
      "cell_type": "code",
      "execution_count": null,
      "metadata": {
        "id": "L7bKbKm6KLCP"
      },
      "outputs": [],
      "source": [
        "pd.DataFrame(additional_metrics(lhs_history)).drop('bo', axis=1).to_csv(f'{f_name}_lhs_initial_doe.csv')"
      ]
    }
  ],
  "metadata": {
    "colab": {
      "provenance": []
    },
    "kernelspec": {
      "display_name": "Python 3",
      "name": "python3"
    },
    "language_info": {
      "name": "python"
    },
    "widgets": {
      "application/vnd.jupyter.widget-state+json": {
        "00d084c826a64a61a5bc22a7e11dc354": {
          "model_module": "@jupyter-widgets/controls",
          "model_name": "HBoxModel",
          "model_module_version": "1.5.0",
          "state": {
            "_dom_classes": [],
            "_model_module": "@jupyter-widgets/controls",
            "_model_module_version": "1.5.0",
            "_model_name": "HBoxModel",
            "_view_count": null,
            "_view_module": "@jupyter-widgets/controls",
            "_view_module_version": "1.5.0",
            "_view_name": "HBoxView",
            "box_style": "",
            "children": [
              "IPY_MODEL_c2f598d4267a469cb2fb7541ef686ab8",
              "IPY_MODEL_349076ab7fab4722926693d3bcd4f0ac",
              "IPY_MODEL_80371401dfd447ab86dc797a536e6cd6"
            ],
            "layout": "IPY_MODEL_c269a1caf55d405f94d4cafb6529bc3c"
          }
        },
        "c2f598d4267a469cb2fb7541ef686ab8": {
          "model_module": "@jupyter-widgets/controls",
          "model_name": "HTMLModel",
          "model_module_version": "1.5.0",
          "state": {
            "_dom_classes": [],
            "_model_module": "@jupyter-widgets/controls",
            "_model_module_version": "1.5.0",
            "_model_name": "HTMLModel",
            "_view_count": null,
            "_view_module": "@jupyter-widgets/controls",
            "_view_module_version": "1.5.0",
            "_view_name": "HTMLView",
            "description": "",
            "description_tooltip": null,
            "layout": "IPY_MODEL_0b94306e3ba344d5bcdf8e58470ee571",
            "placeholder": "​",
            "style": "IPY_MODEL_d3afd7eea0a6434e9eee42344bf43336",
            "value": "100%"
          }
        },
        "349076ab7fab4722926693d3bcd4f0ac": {
          "model_module": "@jupyter-widgets/controls",
          "model_name": "FloatProgressModel",
          "model_module_version": "1.5.0",
          "state": {
            "_dom_classes": [],
            "_model_module": "@jupyter-widgets/controls",
            "_model_module_version": "1.5.0",
            "_model_name": "FloatProgressModel",
            "_view_count": null,
            "_view_module": "@jupyter-widgets/controls",
            "_view_module_version": "1.5.0",
            "_view_name": "ProgressView",
            "bar_style": "success",
            "description": "",
            "description_tooltip": null,
            "layout": "IPY_MODEL_4aeb01a837fa464c9b0d1d3b051a3ff7",
            "max": 50,
            "min": 0,
            "orientation": "horizontal",
            "style": "IPY_MODEL_574cd20299854c37bb9db468a6fe3068",
            "value": 50
          }
        },
        "80371401dfd447ab86dc797a536e6cd6": {
          "model_module": "@jupyter-widgets/controls",
          "model_name": "HTMLModel",
          "model_module_version": "1.5.0",
          "state": {
            "_dom_classes": [],
            "_model_module": "@jupyter-widgets/controls",
            "_model_module_version": "1.5.0",
            "_model_name": "HTMLModel",
            "_view_count": null,
            "_view_module": "@jupyter-widgets/controls",
            "_view_module_version": "1.5.0",
            "_view_name": "HTMLView",
            "description": "",
            "description_tooltip": null,
            "layout": "IPY_MODEL_a80dcdcd6ff34997b94d8b373a1eafd4",
            "placeholder": "​",
            "style": "IPY_MODEL_b313f5e1c9c24cf6ad23b3993c174117",
            "value": " 50/50 [03:35&lt;00:00,  3.86s/it]"
          }
        },
        "c269a1caf55d405f94d4cafb6529bc3c": {
          "model_module": "@jupyter-widgets/base",
          "model_name": "LayoutModel",
          "model_module_version": "1.2.0",
          "state": {
            "_model_module": "@jupyter-widgets/base",
            "_model_module_version": "1.2.0",
            "_model_name": "LayoutModel",
            "_view_count": null,
            "_view_module": "@jupyter-widgets/base",
            "_view_module_version": "1.2.0",
            "_view_name": "LayoutView",
            "align_content": null,
            "align_items": null,
            "align_self": null,
            "border": null,
            "bottom": null,
            "display": null,
            "flex": null,
            "flex_flow": null,
            "grid_area": null,
            "grid_auto_columns": null,
            "grid_auto_flow": null,
            "grid_auto_rows": null,
            "grid_column": null,
            "grid_gap": null,
            "grid_row": null,
            "grid_template_areas": null,
            "grid_template_columns": null,
            "grid_template_rows": null,
            "height": null,
            "justify_content": null,
            "justify_items": null,
            "left": null,
            "margin": null,
            "max_height": null,
            "max_width": null,
            "min_height": null,
            "min_width": null,
            "object_fit": null,
            "object_position": null,
            "order": null,
            "overflow": null,
            "overflow_x": null,
            "overflow_y": null,
            "padding": null,
            "right": null,
            "top": null,
            "visibility": null,
            "width": null
          }
        },
        "0b94306e3ba344d5bcdf8e58470ee571": {
          "model_module": "@jupyter-widgets/base",
          "model_name": "LayoutModel",
          "model_module_version": "1.2.0",
          "state": {
            "_model_module": "@jupyter-widgets/base",
            "_model_module_version": "1.2.0",
            "_model_name": "LayoutModel",
            "_view_count": null,
            "_view_module": "@jupyter-widgets/base",
            "_view_module_version": "1.2.0",
            "_view_name": "LayoutView",
            "align_content": null,
            "align_items": null,
            "align_self": null,
            "border": null,
            "bottom": null,
            "display": null,
            "flex": null,
            "flex_flow": null,
            "grid_area": null,
            "grid_auto_columns": null,
            "grid_auto_flow": null,
            "grid_auto_rows": null,
            "grid_column": null,
            "grid_gap": null,
            "grid_row": null,
            "grid_template_areas": null,
            "grid_template_columns": null,
            "grid_template_rows": null,
            "height": null,
            "justify_content": null,
            "justify_items": null,
            "left": null,
            "margin": null,
            "max_height": null,
            "max_width": null,
            "min_height": null,
            "min_width": null,
            "object_fit": null,
            "object_position": null,
            "order": null,
            "overflow": null,
            "overflow_x": null,
            "overflow_y": null,
            "padding": null,
            "right": null,
            "top": null,
            "visibility": null,
            "width": null
          }
        },
        "d3afd7eea0a6434e9eee42344bf43336": {
          "model_module": "@jupyter-widgets/controls",
          "model_name": "DescriptionStyleModel",
          "model_module_version": "1.5.0",
          "state": {
            "_model_module": "@jupyter-widgets/controls",
            "_model_module_version": "1.5.0",
            "_model_name": "DescriptionStyleModel",
            "_view_count": null,
            "_view_module": "@jupyter-widgets/base",
            "_view_module_version": "1.2.0",
            "_view_name": "StyleView",
            "description_width": ""
          }
        },
        "4aeb01a837fa464c9b0d1d3b051a3ff7": {
          "model_module": "@jupyter-widgets/base",
          "model_name": "LayoutModel",
          "model_module_version": "1.2.0",
          "state": {
            "_model_module": "@jupyter-widgets/base",
            "_model_module_version": "1.2.0",
            "_model_name": "LayoutModel",
            "_view_count": null,
            "_view_module": "@jupyter-widgets/base",
            "_view_module_version": "1.2.0",
            "_view_name": "LayoutView",
            "align_content": null,
            "align_items": null,
            "align_self": null,
            "border": null,
            "bottom": null,
            "display": null,
            "flex": null,
            "flex_flow": null,
            "grid_area": null,
            "grid_auto_columns": null,
            "grid_auto_flow": null,
            "grid_auto_rows": null,
            "grid_column": null,
            "grid_gap": null,
            "grid_row": null,
            "grid_template_areas": null,
            "grid_template_columns": null,
            "grid_template_rows": null,
            "height": null,
            "justify_content": null,
            "justify_items": null,
            "left": null,
            "margin": null,
            "max_height": null,
            "max_width": null,
            "min_height": null,
            "min_width": null,
            "object_fit": null,
            "object_position": null,
            "order": null,
            "overflow": null,
            "overflow_x": null,
            "overflow_y": null,
            "padding": null,
            "right": null,
            "top": null,
            "visibility": null,
            "width": null
          }
        },
        "574cd20299854c37bb9db468a6fe3068": {
          "model_module": "@jupyter-widgets/controls",
          "model_name": "ProgressStyleModel",
          "model_module_version": "1.5.0",
          "state": {
            "_model_module": "@jupyter-widgets/controls",
            "_model_module_version": "1.5.0",
            "_model_name": "ProgressStyleModel",
            "_view_count": null,
            "_view_module": "@jupyter-widgets/base",
            "_view_module_version": "1.2.0",
            "_view_name": "StyleView",
            "bar_color": null,
            "description_width": ""
          }
        },
        "a80dcdcd6ff34997b94d8b373a1eafd4": {
          "model_module": "@jupyter-widgets/base",
          "model_name": "LayoutModel",
          "model_module_version": "1.2.0",
          "state": {
            "_model_module": "@jupyter-widgets/base",
            "_model_module_version": "1.2.0",
            "_model_name": "LayoutModel",
            "_view_count": null,
            "_view_module": "@jupyter-widgets/base",
            "_view_module_version": "1.2.0",
            "_view_name": "LayoutView",
            "align_content": null,
            "align_items": null,
            "align_self": null,
            "border": null,
            "bottom": null,
            "display": null,
            "flex": null,
            "flex_flow": null,
            "grid_area": null,
            "grid_auto_columns": null,
            "grid_auto_flow": null,
            "grid_auto_rows": null,
            "grid_column": null,
            "grid_gap": null,
            "grid_row": null,
            "grid_template_areas": null,
            "grid_template_columns": null,
            "grid_template_rows": null,
            "height": null,
            "justify_content": null,
            "justify_items": null,
            "left": null,
            "margin": null,
            "max_height": null,
            "max_width": null,
            "min_height": null,
            "min_width": null,
            "object_fit": null,
            "object_position": null,
            "order": null,
            "overflow": null,
            "overflow_x": null,
            "overflow_y": null,
            "padding": null,
            "right": null,
            "top": null,
            "visibility": null,
            "width": null
          }
        },
        "b313f5e1c9c24cf6ad23b3993c174117": {
          "model_module": "@jupyter-widgets/controls",
          "model_name": "DescriptionStyleModel",
          "model_module_version": "1.5.0",
          "state": {
            "_model_module": "@jupyter-widgets/controls",
            "_model_module_version": "1.5.0",
            "_model_name": "DescriptionStyleModel",
            "_view_count": null,
            "_view_module": "@jupyter-widgets/base",
            "_view_module_version": "1.2.0",
            "_view_name": "StyleView",
            "description_width": ""
          }
        },
        "c0ab8e3f36f14a3683913f31f3bef329": {
          "model_module": "@jupyter-widgets/controls",
          "model_name": "HBoxModel",
          "model_module_version": "1.5.0",
          "state": {
            "_dom_classes": [],
            "_model_module": "@jupyter-widgets/controls",
            "_model_module_version": "1.5.0",
            "_model_name": "HBoxModel",
            "_view_count": null,
            "_view_module": "@jupyter-widgets/controls",
            "_view_module_version": "1.5.0",
            "_view_name": "HBoxView",
            "box_style": "",
            "children": [
              "IPY_MODEL_8e370215755843019e729a88fbb7164c",
              "IPY_MODEL_152d625cdbe74833a288289edf78bbbf",
              "IPY_MODEL_156809af65e84193b98086461a77810e"
            ],
            "layout": "IPY_MODEL_24b9180281f34acca98246b2b9d1d8d5"
          }
        },
        "8e370215755843019e729a88fbb7164c": {
          "model_module": "@jupyter-widgets/controls",
          "model_name": "HTMLModel",
          "model_module_version": "1.5.0",
          "state": {
            "_dom_classes": [],
            "_model_module": "@jupyter-widgets/controls",
            "_model_module_version": "1.5.0",
            "_model_name": "HTMLModel",
            "_view_count": null,
            "_view_module": "@jupyter-widgets/controls",
            "_view_module_version": "1.5.0",
            "_view_name": "HTMLView",
            "description": "",
            "description_tooltip": null,
            "layout": "IPY_MODEL_0f27652d6b7a4a33b18a8181234fdedc",
            "placeholder": "​",
            "style": "IPY_MODEL_dcb665659b154316a6fd41d39ebcc7b9",
            "value": "100%"
          }
        },
        "152d625cdbe74833a288289edf78bbbf": {
          "model_module": "@jupyter-widgets/controls",
          "model_name": "FloatProgressModel",
          "model_module_version": "1.5.0",
          "state": {
            "_dom_classes": [],
            "_model_module": "@jupyter-widgets/controls",
            "_model_module_version": "1.5.0",
            "_model_name": "FloatProgressModel",
            "_view_count": null,
            "_view_module": "@jupyter-widgets/controls",
            "_view_module_version": "1.5.0",
            "_view_name": "ProgressView",
            "bar_style": "success",
            "description": "",
            "description_tooltip": null,
            "layout": "IPY_MODEL_41b2350907334d04854a59977735e7ca",
            "max": 50,
            "min": 0,
            "orientation": "horizontal",
            "style": "IPY_MODEL_db769bbb6a384836b4a124ef9ccc2269",
            "value": 50
          }
        },
        "156809af65e84193b98086461a77810e": {
          "model_module": "@jupyter-widgets/controls",
          "model_name": "HTMLModel",
          "model_module_version": "1.5.0",
          "state": {
            "_dom_classes": [],
            "_model_module": "@jupyter-widgets/controls",
            "_model_module_version": "1.5.0",
            "_model_name": "HTMLModel",
            "_view_count": null,
            "_view_module": "@jupyter-widgets/controls",
            "_view_module_version": "1.5.0",
            "_view_name": "HTMLView",
            "description": "",
            "description_tooltip": null,
            "layout": "IPY_MODEL_7bbce4c7fdda4f99b9182f81701d24a7",
            "placeholder": "​",
            "style": "IPY_MODEL_6b33ed5af9c2478c8dad9caa4123866a",
            "value": " 50/50 [03:21&lt;00:00,  3.88s/it]"
          }
        },
        "24b9180281f34acca98246b2b9d1d8d5": {
          "model_module": "@jupyter-widgets/base",
          "model_name": "LayoutModel",
          "model_module_version": "1.2.0",
          "state": {
            "_model_module": "@jupyter-widgets/base",
            "_model_module_version": "1.2.0",
            "_model_name": "LayoutModel",
            "_view_count": null,
            "_view_module": "@jupyter-widgets/base",
            "_view_module_version": "1.2.0",
            "_view_name": "LayoutView",
            "align_content": null,
            "align_items": null,
            "align_self": null,
            "border": null,
            "bottom": null,
            "display": null,
            "flex": null,
            "flex_flow": null,
            "grid_area": null,
            "grid_auto_columns": null,
            "grid_auto_flow": null,
            "grid_auto_rows": null,
            "grid_column": null,
            "grid_gap": null,
            "grid_row": null,
            "grid_template_areas": null,
            "grid_template_columns": null,
            "grid_template_rows": null,
            "height": null,
            "justify_content": null,
            "justify_items": null,
            "left": null,
            "margin": null,
            "max_height": null,
            "max_width": null,
            "min_height": null,
            "min_width": null,
            "object_fit": null,
            "object_position": null,
            "order": null,
            "overflow": null,
            "overflow_x": null,
            "overflow_y": null,
            "padding": null,
            "right": null,
            "top": null,
            "visibility": null,
            "width": null
          }
        },
        "0f27652d6b7a4a33b18a8181234fdedc": {
          "model_module": "@jupyter-widgets/base",
          "model_name": "LayoutModel",
          "model_module_version": "1.2.0",
          "state": {
            "_model_module": "@jupyter-widgets/base",
            "_model_module_version": "1.2.0",
            "_model_name": "LayoutModel",
            "_view_count": null,
            "_view_module": "@jupyter-widgets/base",
            "_view_module_version": "1.2.0",
            "_view_name": "LayoutView",
            "align_content": null,
            "align_items": null,
            "align_self": null,
            "border": null,
            "bottom": null,
            "display": null,
            "flex": null,
            "flex_flow": null,
            "grid_area": null,
            "grid_auto_columns": null,
            "grid_auto_flow": null,
            "grid_auto_rows": null,
            "grid_column": null,
            "grid_gap": null,
            "grid_row": null,
            "grid_template_areas": null,
            "grid_template_columns": null,
            "grid_template_rows": null,
            "height": null,
            "justify_content": null,
            "justify_items": null,
            "left": null,
            "margin": null,
            "max_height": null,
            "max_width": null,
            "min_height": null,
            "min_width": null,
            "object_fit": null,
            "object_position": null,
            "order": null,
            "overflow": null,
            "overflow_x": null,
            "overflow_y": null,
            "padding": null,
            "right": null,
            "top": null,
            "visibility": null,
            "width": null
          }
        },
        "dcb665659b154316a6fd41d39ebcc7b9": {
          "model_module": "@jupyter-widgets/controls",
          "model_name": "DescriptionStyleModel",
          "model_module_version": "1.5.0",
          "state": {
            "_model_module": "@jupyter-widgets/controls",
            "_model_module_version": "1.5.0",
            "_model_name": "DescriptionStyleModel",
            "_view_count": null,
            "_view_module": "@jupyter-widgets/base",
            "_view_module_version": "1.2.0",
            "_view_name": "StyleView",
            "description_width": ""
          }
        },
        "41b2350907334d04854a59977735e7ca": {
          "model_module": "@jupyter-widgets/base",
          "model_name": "LayoutModel",
          "model_module_version": "1.2.0",
          "state": {
            "_model_module": "@jupyter-widgets/base",
            "_model_module_version": "1.2.0",
            "_model_name": "LayoutModel",
            "_view_count": null,
            "_view_module": "@jupyter-widgets/base",
            "_view_module_version": "1.2.0",
            "_view_name": "LayoutView",
            "align_content": null,
            "align_items": null,
            "align_self": null,
            "border": null,
            "bottom": null,
            "display": null,
            "flex": null,
            "flex_flow": null,
            "grid_area": null,
            "grid_auto_columns": null,
            "grid_auto_flow": null,
            "grid_auto_rows": null,
            "grid_column": null,
            "grid_gap": null,
            "grid_row": null,
            "grid_template_areas": null,
            "grid_template_columns": null,
            "grid_template_rows": null,
            "height": null,
            "justify_content": null,
            "justify_items": null,
            "left": null,
            "margin": null,
            "max_height": null,
            "max_width": null,
            "min_height": null,
            "min_width": null,
            "object_fit": null,
            "object_position": null,
            "order": null,
            "overflow": null,
            "overflow_x": null,
            "overflow_y": null,
            "padding": null,
            "right": null,
            "top": null,
            "visibility": null,
            "width": null
          }
        },
        "db769bbb6a384836b4a124ef9ccc2269": {
          "model_module": "@jupyter-widgets/controls",
          "model_name": "ProgressStyleModel",
          "model_module_version": "1.5.0",
          "state": {
            "_model_module": "@jupyter-widgets/controls",
            "_model_module_version": "1.5.0",
            "_model_name": "ProgressStyleModel",
            "_view_count": null,
            "_view_module": "@jupyter-widgets/base",
            "_view_module_version": "1.2.0",
            "_view_name": "StyleView",
            "bar_color": null,
            "description_width": ""
          }
        },
        "7bbce4c7fdda4f99b9182f81701d24a7": {
          "model_module": "@jupyter-widgets/base",
          "model_name": "LayoutModel",
          "model_module_version": "1.2.0",
          "state": {
            "_model_module": "@jupyter-widgets/base",
            "_model_module_version": "1.2.0",
            "_model_name": "LayoutModel",
            "_view_count": null,
            "_view_module": "@jupyter-widgets/base",
            "_view_module_version": "1.2.0",
            "_view_name": "LayoutView",
            "align_content": null,
            "align_items": null,
            "align_self": null,
            "border": null,
            "bottom": null,
            "display": null,
            "flex": null,
            "flex_flow": null,
            "grid_area": null,
            "grid_auto_columns": null,
            "grid_auto_flow": null,
            "grid_auto_rows": null,
            "grid_column": null,
            "grid_gap": null,
            "grid_row": null,
            "grid_template_areas": null,
            "grid_template_columns": null,
            "grid_template_rows": null,
            "height": null,
            "justify_content": null,
            "justify_items": null,
            "left": null,
            "margin": null,
            "max_height": null,
            "max_width": null,
            "min_height": null,
            "min_width": null,
            "object_fit": null,
            "object_position": null,
            "order": null,
            "overflow": null,
            "overflow_x": null,
            "overflow_y": null,
            "padding": null,
            "right": null,
            "top": null,
            "visibility": null,
            "width": null
          }
        },
        "6b33ed5af9c2478c8dad9caa4123866a": {
          "model_module": "@jupyter-widgets/controls",
          "model_name": "DescriptionStyleModel",
          "model_module_version": "1.5.0",
          "state": {
            "_model_module": "@jupyter-widgets/controls",
            "_model_module_version": "1.5.0",
            "_model_name": "DescriptionStyleModel",
            "_view_count": null,
            "_view_module": "@jupyter-widgets/base",
            "_view_module_version": "1.2.0",
            "_view_name": "StyleView",
            "description_width": ""
          }
        }
      }
    }
  },
  "nbformat": 4,
  "nbformat_minor": 0
}