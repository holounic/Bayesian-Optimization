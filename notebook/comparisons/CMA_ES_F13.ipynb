{
  "cells": [
    {
      "cell_type": "code",
      "execution_count": null,
      "metadata": {
        "colab": {
          "base_uri": "https://localhost:8080/"
        },
        "id": "zop16yDDNNTy",
        "outputId": "7fcf7253-3d58-4466-d1b8-35a725eb9402"
      },
      "outputs": [
        {
          "output_type": "stream",
          "name": "stdout",
          "text": [
            "Looking in indexes: https://pypi.org/simple, https://us-python.pkg.dev/colab-wheels/public/simple/\n",
            "Collecting git+https://github.com/holounic/Bayesian-Optimization.git\n",
            "  Cloning https://github.com/holounic/Bayesian-Optimization.git to /tmp/pip-req-build-l1s05xv9\n",
            "  Running command git clone -q https://github.com/holounic/Bayesian-Optimization.git /tmp/pip-req-build-l1s05xv9\n",
            "  Installing build dependencies ... \u001b[?25l\u001b[?25hdone\n",
            "  Getting requirements to build wheel ... \u001b[?25l\u001b[?25hdone\n",
            "    Preparing wheel metadata ... \u001b[?25l\u001b[?25hdone\n",
            "Collecting pyDOE@ git+https://github.com/holounic/pyDOE\n",
            "  Cloning https://github.com/holounic/pyDOE to /tmp/pip-install-p2hlvr5j/pydoe_4f229d2770184431b2ee067a18f18d19\n",
            "  Running command git clone -q https://github.com/holounic/pyDOE /tmp/pip-install-p2hlvr5j/pydoe_4f229d2770184431b2ee067a18f18d19\n",
            "Requirement already satisfied: dill>=0.3.3 in /usr/local/lib/python3.7/dist-packages (from bayes-optim==0.2.7) (0.3.6)\n",
            "Requirement already satisfied: threadpoolctl>=2.1.0 in /usr/local/lib/python3.7/dist-packages (from bayes-optim==0.2.7) (3.1.0)\n",
            "Collecting sobol-seq>=0.2.0\n",
            "  Downloading sobol_seq-0.2.0-py3-none-any.whl (9.2 kB)\n",
            "Requirement already satisfied: torch>=1.9.0 in /usr/local/lib/python3.7/dist-packages (from bayes-optim==0.2.7) (1.12.1+cu113)\n",
            "Requirement already satisfied: tabulate>=0.8.7 in /usr/local/lib/python3.7/dist-packages (from bayes-optim==0.2.7) (0.8.10)\n",
            "Requirement already satisfied: joblib>=1.0.0 in /usr/local/lib/python3.7/dist-packages (from bayes-optim==0.2.7) (1.2.0)\n",
            "Requirement already satisfied: scipy>=1.5.4 in /usr/local/lib/python3.7/dist-packages (from bayes-optim==0.2.7) (1.7.3)\n",
            "Collecting py-expression-eval>=0.3.13\n",
            "  Downloading py_expression_eval-0.3.14-py3-none-any.whl (12 kB)\n",
            "Collecting sklearn==0.0\n",
            "  Downloading sklearn-0.0.tar.gz (1.1 kB)\n",
            "Collecting pytest>=6.2.5\n",
            "  Downloading pytest-7.2.0-py3-none-any.whl (316 kB)\n",
            "\u001b[K     |████████████████████████████████| 316 kB 5.2 MB/s \n",
            "\u001b[?25hRequirement already satisfied: requests-oauthlib>=1.3.0 in /usr/local/lib/python3.7/dist-packages (from bayes-optim==0.2.7) (1.3.1)\n",
            "Collecting requests>=2.25.0\n",
            "  Downloading requests-2.28.1-py3-none-any.whl (62 kB)\n",
            "\u001b[K     |████████████████████████████████| 62 kB 1.1 MB/s \n",
            "\u001b[?25hRequirement already satisfied: numpy>=1.19.2 in /usr/local/lib/python3.7/dist-packages (from bayes-optim==0.2.7) (1.21.6)\n",
            "Requirement already satisfied: scikit-learn>=0.23.2 in /usr/local/lib/python3.7/dist-packages (from bayes-optim==0.2.7) (1.0.2)\n",
            "Requirement already satisfied: tomli>=1.0.0 in /usr/local/lib/python3.7/dist-packages (from pytest>=6.2.5->bayes-optim==0.2.7) (2.0.1)\n",
            "Requirement already satisfied: importlib-metadata>=0.12 in /usr/local/lib/python3.7/dist-packages (from pytest>=6.2.5->bayes-optim==0.2.7) (4.13.0)\n",
            "Collecting pluggy<2.0,>=0.12\n",
            "  Downloading pluggy-1.0.0-py2.py3-none-any.whl (13 kB)\n",
            "Requirement already satisfied: packaging in /usr/local/lib/python3.7/dist-packages (from pytest>=6.2.5->bayes-optim==0.2.7) (21.3)\n",
            "Collecting exceptiongroup>=1.0.0rc8\n",
            "  Downloading exceptiongroup-1.0.4-py3-none-any.whl (14 kB)\n",
            "Requirement already satisfied: attrs>=19.2.0 in /usr/local/lib/python3.7/dist-packages (from pytest>=6.2.5->bayes-optim==0.2.7) (22.1.0)\n",
            "Collecting iniconfig\n",
            "  Downloading iniconfig-1.1.1-py2.py3-none-any.whl (5.0 kB)\n",
            "Requirement already satisfied: typing-extensions>=3.6.4 in /usr/local/lib/python3.7/dist-packages (from importlib-metadata>=0.12->pytest>=6.2.5->bayes-optim==0.2.7) (4.1.1)\n",
            "Requirement already satisfied: zipp>=0.5 in /usr/local/lib/python3.7/dist-packages (from importlib-metadata>=0.12->pytest>=6.2.5->bayes-optim==0.2.7) (3.10.0)\n",
            "Requirement already satisfied: certifi>=2017.4.17 in /usr/local/lib/python3.7/dist-packages (from requests>=2.25.0->bayes-optim==0.2.7) (2022.9.24)\n",
            "Requirement already satisfied: urllib3<1.27,>=1.21.1 in /usr/local/lib/python3.7/dist-packages (from requests>=2.25.0->bayes-optim==0.2.7) (1.24.3)\n",
            "Requirement already satisfied: idna<4,>=2.5 in /usr/local/lib/python3.7/dist-packages (from requests>=2.25.0->bayes-optim==0.2.7) (2.10)\n",
            "Requirement already satisfied: charset-normalizer<3,>=2 in /usr/local/lib/python3.7/dist-packages (from requests>=2.25.0->bayes-optim==0.2.7) (2.1.1)\n",
            "Requirement already satisfied: oauthlib>=3.0.0 in /usr/local/lib/python3.7/dist-packages (from requests-oauthlib>=1.3.0->bayes-optim==0.2.7) (3.2.2)\n",
            "Requirement already satisfied: pyparsing!=3.0.5,>=2.0.2 in /usr/local/lib/python3.7/dist-packages (from packaging->pytest>=6.2.5->bayes-optim==0.2.7) (3.0.9)\n",
            "Building wheels for collected packages: bayes-optim, pyDOE, sklearn\n",
            "  Building wheel for bayes-optim (PEP 517) ... \u001b[?25l\u001b[?25hdone\n",
            "  Created wheel for bayes-optim: filename=bayes_optim-0.2.7-py3-none-any.whl size=145056 sha256=08af904f5e075496a0f7093d62207ee777d048bf11aa095d4a706039979fb2db\n",
            "  Stored in directory: /tmp/pip-ephem-wheel-cache-6re9d0_i/wheels/73/83/49/8a05ed204e57c8c6abbb4accee1e78a9486a23fbe0c281eb97\n",
            "  Building wheel for pyDOE (setup.py) ... \u001b[?25l\u001b[?25hdone\n",
            "  Created wheel for pyDOE: filename=pyDOE-0.3.8-py3-none-any.whl size=19276 sha256=b905ffdcb98e0c7bb16c6a1195707cf9c6a2c262933842782e657cf909effeb0\n",
            "  Stored in directory: /tmp/pip-ephem-wheel-cache-6re9d0_i/wheels/19/fe/80/432a17fa421f400bc89864e083ccd88ed501a0e7ce8067a27d\n",
            "  Building wheel for sklearn (setup.py) ... \u001b[?25l\u001b[?25hdone\n",
            "  Created wheel for sklearn: filename=sklearn-0.0-py2.py3-none-any.whl size=1309 sha256=70efe639eab68fd0b6a328125c901c058142ef331490b6abe5bcc78f2026c2d4\n",
            "  Stored in directory: /root/.cache/pip/wheels/46/ef/c3/157e41f5ee1372d1be90b09f74f82b10e391eaacca8f22d33e\n",
            "Successfully built bayes-optim pyDOE sklearn\n",
            "Installing collected packages: requests, pluggy, iniconfig, exceptiongroup, sobol-seq, sklearn, pytest, pyDOE, py-expression-eval, bayes-optim\n",
            "  Attempting uninstall: requests\n",
            "    Found existing installation: requests 2.23.0\n",
            "    Uninstalling requests-2.23.0:\n",
            "      Successfully uninstalled requests-2.23.0\n",
            "  Attempting uninstall: pluggy\n",
            "    Found existing installation: pluggy 0.7.1\n",
            "    Uninstalling pluggy-0.7.1:\n",
            "      Successfully uninstalled pluggy-0.7.1\n",
            "  Attempting uninstall: pytest\n",
            "    Found existing installation: pytest 3.6.4\n",
            "    Uninstalling pytest-3.6.4:\n",
            "      Successfully uninstalled pytest-3.6.4\n",
            "Successfully installed bayes-optim-0.2.7 exceptiongroup-1.0.4 iniconfig-1.1.1 pluggy-1.0.0 py-expression-eval-0.3.14 pyDOE-0.3.8 pytest-7.2.0 requests-2.28.1 sklearn-0.0 sobol-seq-0.2.0\n",
            "Looking in indexes: https://pypi.org/simple, https://us-python.pkg.dev/colab-wheels/public/simple/\n",
            "Collecting cma\n",
            "  Downloading cma-3.2.2-py2.py3-none-any.whl (249 kB)\n",
            "\u001b[K     |████████████████████████████████| 249 kB 5.4 MB/s \n",
            "\u001b[?25hRequirement already satisfied: numpy in /usr/local/lib/python3.7/dist-packages (from cma) (1.21.6)\n",
            "Installing collected packages: cma\n",
            "Successfully installed cma-3.2.2\n"
          ]
        }
      ],
      "source": [
        "!pip3 install git+https://github.com/holounic/Bayesian-Optimization.git\n",
        "!pip3 install cma"
      ]
    },
    {
      "cell_type": "code",
      "execution_count": null,
      "metadata": {
        "id": "sovF8jezNWfY"
      },
      "outputs": [],
      "source": [
        "import numpy as np\n",
        "import matplotlib\n",
        "import matplotlib.pyplot as plt\n",
        "import pandas as pd\n",
        "\n",
        "import cma\n",
        "\n",
        "from pyDOE import lhs\n",
        "\n",
        "from bayes_optim import BO\n",
        "from bayes_optim.search_space import RealSpace\n",
        "from bayes_optim.surrogate import GaussianProcess, trend\n",
        "\n",
        "from benchmark.bbobbenchmarks import F13\n",
        "\n",
        "from tqdm.notebook import trange"
      ]
    },
    {
      "cell_type": "markdown",
      "metadata": {
        "id": "Ftb2fK4mNqfF"
      },
      "source": [
        "# Constants"
      ]
    },
    {
      "cell_type": "code",
      "execution_count": null,
      "metadata": {
        "id": "stgMEL6dNbhW"
      },
      "outputs": [],
      "source": [
        "np.random.seed(1111)\n",
        "\n",
        "dim = 2\n",
        "lb, ub = -5, 5\n",
        "\n",
        "mean = trend.constant_trend(dim, beta=None)\n",
        "thetaL = 1e-10 * (ub - lb) * np.ones(dim)\n",
        "thetaU = 10 * (ub - lb) * np.ones(dim)\n",
        "theta0 = np.random.rand(dim) * (thetaU - thetaL) + thetaL\n",
        "\n",
        "max_FEs = 2**5\n",
        "verbose = False\n",
        "\n",
        "doe_budget = 0.2\n",
        "doe_size = int(doe_budget * max_FEs)\n",
        "\n",
        "n_samples = 30000\n",
        "\n",
        "max_cma_iter = 20\n",
        "\n",
        "f = F13\n",
        "\n",
        "test_seeds = list(range(50))\n",
        "\n",
        "space = RealSpace([lb, ub]) * dim\n",
        "\n",
        "pop_size = int(4 + 3 * np.log(doe_size * dim) // 1)\n",
        "\n",
        "n_tests = 3\n",
        "\n",
        "f_name = 'f13'"
      ]
    },
    {
      "cell_type": "markdown",
      "metadata": {
        "id": "vhSa2vWHN4LH"
      },
      "source": [
        "# Make optimizer function"
      ]
    },
    {
      "cell_type": "code",
      "execution_count": null,
      "metadata": {
        "id": "VDqW3jl2NlGH"
      },
      "outputs": [],
      "source": [
        "def make_optimizer(obj_func, doe):\n",
        "    model = GaussianProcess(\n",
        "        mean=mean,\n",
        "        corr=\"squared_exponential\",\n",
        "        theta0=theta0,\n",
        "        thetaL=thetaL,\n",
        "        thetaU=thetaU,\n",
        "        nugget=0,\n",
        "        noise_estim=False,\n",
        "        optimizer=\"BFGS\",\n",
        "        wait_iter=3,\n",
        "        random_start=dim,\n",
        "        likelihood=\"concentrated\",\n",
        "        eval_budget=100 * dim\n",
        "    )\n",
        "    return BO(\n",
        "        search_space=space,\n",
        "        obj_fun=obj_func,\n",
        "        model=model,\n",
        "        DoE_size=len(doe),\n",
        "        acquisition_fun=\"EI\",\n",
        "        initial_points=doe,\n",
        "        max_FEs=max_FEs,\n",
        "        verbose=verbose,\n",
        "        n_point=1\n",
        "    )"
      ]
    },
    {
      "cell_type": "markdown",
      "metadata": {
        "id": "nKhU2qqAOrNk"
      },
      "source": [
        "# Experiment code"
      ]
    },
    {
      "cell_type": "code",
      "execution_count": null,
      "metadata": {
        "id": "SOfcpmHyOKCv"
      },
      "outputs": [],
      "source": [
        "def regret(obj_func, doe):\n",
        "  bo = make_optimizer(obj_func, doe)\n",
        "  xopt, yopt, _ = bo.run()\n",
        "  return yopt - obj_func.getfopt()\n",
        "\n",
        "def fitness_function(doe_size, n_individuals, func_seeds):\n",
        "  i = 0\n",
        "  def func(X):\n",
        "    nonlocal i\n",
        "    X = X.clip(lb, ub, out=X)\n",
        "    doe = np.split(X, doe_size)\n",
        "    obj_func = None\n",
        "    k = i // n_individuals\n",
        "    func_seed_set = func_seeds[k]\n",
        "    i += 1\n",
        "    r = 0\n",
        "    print(func_seed_set)\n",
        "    for func_seed in func_seed_set:\n",
        "      r += regret(f(func_seed), doe)\n",
        "    return r / len(func_seed_set)\n",
        "  return func\n",
        "\n",
        "def cma_es_experiment(doe_size, func_seeds, individual0, sigma0 = ub / 3):\n",
        "  # run cma-es \n",
        "  doe_flattened, es = cma.fmin2(fitness_function(doe_size, pop_size, func_seeds), individual0, sigma0, {'maxiter': max_cma_iter, 'popsize': pop_size})\n",
        "  \n",
        "  # split a vector into set of points\n",
        "  doe = np.split(doe_flattened, doe_size)\n",
        "\n",
        "  return doe, es"
      ]
    },
    {
      "cell_type": "markdown",
      "source": [
        "# Testing code"
      ],
      "metadata": {
        "id": "knNc-i5UlXfY"
      }
    },
    {
      "cell_type": "code",
      "source": [
        "def additional_metrics(history):\n",
        "  for h in history:\n",
        "    func = f(h['f_s'])\n",
        "    y = func(h['xopt'])\n",
        "    real_x = func._getxopt()\n",
        "    d = np.linalg.norm(h['doe'] - real_x, axis=1)\n",
        "    h['min_dist_to_opt'] = d.min()\n",
        "    h['max_dist_to_opt'] = d.max()\n",
        "    h['real_xopt'] = real_x\n",
        "    h['real_yopt'] = func.getfopt()\n",
        "    h['bo_history'] = h['bo'].history\n",
        "  return history"
      ],
      "metadata": {
        "id": "GoM0F1RpB-oM"
      },
      "execution_count": null,
      "outputs": []
    },
    {
      "cell_type": "code",
      "source": [
        "def compute_all(func_seed, doe, n=3, n_points=1000):\n",
        "  regrets, history, precisions = [], [], []\n",
        "  for _ in range(n):\n",
        "    obj_func = f(func_seed)\n",
        "    bo = make_optimizer(obj_func, doe)\n",
        "    xopt, yopt, _ = bo.run()\n",
        "    regret = yopt - obj_func.getfopt()\n",
        "    points = lhs(dim, n_points) * 10 - 5\n",
        "    predicted_y = np.concatenate(bo.model.predict(points))\n",
        "    real_y = obj_func(points)\n",
        "    precision = np.mean((predicted_y - real_y)**2)\n",
        "    precisions.append(precision)\n",
        "    regrets.append(regret)\n",
        "    history.append({'xopt': xopt, 'yopt': yopt, 'regret': regret, 'doe': doe, 'precision': precision, 'bo': bo, 'f_s': func_seed})\n",
        "  return np.concatenate(regrets).mean(), np.mean(precisions), history\n",
        "\n",
        "def test(doe, n=10):\n",
        "  precisions, regrets, history = [], [], []\n",
        "  for seed in trange(n):\n",
        "    doe = doe\n",
        "    r, p, h = compute_all(seed, doe, n=1, n_points=1000)\n",
        "    precisions.append(p)\n",
        "    regrets.append(r)\n",
        "    history.append(h[0])\n",
        "  return precisions, regrets, history"
      ],
      "metadata": {
        "id": "ogBc0uV5lZnu"
      },
      "execution_count": null,
      "outputs": []
    },
    {
      "cell_type": "markdown",
      "metadata": {
        "id": "NB7NuLCBUDth"
      },
      "source": [
        "# Experiments"
      ]
    },
    {
      "cell_type": "code",
      "execution_count": null,
      "metadata": {
        "colab": {
          "base_uri": "https://localhost:8080/"
        },
        "id": "t9t0r_IiUF2b",
        "outputId": "d5175418-debf-443f-e4da-b96b8e528c50"
      },
      "outputs": [
        {
          "output_type": "execute_result",
          "data": {
            "text/plain": [
              "array([-1.54901728,  1.34212926,  3.81413919, -3.47714037,  2.30841543,\n",
              "        2.00327005,  0.50808908,  4.5586762 , -4.72791635, -2.09921999,\n",
              "       -1.67488531, -1.05830264])"
            ]
          },
          "metadata": {},
          "execution_count": 8
        }
      ],
      "source": [
        "individual0 = np.concatenate(lhs(2, doe_size) * 10 - 5)\n",
        "individual0"
      ]
    },
    {
      "cell_type": "code",
      "execution_count": null,
      "metadata": {
        "colab": {
          "base_uri": "https://localhost:8080/"
        },
        "id": "TjTDQPqlQ4zM",
        "outputId": "d686c82d-a25a-4197-a5b4-840426a8a113"
      },
      "outputs": [
        {
          "output_type": "execute_result",
          "data": {
            "text/plain": [
              "[[1475636620, 1134109346, 1333488308],\n",
              " [1005703320, 8632214, 651166484],\n",
              " [1011871627, 586793230, 1021307656],\n",
              " [1790440934, 1013250956, 23639534],\n",
              " [2128019186, 1941953366, 1221597576],\n",
              " [441380969, 543340478, 721493309],\n",
              " [458055347, 1529544234, 2001974348],\n",
              " [985630174, 1018474702, 2025616588],\n",
              " [1868994436, 1247560269, 1046561192],\n",
              " [104666121, 1648579849, 1890662871],\n",
              " [1453389842, 1597818624, 666513316],\n",
              " [104385800, 637573627, 705513029],\n",
              " [597623957, 101841489, 590019245],\n",
              " [1874809778, 476201470, 1524655072],\n",
              " [1846915629, 319501579, 1359356797],\n",
              " [114995871, 1157171255, 1425728285],\n",
              " [366794197, 1281455660, 708681325],\n",
              " [1428655094, 909226738, 2134097890],\n",
              " [1663587672, 1748947072, 1151088343],\n",
              " [1358540125, 1044006575, 1473510937],\n",
              " [0,\n",
              "  1,\n",
              "  2,\n",
              "  3,\n",
              "  4,\n",
              "  5,\n",
              "  6,\n",
              "  7,\n",
              "  8,\n",
              "  9,\n",
              "  10,\n",
              "  11,\n",
              "  12,\n",
              "  13,\n",
              "  14,\n",
              "  15,\n",
              "  16,\n",
              "  17,\n",
              "  18,\n",
              "  19,\n",
              "  20,\n",
              "  21,\n",
              "  22,\n",
              "  23,\n",
              "  24,\n",
              "  25,\n",
              "  26,\n",
              "  27,\n",
              "  28,\n",
              "  29,\n",
              "  30,\n",
              "  31,\n",
              "  32,\n",
              "  33,\n",
              "  34,\n",
              "  35,\n",
              "  36,\n",
              "  37,\n",
              "  38,\n",
              "  39,\n",
              "  40,\n",
              "  41,\n",
              "  42,\n",
              "  43,\n",
              "  44,\n",
              "  45,\n",
              "  46,\n",
              "  47,\n",
              "  48,\n",
              "  49]]"
            ]
          },
          "metadata": {},
          "execution_count": 9
        }
      ],
      "source": [
        "func_seeds = np.random.randint(0, 2**31, (max_cma_iter, n_tests)).tolist()\n",
        "func_seeds.append(test_seeds)\n",
        "func_seeds"
      ]
    },
    {
      "cell_type": "code",
      "execution_count": null,
      "metadata": {
        "colab": {
          "base_uri": "https://localhost:8080/"
        },
        "id": "QFEsG07LTgdY",
        "outputId": "5abd88eb-fe0d-4470-ecae-cc7df58fd994"
      },
      "outputs": [
        {
          "output_type": "stream",
          "name": "stdout",
          "text": [
            "(5_w,11)-aCMA-ES (mu_w=3.4,w_1=42%) in dimension 12 (seed=695013, Wed Nov 16 15:44:04 2022)\n",
            "[1475636620, 1134109346, 1333488308]\n",
            "Invalid likelihood value. Increasing nugget...\n",
            "Invalid likelihood value. Increasing nugget...\n",
            "[1475636620, 1134109346, 1333488308]\n",
            "Invalid likelihood value. Increasing nugget...\n",
            "[1475636620, 1134109346, 1333488308]\n",
            "Invalid likelihood value. Increasing nugget...\n",
            "[1475636620, 1134109346, 1333488308]\n",
            "Invalid likelihood value. Increasing nugget...\n",
            "[1475636620, 1134109346, 1333488308]\n",
            "[1475636620, 1134109346, 1333488308]\n",
            "[1475636620, 1134109346, 1333488308]\n",
            "[1475636620, 1134109346, 1333488308]\n",
            "Invalid likelihood value. Increasing nugget...\n",
            "[1475636620, 1134109346, 1333488308]\n",
            "Invalid likelihood value. Increasing nugget...\n",
            "[1475636620, 1134109346, 1333488308]\n",
            "Invalid likelihood value. Increasing nugget...\n",
            "[1475636620, 1134109346, 1333488308]\n",
            "Iterat #Fevals   function value  axis ratio  sigma  min&max std  t[m:s]\n",
            "    1     11 1.195354358793006e+01 1.0e+00 1.53e+00  1e+00  2e+00 1:29.1\n",
            "[1005703320, 8632214, 651166484]\n",
            "Invalid likelihood value. Increasing nugget...\n",
            "Invalid likelihood value. Increasing nugget...\n",
            "[1005703320, 8632214, 651166484]\n",
            "[1005703320, 8632214, 651166484]\n",
            "Invalid likelihood value. Increasing nugget...\n",
            "[1005703320, 8632214, 651166484]\n",
            "[1005703320, 8632214, 651166484]\n",
            "[1005703320, 8632214, 651166484]\n",
            "Invalid likelihood value. Increasing nugget...\n",
            "[1005703320, 8632214, 651166484]\n",
            "Invalid likelihood value. Increasing nugget...\n",
            "[1005703320, 8632214, 651166484]\n",
            "Invalid likelihood value. Increasing nugget...\n",
            "[1005703320, 8632214, 651166484]\n",
            "Invalid likelihood value. Increasing nugget...\n",
            "[1005703320, 8632214, 651166484]\n",
            "[1005703320, 8632214, 651166484]\n",
            "    2     22 8.260975875156051e+00 1.1e+00 1.44e+00  1e+00  1e+00 2:55.2\n",
            "[1011871627, 586793230, 1021307656]\n",
            "[1011871627, 586793230, 1021307656]\n",
            "Invalid likelihood value. Increasing nugget...\n",
            "[1011871627, 586793230, 1021307656]\n",
            "[1011871627, 586793230, 1021307656]\n",
            "Invalid likelihood value. Increasing nugget...\n",
            "[1011871627, 586793230, 1021307656]\n",
            "Invalid likelihood value. Increasing nugget...\n",
            "[1011871627, 586793230, 1021307656]\n",
            "[1011871627, 586793230, 1021307656]\n",
            "[1011871627, 586793230, 1021307656]\n",
            "[1011871627, 586793230, 1021307656]\n",
            "[1011871627, 586793230, 1021307656]\n",
            "[1011871627, 586793230, 1021307656]\n",
            "    3     33 6.117384428796588e+00 1.2e+00 1.42e+00  1e+00  1e+00 4:12.2\n",
            "[1790440934, 1013250956, 23639534]\n",
            "Invalid likelihood value. Increasing nugget...\n",
            "[1790440934, 1013250956, 23639534]\n",
            "Invalid likelihood value. Increasing nugget...\n",
            "[1790440934, 1013250956, 23639534]\n",
            "[1790440934, 1013250956, 23639534]\n",
            "Invalid likelihood value. Increasing nugget...\n",
            "[1790440934, 1013250956, 23639534]\n",
            "[1790440934, 1013250956, 23639534]\n",
            "Invalid likelihood value. Increasing nugget...\n",
            "Invalid likelihood value. Increasing nugget...\n",
            "[1790440934, 1013250956, 23639534]\n",
            "[1790440934, 1013250956, 23639534]\n",
            "Invalid likelihood value. Increasing nugget...\n",
            "[1790440934, 1013250956, 23639534]\n",
            "[1790440934, 1013250956, 23639534]\n",
            "Invalid likelihood value. Increasing nugget...\n",
            "[1790440934, 1013250956, 23639534]\n",
            "    4     44 9.943864497126057e+00 1.3e+00 1.44e+00  1e+00  1e+00 5:35.1\n",
            "[2128019186, 1941953366, 1221597576]\n",
            "[2128019186, 1941953366, 1221597576]\n",
            "[2128019186, 1941953366, 1221597576]\n",
            "Invalid likelihood value. Increasing nugget...\n",
            "[2128019186, 1941953366, 1221597576]\n",
            "Invalid likelihood value. Increasing nugget...\n",
            "[2128019186, 1941953366, 1221597576]\n",
            "[2128019186, 1941953366, 1221597576]\n",
            "Invalid likelihood value. Increasing nugget...\n",
            "Invalid likelihood value. Increasing nugget...\n",
            "[2128019186, 1941953366, 1221597576]\n",
            "[2128019186, 1941953366, 1221597576]\n",
            "Invalid likelihood value. Increasing nugget...\n",
            "[2128019186, 1941953366, 1221597576]\n",
            "[2128019186, 1941953366, 1221597576]\n",
            "[2128019186, 1941953366, 1221597576]\n",
            "Invalid likelihood value. Increasing nugget...\n",
            "Invalid likelihood value. Increasing nugget...\n",
            "    5     55 1.110544038484399e+01 1.4e+00 1.50e+00  1e+00  2e+00 6:57.5\n",
            "[441380969, 543340478, 721493309]\n",
            "[441380969, 543340478, 721493309]\n",
            "[441380969, 543340478, 721493309]\n",
            "[441380969, 543340478, 721493309]\n",
            "[441380969, 543340478, 721493309]\n",
            "[441380969, 543340478, 721493309]\n",
            "[441380969, 543340478, 721493309]\n",
            "[441380969, 543340478, 721493309]\n",
            "Invalid likelihood value. Increasing nugget...\n",
            "[441380969, 543340478, 721493309]\n",
            "[441380969, 543340478, 721493309]\n",
            "[441380969, 543340478, 721493309]\n",
            "Invalid likelihood value. Increasing nugget...\n",
            "    6     66 8.386155914670809e+00 1.4e+00 1.49e+00  1e+00  2e+00 8:27.1\n",
            "[458055347, 1529544234, 2001974348]\n",
            "[458055347, 1529544234, 2001974348]\n",
            "[458055347, 1529544234, 2001974348]\n",
            "[458055347, 1529544234, 2001974348]\n",
            "[458055347, 1529544234, 2001974348]\n",
            "[458055347, 1529544234, 2001974348]\n",
            "[458055347, 1529544234, 2001974348]\n",
            "[458055347, 1529544234, 2001974348]\n",
            "Invalid likelihood value. Increasing nugget...\n",
            "[458055347, 1529544234, 2001974348]\n",
            "[458055347, 1529544234, 2001974348]\n",
            "[458055347, 1529544234, 2001974348]\n",
            "    7     77 7.611459585972923e+00 1.4e+00 1.46e+00  1e+00  2e+00 9:56.6\n",
            "[985630174, 1018474702, 2025616588]\n",
            "[985630174, 1018474702, 2025616588]\n",
            "Invalid likelihood value. Increasing nugget...\n",
            "[985630174, 1018474702, 2025616588]\n",
            "[985630174, 1018474702, 2025616588]\n",
            "[985630174, 1018474702, 2025616588]\n",
            "[985630174, 1018474702, 2025616588]\n",
            "Invalid likelihood value. Increasing nugget...\n",
            "[985630174, 1018474702, 2025616588]\n",
            "Invalid likelihood value. Increasing nugget...\n",
            "[985630174, 1018474702, 2025616588]\n",
            "[985630174, 1018474702, 2025616588]\n",
            "Invalid likelihood value. Increasing nugget...\n",
            "[985630174, 1018474702, 2025616588]\n",
            "[985630174, 1018474702, 2025616588]\n",
            "    8     88 1.009094408059323e+01 1.5e+00 1.37e+00  1e+00  1e+00 11:18.7\n",
            "[1868994436, 1247560269, 1046561192]\n",
            "[1868994436, 1247560269, 1046561192]\n",
            "[1868994436, 1247560269, 1046561192]\n",
            "[1868994436, 1247560269, 1046561192]\n",
            "Invalid likelihood value. Increasing nugget...\n",
            "[1868994436, 1247560269, 1046561192]\n",
            "Invalid likelihood value. Increasing nugget...\n",
            "[1868994436, 1247560269, 1046561192]\n",
            "[1868994436, 1247560269, 1046561192]\n",
            "[1868994436, 1247560269, 1046561192]\n",
            "[1868994436, 1247560269, 1046561192]\n",
            "[1868994436, 1247560269, 1046561192]\n",
            "Invalid likelihood value. Increasing nugget...\n",
            "[1868994436, 1247560269, 1046561192]\n",
            "    9     99 5.833834733439240e+00 1.5e+00 1.36e+00  1e+00  1e+00 12:53.3\n",
            "[104666121, 1648579849, 1890662871]\n",
            "[104666121, 1648579849, 1890662871]\n",
            "[104666121, 1648579849, 1890662871]\n",
            "[104666121, 1648579849, 1890662871]\n",
            "[104666121, 1648579849, 1890662871]\n",
            "[104666121, 1648579849, 1890662871]\n",
            "[104666121, 1648579849, 1890662871]\n",
            "[104666121, 1648579849, 1890662871]\n",
            "Invalid likelihood value. Increasing nugget...\n",
            "[104666121, 1648579849, 1890662871]\n",
            "[104666121, 1648579849, 1890662871]\n",
            "Invalid likelihood value. Increasing nugget...\n",
            "[104666121, 1648579849, 1890662871]\n",
            "   10    110 1.120592701257532e+01 1.5e+00 1.33e+00  1e+00  1e+00 14:18.9\n",
            "[1453389842, 1597818624, 666513316]\n",
            "Invalid likelihood value. Increasing nugget...\n",
            "[1453389842, 1597818624, 666513316]\n",
            "[1453389842, 1597818624, 666513316]\n",
            "Invalid likelihood value. Increasing nugget...\n",
            "[1453389842, 1597818624, 666513316]\n",
            "[1453389842, 1597818624, 666513316]\n",
            "[1453389842, 1597818624, 666513316]\n",
            "[1453389842, 1597818624, 666513316]\n",
            "[1453389842, 1597818624, 666513316]\n",
            "[1453389842, 1597818624, 666513316]\n",
            "Invalid likelihood value. Increasing nugget...\n",
            "[1453389842, 1597818624, 666513316]\n",
            "Invalid likelihood value. Increasing nugget...\n",
            "[1453389842, 1597818624, 666513316]\n",
            "   11    121 2.106842613456973e+00 1.5e+00 1.30e+00  1e+00  1e+00 15:52.4\n",
            "[104385800, 637573627, 705513029]\n",
            "Invalid likelihood value. Increasing nugget...\n",
            "[104385800, 637573627, 705513029]\n",
            "[104385800, 637573627, 705513029]\n",
            "[104385800, 637573627, 705513029]\n",
            "[104385800, 637573627, 705513029]\n",
            "[104385800, 637573627, 705513029]\n",
            "[104385800, 637573627, 705513029]\n",
            "[104385800, 637573627, 705513029]\n",
            "[104385800, 637573627, 705513029]\n",
            "[104385800, 637573627, 705513029]\n",
            "[104385800, 637573627, 705513029]\n",
            "   12    132 9.002798747478407e+00 1.6e+00 1.24e+00  1e+00  1e+00 17:23.1\n",
            "[597623957, 101841489, 590019245]\n",
            "[597623957, 101841489, 590019245]\n",
            "[597623957, 101841489, 590019245]\n",
            "[597623957, 101841489, 590019245]\n",
            "[597623957, 101841489, 590019245]\n",
            "Invalid likelihood value. Increasing nugget...\n",
            "[597623957, 101841489, 590019245]\n",
            "[597623957, 101841489, 590019245]\n",
            "[597623957, 101841489, 590019245]\n",
            "[597623957, 101841489, 590019245]\n",
            "[597623957, 101841489, 590019245]\n",
            "[597623957, 101841489, 590019245]\n",
            "   13    143 8.799001511003759e+00 1.6e+00 1.22e+00  1e+00  1e+00 18:54.3\n",
            "[1874809778, 476201470, 1524655072]\n",
            "Invalid likelihood value. Increasing nugget...\n",
            "[1874809778, 476201470, 1524655072]\n",
            "Invalid likelihood value. Increasing nugget...\n",
            "[1874809778, 476201470, 1524655072]\n",
            "Invalid likelihood value. Increasing nugget...\n",
            "Invalid likelihood value. Increasing nugget...\n",
            "[1874809778, 476201470, 1524655072]\n",
            "Invalid likelihood value. Increasing nugget...\n",
            "Invalid likelihood value. Increasing nugget...\n",
            "[1874809778, 476201470, 1524655072]\n",
            "Invalid likelihood value. Increasing nugget...\n",
            "[1874809778, 476201470, 1524655072]\n",
            "[1874809778, 476201470, 1524655072]\n",
            "Invalid likelihood value. Increasing nugget...\n",
            "[1874809778, 476201470, 1524655072]\n",
            "Invalid likelihood value. Increasing nugget...\n",
            "[1874809778, 476201470, 1524655072]\n",
            "[1874809778, 476201470, 1524655072]\n",
            "Invalid likelihood value. Increasing nugget...\n",
            "Invalid likelihood value. Increasing nugget...\n",
            "[1874809778, 476201470, 1524655072]\n",
            "   14    154 4.980578530694141e+00 1.7e+00 1.25e+00  1e+00  1e+00 20:18.9\n",
            "[1846915629, 319501579, 1359356797]\n",
            "[1846915629, 319501579, 1359356797]\n",
            "Invalid likelihood value. Increasing nugget...\n",
            "[1846915629, 319501579, 1359356797]\n",
            "[1846915629, 319501579, 1359356797]\n",
            "[1846915629, 319501579, 1359356797]\n",
            "[1846915629, 319501579, 1359356797]\n",
            "[1846915629, 319501579, 1359356797]\n",
            "[1846915629, 319501579, 1359356797]\n",
            "[1846915629, 319501579, 1359356797]\n",
            "[1846915629, 319501579, 1359356797]\n",
            "[1846915629, 319501579, 1359356797]\n",
            "   15    165 7.176406084231786e+00 1.8e+00 1.31e+00  1e+00  1e+00 21:59.8\n",
            "[114995871, 1157171255, 1425728285]\n",
            "Invalid likelihood value. Increasing nugget...\n",
            "[114995871, 1157171255, 1425728285]\n",
            "[114995871, 1157171255, 1425728285]\n",
            "[114995871, 1157171255, 1425728285]\n",
            "Invalid likelihood value. Increasing nugget...\n",
            "[114995871, 1157171255, 1425728285]\n",
            "[114995871, 1157171255, 1425728285]\n",
            "Invalid likelihood value. Increasing nugget...\n",
            "[114995871, 1157171255, 1425728285]\n",
            "Invalid likelihood value. Increasing nugget...\n",
            "Invalid likelihood value. Increasing nugget...\n",
            "Invalid likelihood value. Increasing nugget...\n",
            "[114995871, 1157171255, 1425728285]\n",
            "Invalid likelihood value. Increasing nugget...\n",
            "[114995871, 1157171255, 1425728285]\n",
            "[114995871, 1157171255, 1425728285]\n",
            "[114995871, 1157171255, 1425728285]\n",
            "Invalid likelihood value. Increasing nugget...\n",
            "   16    176 5.208289213792047e+00 1.9e+00 1.27e+00  1e+00  1e+00 23:24.5\n",
            "[366794197, 1281455660, 708681325]\n",
            "Invalid likelihood value. Increasing nugget...\n",
            "[366794197, 1281455660, 708681325]\n",
            "[366794197, 1281455660, 708681325]\n",
            "Invalid likelihood value. Increasing nugget...\n",
            "[366794197, 1281455660, 708681325]\n",
            "Invalid likelihood value. Increasing nugget...\n",
            "[366794197, 1281455660, 708681325]\n",
            "[366794197, 1281455660, 708681325]\n",
            "Invalid likelihood value. Increasing nugget...\n",
            "[366794197, 1281455660, 708681325]\n",
            "Invalid likelihood value. Increasing nugget...\n",
            "[366794197, 1281455660, 708681325]\n",
            "Invalid likelihood value. Increasing nugget...\n",
            "[366794197, 1281455660, 708681325]\n",
            "[366794197, 1281455660, 708681325]\n",
            "[366794197, 1281455660, 708681325]\n",
            "   17    187 7.672950517711201e+00 1.9e+00 1.20e+00  1e+00  1e+00 24:41.9\n",
            "[1428655094, 909226738, 2134097890]\n",
            "Invalid likelihood value. Increasing nugget...\n",
            "[1428655094, 909226738, 2134097890]\n",
            "[1428655094, 909226738, 2134097890]\n",
            "[1428655094, 909226738, 2134097890]\n",
            "[1428655094, 909226738, 2134097890]\n",
            "[1428655094, 909226738, 2134097890]\n",
            "[1428655094, 909226738, 2134097890]\n",
            "[1428655094, 909226738, 2134097890]\n",
            "[1428655094, 909226738, 2134097890]\n",
            "[1428655094, 909226738, 2134097890]\n",
            "[1428655094, 909226738, 2134097890]\n",
            "   18    198 7.719712454790939e+00 1.9e+00 1.22e+00  1e+00  1e+00 26:18.3\n",
            "[1663587672, 1748947072, 1151088343]\n",
            "[1663587672, 1748947072, 1151088343]\n",
            "[1663587672, 1748947072, 1151088343]\n",
            "[1663587672, 1748947072, 1151088343]\n",
            "Invalid likelihood value. Increasing nugget...\n",
            "[1663587672, 1748947072, 1151088343]\n",
            "[1663587672, 1748947072, 1151088343]\n",
            "[1663587672, 1748947072, 1151088343]\n",
            "[1663587672, 1748947072, 1151088343]\n",
            "[1663587672, 1748947072, 1151088343]\n",
            "[1663587672, 1748947072, 1151088343]\n",
            "[1663587672, 1748947072, 1151088343]\n",
            "   19    209 1.039747540288654e+01 1.9e+00 1.19e+00  1e+00  1e+00 27:49.4\n",
            "[1358540125, 1044006575, 1473510937]\n",
            "[1358540125, 1044006575, 1473510937]\n",
            "[1358540125, 1044006575, 1473510937]\n",
            "[1358540125, 1044006575, 1473510937]\n",
            "[1358540125, 1044006575, 1473510937]\n",
            "[1358540125, 1044006575, 1473510937]\n",
            "[1358540125, 1044006575, 1473510937]\n",
            "Invalid likelihood value. Increasing nugget...\n",
            "[1358540125, 1044006575, 1473510937]\n",
            "[1358540125, 1044006575, 1473510937]\n",
            "[1358540125, 1044006575, 1473510937]\n",
            "[1358540125, 1044006575, 1473510937]\n",
            "   20    220 6.794429819918939e+00 1.9e+00 1.16e+00  1e+00  1e+00 29:10.9\n",
            "[0, 1, 2, 3, 4, 5, 6, 7, 8, 9, 10, 11, 12, 13, 14, 15, 16, 17, 18, 19, 20, 21, 22, 23, 24, 25, 26, 27, 28, 29, 30, 31, 32, 33, 34, 35, 36, 37, 38, 39, 40, 41, 42, 43, 44, 45, 46, 47, 48, 49]\n",
            "Invalid likelihood value. Increasing nugget...\n",
            "Invalid likelihood value. Increasing nugget...\n",
            "Invalid likelihood value. Increasing nugget...\n",
            "Invalid likelihood value. Increasing nugget...\n",
            "Invalid likelihood value. Increasing nugget...\n",
            "Invalid likelihood value. Increasing nugget...\n",
            "termination on maxiter=20 (Wed Nov 16 16:15:35 2022)\n",
            "final/bestever f-value = 1.650091e+01 2.106843e+00\n",
            "incumbent solution: [-2.5791367  -3.88960451  1.76985834 -3.92878883 -2.6822807   2.88372152\n",
            " -2.77838466  2.46128201 ...]\n",
            "std deviations: [1.22496882 1.09349343 1.22207831 1.05018596 1.19855344 1.03161527\n",
            " 1.24691826 1.07744409 ...]\n"
          ]
        }
      ],
      "source": [
        "doe, es = cma_es_experiment(doe_size, func_seeds, individual0, sigma0 = ub / 3)"
      ]
    },
    {
      "cell_type": "code",
      "source": [
        "doe"
      ],
      "metadata": {
        "id": "juFt6SPf4cNO",
        "colab": {
          "base_uri": "https://localhost:8080/"
        },
        "outputId": "58f1129c-240c-45a2-e923-5c5f2e8fbe5b"
      },
      "execution_count": null,
      "outputs": [
        {
          "output_type": "execute_result",
          "data": {
            "text/plain": [
              "[array([-0.60934463, -0.53824901]),\n",
              " array([ 3.57933552, -3.17003053]),\n",
              " array([-1.18097613,  4.98047291]),\n",
              " array([-2.17753949,  5.        ]),\n",
              " array([-4.10475949, -0.25245231]),\n",
              " array([-0.71669831, -1.93372999])]"
            ]
          },
          "metadata": {},
          "execution_count": 11
        }
      ]
    },
    {
      "cell_type": "code",
      "source": [
        "precision, regrets, history = test(doe, n=50)"
      ],
      "metadata": {
        "id": "QKISWjXM4m6h",
        "colab": {
          "base_uri": "https://localhost:8080/",
          "height": 140,
          "referenced_widgets": [
            "c352e319e11b485e8a1f14bffe5ebb1f",
            "e5deb1d3d4974561a266a30b8202dfb2",
            "c91163f8a9eb4597836e270fcc0cc1f5",
            "6916006db00b4929a1e32735505212f8",
            "83cbd00d648a47cba1ac3a590aebf117",
            "24a3f9c55aa344ccb627bccea9fe0e53",
            "47cdb388acc14f26a62e326d28f8d645",
            "c6256c5450ea49cb8ba7de90d9e47a1b",
            "5f0b1346d2d64ee9adad710986be857f",
            "d86c57640e50423a8250e9eebc1acb16",
            "4128778ce4c24850aeb2590c05b95491"
          ]
        },
        "outputId": "215818fa-7dea-4a64-b211-482b18c56470"
      },
      "execution_count": null,
      "outputs": [
        {
          "output_type": "display_data",
          "data": {
            "text/plain": [
              "  0%|          | 0/50 [00:00<?, ?it/s]"
            ],
            "application/vnd.jupyter.widget-view+json": {
              "version_major": 2,
              "version_minor": 0,
              "model_id": "c352e319e11b485e8a1f14bffe5ebb1f"
            }
          },
          "metadata": {}
        },
        {
          "output_type": "stream",
          "name": "stdout",
          "text": [
            "Invalid likelihood value. Increasing nugget...\n",
            "Invalid likelihood value. Increasing nugget...\n",
            "Invalid likelihood value. Increasing nugget...\n",
            "Invalid likelihood value. Increasing nugget...\n",
            "Invalid likelihood value. Increasing nugget...\n"
          ]
        }
      ]
    },
    {
      "cell_type": "code",
      "source": [
        "np.mean(precision)"
      ],
      "metadata": {
        "colab": {
          "base_uri": "https://localhost:8080/"
        },
        "id": "X365t3XG6gew",
        "outputId": "6e8138b1-02e6-4b84-e6eb-4d3d18e2f95b"
      },
      "execution_count": null,
      "outputs": [
        {
          "output_type": "execute_result",
          "data": {
            "text/plain": [
              "1057220.6893083798"
            ]
          },
          "metadata": {},
          "execution_count": 13
        }
      ]
    },
    {
      "cell_type": "code",
      "source": [
        "pd.DataFrame(additional_metrics(history)).drop('bo', axis=1).to_csv(f'{f_name}_cma_es_doe.csv')"
      ],
      "metadata": {
        "id": "V-cuP51a4PuQ"
      },
      "execution_count": null,
      "outputs": []
    },
    {
      "cell_type": "code",
      "source": [
        "doe_lhs = np.split(individual0, doe_size)\n",
        "doe_lhs"
      ],
      "metadata": {
        "colab": {
          "base_uri": "https://localhost:8080/"
        },
        "id": "X9gcGak268EZ",
        "outputId": "6873f64f-41b1-498f-eece-48e26a255480"
      },
      "execution_count": null,
      "outputs": [
        {
          "output_type": "execute_result",
          "data": {
            "text/plain": [
              "[array([-1.54901728,  1.34212926]),\n",
              " array([ 3.81413919, -3.47714037]),\n",
              " array([2.30841543, 2.00327005]),\n",
              " array([0.50808908, 4.5586762 ]),\n",
              " array([-4.72791635, -2.09921999]),\n",
              " array([-1.67488531, -1.05830264])]"
            ]
          },
          "metadata": {},
          "execution_count": 15
        }
      ]
    },
    {
      "cell_type": "code",
      "source": [
        "lhs_precision, lhs_regrets, lhs_history = test(doe_lhs, n=50)"
      ],
      "metadata": {
        "colab": {
          "base_uri": "https://localhost:8080/",
          "height": 249,
          "referenced_widgets": [
            "993b333c9a964d6c9b15a293999c97da",
            "9f0bb554f2ed4b139d1a390fb361d1be",
            "9dc733d19dcf473d9ee5b532e28d25b0",
            "0de3ae150c5d433ebca49359ef4168ac",
            "863bd2573b3843e194a13bb89825623b",
            "4fdc488d2a874ead8850eecc75b4dafa",
            "f32626edc3b94435bed83fd35fdb2f10",
            "16c4f1ae147f4dfba299f4dc148839e6",
            "ab9ecacdc6c94df9a89b201bba4fdde4",
            "c75feddbbf2349e1adf6618d9a3729c5",
            "c412e5d223da42e0aa28cf1bd393d7d5"
          ]
        },
        "id": "q0mv-R_h7AOq",
        "outputId": "eb11e851-bafb-4231-c72d-4918b2d7aebd"
      },
      "execution_count": null,
      "outputs": [
        {
          "output_type": "display_data",
          "data": {
            "text/plain": [
              "  0%|          | 0/50 [00:00<?, ?it/s]"
            ],
            "application/vnd.jupyter.widget-view+json": {
              "version_major": 2,
              "version_minor": 0,
              "model_id": "993b333c9a964d6c9b15a293999c97da"
            }
          },
          "metadata": {}
        },
        {
          "output_type": "stream",
          "name": "stdout",
          "text": [
            "Invalid likelihood value. Increasing nugget...\n",
            "Invalid likelihood value. Increasing nugget...\n",
            "Invalid likelihood value. Increasing nugget...\n",
            "Invalid likelihood value. Increasing nugget...\n",
            "Invalid likelihood value. Increasing nugget...\n",
            "Invalid likelihood value. Increasing nugget...\n",
            "Invalid likelihood value. Increasing nugget...\n",
            "Invalid likelihood value. Increasing nugget...\n",
            "Invalid likelihood value. Increasing nugget...\n",
            "Invalid likelihood value. Increasing nugget...\n",
            "Invalid likelihood value. Increasing nugget...\n"
          ]
        }
      ]
    },
    {
      "cell_type": "code",
      "source": [
        "np.mean(lhs_precision)"
      ],
      "metadata": {
        "colab": {
          "base_uri": "https://localhost:8080/"
        },
        "id": "r5Gz4lrmdqXU",
        "outputId": "c916c8b3-98a2-4ead-a964-4b334dd6177b"
      },
      "execution_count": null,
      "outputs": [
        {
          "output_type": "execute_result",
          "data": {
            "text/plain": [
              "1058052.3795259842"
            ]
          },
          "metadata": {},
          "execution_count": 17
        }
      ]
    },
    {
      "cell_type": "code",
      "source": [
        "pd.DataFrame(additional_metrics(lhs_history)).drop('bo', axis=1).to_csv(f'{f_name}_lhs_initial_doe.csv')"
      ],
      "metadata": {
        "id": "L7bKbKm6KLCP"
      },
      "execution_count": null,
      "outputs": []
    }
  ],
  "metadata": {
    "colab": {
      "provenance": []
    },
    "kernelspec": {
      "display_name": "Python 3",
      "name": "python3"
    },
    "language_info": {
      "name": "python"
    },
    "widgets": {
      "application/vnd.jupyter.widget-state+json": {
        "c352e319e11b485e8a1f14bffe5ebb1f": {
          "model_module": "@jupyter-widgets/controls",
          "model_name": "HBoxModel",
          "model_module_version": "1.5.0",
          "state": {
            "_dom_classes": [],
            "_model_module": "@jupyter-widgets/controls",
            "_model_module_version": "1.5.0",
            "_model_name": "HBoxModel",
            "_view_count": null,
            "_view_module": "@jupyter-widgets/controls",
            "_view_module_version": "1.5.0",
            "_view_name": "HBoxView",
            "box_style": "",
            "children": [
              "IPY_MODEL_e5deb1d3d4974561a266a30b8202dfb2",
              "IPY_MODEL_c91163f8a9eb4597836e270fcc0cc1f5",
              "IPY_MODEL_6916006db00b4929a1e32735505212f8"
            ],
            "layout": "IPY_MODEL_83cbd00d648a47cba1ac3a590aebf117"
          }
        },
        "e5deb1d3d4974561a266a30b8202dfb2": {
          "model_module": "@jupyter-widgets/controls",
          "model_name": "HTMLModel",
          "model_module_version": "1.5.0",
          "state": {
            "_dom_classes": [],
            "_model_module": "@jupyter-widgets/controls",
            "_model_module_version": "1.5.0",
            "_model_name": "HTMLModel",
            "_view_count": null,
            "_view_module": "@jupyter-widgets/controls",
            "_view_module_version": "1.5.0",
            "_view_name": "HTMLView",
            "description": "",
            "description_tooltip": null,
            "layout": "IPY_MODEL_24a3f9c55aa344ccb627bccea9fe0e53",
            "placeholder": "​",
            "style": "IPY_MODEL_47cdb388acc14f26a62e326d28f8d645",
            "value": "100%"
          }
        },
        "c91163f8a9eb4597836e270fcc0cc1f5": {
          "model_module": "@jupyter-widgets/controls",
          "model_name": "FloatProgressModel",
          "model_module_version": "1.5.0",
          "state": {
            "_dom_classes": [],
            "_model_module": "@jupyter-widgets/controls",
            "_model_module_version": "1.5.0",
            "_model_name": "FloatProgressModel",
            "_view_count": null,
            "_view_module": "@jupyter-widgets/controls",
            "_view_module_version": "1.5.0",
            "_view_name": "ProgressView",
            "bar_style": "success",
            "description": "",
            "description_tooltip": null,
            "layout": "IPY_MODEL_c6256c5450ea49cb8ba7de90d9e47a1b",
            "max": 50,
            "min": 0,
            "orientation": "horizontal",
            "style": "IPY_MODEL_5f0b1346d2d64ee9adad710986be857f",
            "value": 50
          }
        },
        "6916006db00b4929a1e32735505212f8": {
          "model_module": "@jupyter-widgets/controls",
          "model_name": "HTMLModel",
          "model_module_version": "1.5.0",
          "state": {
            "_dom_classes": [],
            "_model_module": "@jupyter-widgets/controls",
            "_model_module_version": "1.5.0",
            "_model_name": "HTMLModel",
            "_view_count": null,
            "_view_module": "@jupyter-widgets/controls",
            "_view_module_version": "1.5.0",
            "_view_name": "HTMLView",
            "description": "",
            "description_tooltip": null,
            "layout": "IPY_MODEL_d86c57640e50423a8250e9eebc1acb16",
            "placeholder": "​",
            "style": "IPY_MODEL_4128778ce4c24850aeb2590c05b95491",
            "value": " 50/50 [02:23&lt;00:00,  2.58s/it]"
          }
        },
        "83cbd00d648a47cba1ac3a590aebf117": {
          "model_module": "@jupyter-widgets/base",
          "model_name": "LayoutModel",
          "model_module_version": "1.2.0",
          "state": {
            "_model_module": "@jupyter-widgets/base",
            "_model_module_version": "1.2.0",
            "_model_name": "LayoutModel",
            "_view_count": null,
            "_view_module": "@jupyter-widgets/base",
            "_view_module_version": "1.2.0",
            "_view_name": "LayoutView",
            "align_content": null,
            "align_items": null,
            "align_self": null,
            "border": null,
            "bottom": null,
            "display": null,
            "flex": null,
            "flex_flow": null,
            "grid_area": null,
            "grid_auto_columns": null,
            "grid_auto_flow": null,
            "grid_auto_rows": null,
            "grid_column": null,
            "grid_gap": null,
            "grid_row": null,
            "grid_template_areas": null,
            "grid_template_columns": null,
            "grid_template_rows": null,
            "height": null,
            "justify_content": null,
            "justify_items": null,
            "left": null,
            "margin": null,
            "max_height": null,
            "max_width": null,
            "min_height": null,
            "min_width": null,
            "object_fit": null,
            "object_position": null,
            "order": null,
            "overflow": null,
            "overflow_x": null,
            "overflow_y": null,
            "padding": null,
            "right": null,
            "top": null,
            "visibility": null,
            "width": null
          }
        },
        "24a3f9c55aa344ccb627bccea9fe0e53": {
          "model_module": "@jupyter-widgets/base",
          "model_name": "LayoutModel",
          "model_module_version": "1.2.0",
          "state": {
            "_model_module": "@jupyter-widgets/base",
            "_model_module_version": "1.2.0",
            "_model_name": "LayoutModel",
            "_view_count": null,
            "_view_module": "@jupyter-widgets/base",
            "_view_module_version": "1.2.0",
            "_view_name": "LayoutView",
            "align_content": null,
            "align_items": null,
            "align_self": null,
            "border": null,
            "bottom": null,
            "display": null,
            "flex": null,
            "flex_flow": null,
            "grid_area": null,
            "grid_auto_columns": null,
            "grid_auto_flow": null,
            "grid_auto_rows": null,
            "grid_column": null,
            "grid_gap": null,
            "grid_row": null,
            "grid_template_areas": null,
            "grid_template_columns": null,
            "grid_template_rows": null,
            "height": null,
            "justify_content": null,
            "justify_items": null,
            "left": null,
            "margin": null,
            "max_height": null,
            "max_width": null,
            "min_height": null,
            "min_width": null,
            "object_fit": null,
            "object_position": null,
            "order": null,
            "overflow": null,
            "overflow_x": null,
            "overflow_y": null,
            "padding": null,
            "right": null,
            "top": null,
            "visibility": null,
            "width": null
          }
        },
        "47cdb388acc14f26a62e326d28f8d645": {
          "model_module": "@jupyter-widgets/controls",
          "model_name": "DescriptionStyleModel",
          "model_module_version": "1.5.0",
          "state": {
            "_model_module": "@jupyter-widgets/controls",
            "_model_module_version": "1.5.0",
            "_model_name": "DescriptionStyleModel",
            "_view_count": null,
            "_view_module": "@jupyter-widgets/base",
            "_view_module_version": "1.2.0",
            "_view_name": "StyleView",
            "description_width": ""
          }
        },
        "c6256c5450ea49cb8ba7de90d9e47a1b": {
          "model_module": "@jupyter-widgets/base",
          "model_name": "LayoutModel",
          "model_module_version": "1.2.0",
          "state": {
            "_model_module": "@jupyter-widgets/base",
            "_model_module_version": "1.2.0",
            "_model_name": "LayoutModel",
            "_view_count": null,
            "_view_module": "@jupyter-widgets/base",
            "_view_module_version": "1.2.0",
            "_view_name": "LayoutView",
            "align_content": null,
            "align_items": null,
            "align_self": null,
            "border": null,
            "bottom": null,
            "display": null,
            "flex": null,
            "flex_flow": null,
            "grid_area": null,
            "grid_auto_columns": null,
            "grid_auto_flow": null,
            "grid_auto_rows": null,
            "grid_column": null,
            "grid_gap": null,
            "grid_row": null,
            "grid_template_areas": null,
            "grid_template_columns": null,
            "grid_template_rows": null,
            "height": null,
            "justify_content": null,
            "justify_items": null,
            "left": null,
            "margin": null,
            "max_height": null,
            "max_width": null,
            "min_height": null,
            "min_width": null,
            "object_fit": null,
            "object_position": null,
            "order": null,
            "overflow": null,
            "overflow_x": null,
            "overflow_y": null,
            "padding": null,
            "right": null,
            "top": null,
            "visibility": null,
            "width": null
          }
        },
        "5f0b1346d2d64ee9adad710986be857f": {
          "model_module": "@jupyter-widgets/controls",
          "model_name": "ProgressStyleModel",
          "model_module_version": "1.5.0",
          "state": {
            "_model_module": "@jupyter-widgets/controls",
            "_model_module_version": "1.5.0",
            "_model_name": "ProgressStyleModel",
            "_view_count": null,
            "_view_module": "@jupyter-widgets/base",
            "_view_module_version": "1.2.0",
            "_view_name": "StyleView",
            "bar_color": null,
            "description_width": ""
          }
        },
        "d86c57640e50423a8250e9eebc1acb16": {
          "model_module": "@jupyter-widgets/base",
          "model_name": "LayoutModel",
          "model_module_version": "1.2.0",
          "state": {
            "_model_module": "@jupyter-widgets/base",
            "_model_module_version": "1.2.0",
            "_model_name": "LayoutModel",
            "_view_count": null,
            "_view_module": "@jupyter-widgets/base",
            "_view_module_version": "1.2.0",
            "_view_name": "LayoutView",
            "align_content": null,
            "align_items": null,
            "align_self": null,
            "border": null,
            "bottom": null,
            "display": null,
            "flex": null,
            "flex_flow": null,
            "grid_area": null,
            "grid_auto_columns": null,
            "grid_auto_flow": null,
            "grid_auto_rows": null,
            "grid_column": null,
            "grid_gap": null,
            "grid_row": null,
            "grid_template_areas": null,
            "grid_template_columns": null,
            "grid_template_rows": null,
            "height": null,
            "justify_content": null,
            "justify_items": null,
            "left": null,
            "margin": null,
            "max_height": null,
            "max_width": null,
            "min_height": null,
            "min_width": null,
            "object_fit": null,
            "object_position": null,
            "order": null,
            "overflow": null,
            "overflow_x": null,
            "overflow_y": null,
            "padding": null,
            "right": null,
            "top": null,
            "visibility": null,
            "width": null
          }
        },
        "4128778ce4c24850aeb2590c05b95491": {
          "model_module": "@jupyter-widgets/controls",
          "model_name": "DescriptionStyleModel",
          "model_module_version": "1.5.0",
          "state": {
            "_model_module": "@jupyter-widgets/controls",
            "_model_module_version": "1.5.0",
            "_model_name": "DescriptionStyleModel",
            "_view_count": null,
            "_view_module": "@jupyter-widgets/base",
            "_view_module_version": "1.2.0",
            "_view_name": "StyleView",
            "description_width": ""
          }
        },
        "993b333c9a964d6c9b15a293999c97da": {
          "model_module": "@jupyter-widgets/controls",
          "model_name": "HBoxModel",
          "model_module_version": "1.5.0",
          "state": {
            "_dom_classes": [],
            "_model_module": "@jupyter-widgets/controls",
            "_model_module_version": "1.5.0",
            "_model_name": "HBoxModel",
            "_view_count": null,
            "_view_module": "@jupyter-widgets/controls",
            "_view_module_version": "1.5.0",
            "_view_name": "HBoxView",
            "box_style": "",
            "children": [
              "IPY_MODEL_9f0bb554f2ed4b139d1a390fb361d1be",
              "IPY_MODEL_9dc733d19dcf473d9ee5b532e28d25b0",
              "IPY_MODEL_0de3ae150c5d433ebca49359ef4168ac"
            ],
            "layout": "IPY_MODEL_863bd2573b3843e194a13bb89825623b"
          }
        },
        "9f0bb554f2ed4b139d1a390fb361d1be": {
          "model_module": "@jupyter-widgets/controls",
          "model_name": "HTMLModel",
          "model_module_version": "1.5.0",
          "state": {
            "_dom_classes": [],
            "_model_module": "@jupyter-widgets/controls",
            "_model_module_version": "1.5.0",
            "_model_name": "HTMLModel",
            "_view_count": null,
            "_view_module": "@jupyter-widgets/controls",
            "_view_module_version": "1.5.0",
            "_view_name": "HTMLView",
            "description": "",
            "description_tooltip": null,
            "layout": "IPY_MODEL_4fdc488d2a874ead8850eecc75b4dafa",
            "placeholder": "​",
            "style": "IPY_MODEL_f32626edc3b94435bed83fd35fdb2f10",
            "value": "100%"
          }
        },
        "9dc733d19dcf473d9ee5b532e28d25b0": {
          "model_module": "@jupyter-widgets/controls",
          "model_name": "FloatProgressModel",
          "model_module_version": "1.5.0",
          "state": {
            "_dom_classes": [],
            "_model_module": "@jupyter-widgets/controls",
            "_model_module_version": "1.5.0",
            "_model_name": "FloatProgressModel",
            "_view_count": null,
            "_view_module": "@jupyter-widgets/controls",
            "_view_module_version": "1.5.0",
            "_view_name": "ProgressView",
            "bar_style": "success",
            "description": "",
            "description_tooltip": null,
            "layout": "IPY_MODEL_16c4f1ae147f4dfba299f4dc148839e6",
            "max": 50,
            "min": 0,
            "orientation": "horizontal",
            "style": "IPY_MODEL_ab9ecacdc6c94df9a89b201bba4fdde4",
            "value": 50
          }
        },
        "0de3ae150c5d433ebca49359ef4168ac": {
          "model_module": "@jupyter-widgets/controls",
          "model_name": "HTMLModel",
          "model_module_version": "1.5.0",
          "state": {
            "_dom_classes": [],
            "_model_module": "@jupyter-widgets/controls",
            "_model_module_version": "1.5.0",
            "_model_name": "HTMLModel",
            "_view_count": null,
            "_view_module": "@jupyter-widgets/controls",
            "_view_module_version": "1.5.0",
            "_view_name": "HTMLView",
            "description": "",
            "description_tooltip": null,
            "layout": "IPY_MODEL_c75feddbbf2349e1adf6618d9a3729c5",
            "placeholder": "​",
            "style": "IPY_MODEL_c412e5d223da42e0aa28cf1bd393d7d5",
            "value": " 50/50 [02:13&lt;00:00,  2.48s/it]"
          }
        },
        "863bd2573b3843e194a13bb89825623b": {
          "model_module": "@jupyter-widgets/base",
          "model_name": "LayoutModel",
          "model_module_version": "1.2.0",
          "state": {
            "_model_module": "@jupyter-widgets/base",
            "_model_module_version": "1.2.0",
            "_model_name": "LayoutModel",
            "_view_count": null,
            "_view_module": "@jupyter-widgets/base",
            "_view_module_version": "1.2.0",
            "_view_name": "LayoutView",
            "align_content": null,
            "align_items": null,
            "align_self": null,
            "border": null,
            "bottom": null,
            "display": null,
            "flex": null,
            "flex_flow": null,
            "grid_area": null,
            "grid_auto_columns": null,
            "grid_auto_flow": null,
            "grid_auto_rows": null,
            "grid_column": null,
            "grid_gap": null,
            "grid_row": null,
            "grid_template_areas": null,
            "grid_template_columns": null,
            "grid_template_rows": null,
            "height": null,
            "justify_content": null,
            "justify_items": null,
            "left": null,
            "margin": null,
            "max_height": null,
            "max_width": null,
            "min_height": null,
            "min_width": null,
            "object_fit": null,
            "object_position": null,
            "order": null,
            "overflow": null,
            "overflow_x": null,
            "overflow_y": null,
            "padding": null,
            "right": null,
            "top": null,
            "visibility": null,
            "width": null
          }
        },
        "4fdc488d2a874ead8850eecc75b4dafa": {
          "model_module": "@jupyter-widgets/base",
          "model_name": "LayoutModel",
          "model_module_version": "1.2.0",
          "state": {
            "_model_module": "@jupyter-widgets/base",
            "_model_module_version": "1.2.0",
            "_model_name": "LayoutModel",
            "_view_count": null,
            "_view_module": "@jupyter-widgets/base",
            "_view_module_version": "1.2.0",
            "_view_name": "LayoutView",
            "align_content": null,
            "align_items": null,
            "align_self": null,
            "border": null,
            "bottom": null,
            "display": null,
            "flex": null,
            "flex_flow": null,
            "grid_area": null,
            "grid_auto_columns": null,
            "grid_auto_flow": null,
            "grid_auto_rows": null,
            "grid_column": null,
            "grid_gap": null,
            "grid_row": null,
            "grid_template_areas": null,
            "grid_template_columns": null,
            "grid_template_rows": null,
            "height": null,
            "justify_content": null,
            "justify_items": null,
            "left": null,
            "margin": null,
            "max_height": null,
            "max_width": null,
            "min_height": null,
            "min_width": null,
            "object_fit": null,
            "object_position": null,
            "order": null,
            "overflow": null,
            "overflow_x": null,
            "overflow_y": null,
            "padding": null,
            "right": null,
            "top": null,
            "visibility": null,
            "width": null
          }
        },
        "f32626edc3b94435bed83fd35fdb2f10": {
          "model_module": "@jupyter-widgets/controls",
          "model_name": "DescriptionStyleModel",
          "model_module_version": "1.5.0",
          "state": {
            "_model_module": "@jupyter-widgets/controls",
            "_model_module_version": "1.5.0",
            "_model_name": "DescriptionStyleModel",
            "_view_count": null,
            "_view_module": "@jupyter-widgets/base",
            "_view_module_version": "1.2.0",
            "_view_name": "StyleView",
            "description_width": ""
          }
        },
        "16c4f1ae147f4dfba299f4dc148839e6": {
          "model_module": "@jupyter-widgets/base",
          "model_name": "LayoutModel",
          "model_module_version": "1.2.0",
          "state": {
            "_model_module": "@jupyter-widgets/base",
            "_model_module_version": "1.2.0",
            "_model_name": "LayoutModel",
            "_view_count": null,
            "_view_module": "@jupyter-widgets/base",
            "_view_module_version": "1.2.0",
            "_view_name": "LayoutView",
            "align_content": null,
            "align_items": null,
            "align_self": null,
            "border": null,
            "bottom": null,
            "display": null,
            "flex": null,
            "flex_flow": null,
            "grid_area": null,
            "grid_auto_columns": null,
            "grid_auto_flow": null,
            "grid_auto_rows": null,
            "grid_column": null,
            "grid_gap": null,
            "grid_row": null,
            "grid_template_areas": null,
            "grid_template_columns": null,
            "grid_template_rows": null,
            "height": null,
            "justify_content": null,
            "justify_items": null,
            "left": null,
            "margin": null,
            "max_height": null,
            "max_width": null,
            "min_height": null,
            "min_width": null,
            "object_fit": null,
            "object_position": null,
            "order": null,
            "overflow": null,
            "overflow_x": null,
            "overflow_y": null,
            "padding": null,
            "right": null,
            "top": null,
            "visibility": null,
            "width": null
          }
        },
        "ab9ecacdc6c94df9a89b201bba4fdde4": {
          "model_module": "@jupyter-widgets/controls",
          "model_name": "ProgressStyleModel",
          "model_module_version": "1.5.0",
          "state": {
            "_model_module": "@jupyter-widgets/controls",
            "_model_module_version": "1.5.0",
            "_model_name": "ProgressStyleModel",
            "_view_count": null,
            "_view_module": "@jupyter-widgets/base",
            "_view_module_version": "1.2.0",
            "_view_name": "StyleView",
            "bar_color": null,
            "description_width": ""
          }
        },
        "c75feddbbf2349e1adf6618d9a3729c5": {
          "model_module": "@jupyter-widgets/base",
          "model_name": "LayoutModel",
          "model_module_version": "1.2.0",
          "state": {
            "_model_module": "@jupyter-widgets/base",
            "_model_module_version": "1.2.0",
            "_model_name": "LayoutModel",
            "_view_count": null,
            "_view_module": "@jupyter-widgets/base",
            "_view_module_version": "1.2.0",
            "_view_name": "LayoutView",
            "align_content": null,
            "align_items": null,
            "align_self": null,
            "border": null,
            "bottom": null,
            "display": null,
            "flex": null,
            "flex_flow": null,
            "grid_area": null,
            "grid_auto_columns": null,
            "grid_auto_flow": null,
            "grid_auto_rows": null,
            "grid_column": null,
            "grid_gap": null,
            "grid_row": null,
            "grid_template_areas": null,
            "grid_template_columns": null,
            "grid_template_rows": null,
            "height": null,
            "justify_content": null,
            "justify_items": null,
            "left": null,
            "margin": null,
            "max_height": null,
            "max_width": null,
            "min_height": null,
            "min_width": null,
            "object_fit": null,
            "object_position": null,
            "order": null,
            "overflow": null,
            "overflow_x": null,
            "overflow_y": null,
            "padding": null,
            "right": null,
            "top": null,
            "visibility": null,
            "width": null
          }
        },
        "c412e5d223da42e0aa28cf1bd393d7d5": {
          "model_module": "@jupyter-widgets/controls",
          "model_name": "DescriptionStyleModel",
          "model_module_version": "1.5.0",
          "state": {
            "_model_module": "@jupyter-widgets/controls",
            "_model_module_version": "1.5.0",
            "_model_name": "DescriptionStyleModel",
            "_view_count": null,
            "_view_module": "@jupyter-widgets/base",
            "_view_module_version": "1.2.0",
            "_view_name": "StyleView",
            "description_width": ""
          }
        }
      }
    }
  },
  "nbformat": 4,
  "nbformat_minor": 0
}