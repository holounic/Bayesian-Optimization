{
  "cells": [
    {
      "cell_type": "code",
      "execution_count": 1,
      "metadata": {
        "colab": {
          "base_uri": "https://localhost:8080/"
        },
        "id": "EZkYkyogi9Uh",
        "outputId": "89b40e72-ef06-4e94-b5df-9482ca4cf49f"
      },
      "outputs": [
        {
          "output_type": "stream",
          "name": "stdout",
          "text": [
            "Looking in indexes: https://pypi.org/simple, https://us-python.pkg.dev/colab-wheels/public/simple/\n",
            "Collecting git+https://github.com/holounic/Bayesian-Optimization.git\n",
            "  Cloning https://github.com/holounic/Bayesian-Optimization.git to /tmp/pip-req-build-zh3jukt3\n",
            "  Running command git clone -q https://github.com/holounic/Bayesian-Optimization.git /tmp/pip-req-build-zh3jukt3\n",
            "  Installing build dependencies ... \u001b[?25l\u001b[?25hdone\n",
            "  Getting requirements to build wheel ... \u001b[?25l\u001b[?25hdone\n",
            "    Preparing wheel metadata ... \u001b[?25l\u001b[?25hdone\n",
            "Collecting pyDOE@ git+https://github.com/holounic/pyDOE\n",
            "  Cloning https://github.com/holounic/pyDOE to /tmp/pip-install-xgojzm_5/pydoe_b88903589cf84f349623e956489d7970\n",
            "  Running command git clone -q https://github.com/holounic/pyDOE /tmp/pip-install-xgojzm_5/pydoe_b88903589cf84f349623e956489d7970\n",
            "Requirement already satisfied: scipy>=1.5.4 in /usr/local/lib/python3.7/dist-packages (from bayes-optim==0.2.7) (1.7.3)\n",
            "Requirement already satisfied: tabulate>=0.8.7 in /usr/local/lib/python3.7/dist-packages (from bayes-optim==0.2.7) (0.8.10)\n",
            "Requirement already satisfied: scikit-learn>=0.23.2 in /usr/local/lib/python3.7/dist-packages (from bayes-optim==0.2.7) (1.0.2)\n",
            "Requirement already satisfied: dill>=0.3.3 in /usr/local/lib/python3.7/dist-packages (from bayes-optim==0.2.7) (0.3.6)\n",
            "Requirement already satisfied: numpy>=1.19.2 in /usr/local/lib/python3.7/dist-packages (from bayes-optim==0.2.7) (1.21.6)\n",
            "Requirement already satisfied: py-expression-eval>=0.3.13 in /usr/local/lib/python3.7/dist-packages (from bayes-optim==0.2.7) (0.3.14)\n",
            "Requirement already satisfied: requests-oauthlib>=1.3.0 in /usr/local/lib/python3.7/dist-packages (from bayes-optim==0.2.7) (1.3.1)\n",
            "Requirement already satisfied: sobol-seq>=0.2.0 in /usr/local/lib/python3.7/dist-packages (from bayes-optim==0.2.7) (0.2.0)\n",
            "Requirement already satisfied: sklearn==0.0 in /usr/local/lib/python3.7/dist-packages (from bayes-optim==0.2.7) (0.0)\n",
            "Requirement already satisfied: requests>=2.25.0 in /usr/local/lib/python3.7/dist-packages (from bayes-optim==0.2.7) (2.28.1)\n",
            "Requirement already satisfied: threadpoolctl>=2.1.0 in /usr/local/lib/python3.7/dist-packages (from bayes-optim==0.2.7) (3.1.0)\n",
            "Requirement already satisfied: joblib>=1.0.0 in /usr/local/lib/python3.7/dist-packages (from bayes-optim==0.2.7) (1.2.0)\n",
            "Requirement already satisfied: pytest>=6.2.5 in /usr/local/lib/python3.7/dist-packages (from bayes-optim==0.2.7) (7.2.0)\n",
            "Requirement already satisfied: torch>=1.9.0 in /usr/local/lib/python3.7/dist-packages (from bayes-optim==0.2.7) (1.12.1+cu113)\n",
            "Requirement already satisfied: iniconfig in /usr/local/lib/python3.7/dist-packages (from pytest>=6.2.5->bayes-optim==0.2.7) (1.1.1)\n",
            "Requirement already satisfied: tomli>=1.0.0 in /usr/local/lib/python3.7/dist-packages (from pytest>=6.2.5->bayes-optim==0.2.7) (2.0.1)\n",
            "Requirement already satisfied: packaging in /usr/local/lib/python3.7/dist-packages (from pytest>=6.2.5->bayes-optim==0.2.7) (21.3)\n",
            "Requirement already satisfied: pluggy<2.0,>=0.12 in /usr/local/lib/python3.7/dist-packages (from pytest>=6.2.5->bayes-optim==0.2.7) (1.0.0)\n",
            "Requirement already satisfied: importlib-metadata>=0.12 in /usr/local/lib/python3.7/dist-packages (from pytest>=6.2.5->bayes-optim==0.2.7) (4.13.0)\n",
            "Requirement already satisfied: attrs>=19.2.0 in /usr/local/lib/python3.7/dist-packages (from pytest>=6.2.5->bayes-optim==0.2.7) (22.1.0)\n",
            "Requirement already satisfied: exceptiongroup>=1.0.0rc8 in /usr/local/lib/python3.7/dist-packages (from pytest>=6.2.5->bayes-optim==0.2.7) (1.0.0)\n",
            "Requirement already satisfied: typing-extensions>=3.6.4 in /usr/local/lib/python3.7/dist-packages (from importlib-metadata>=0.12->pytest>=6.2.5->bayes-optim==0.2.7) (4.1.1)\n",
            "Requirement already satisfied: zipp>=0.5 in /usr/local/lib/python3.7/dist-packages (from importlib-metadata>=0.12->pytest>=6.2.5->bayes-optim==0.2.7) (3.10.0)\n",
            "Requirement already satisfied: certifi>=2017.4.17 in /usr/local/lib/python3.7/dist-packages (from requests>=2.25.0->bayes-optim==0.2.7) (2022.9.24)\n",
            "Requirement already satisfied: urllib3<1.27,>=1.21.1 in /usr/local/lib/python3.7/dist-packages (from requests>=2.25.0->bayes-optim==0.2.7) (1.24.3)\n",
            "Requirement already satisfied: idna<4,>=2.5 in /usr/local/lib/python3.7/dist-packages (from requests>=2.25.0->bayes-optim==0.2.7) (2.10)\n",
            "Requirement already satisfied: charset-normalizer<3,>=2 in /usr/local/lib/python3.7/dist-packages (from requests>=2.25.0->bayes-optim==0.2.7) (2.1.1)\n",
            "Requirement already satisfied: oauthlib>=3.0.0 in /usr/local/lib/python3.7/dist-packages (from requests-oauthlib>=1.3.0->bayes-optim==0.2.7) (3.2.2)\n",
            "Requirement already satisfied: pyparsing!=3.0.5,>=2.0.2 in /usr/local/lib/python3.7/dist-packages (from packaging->pytest>=6.2.5->bayes-optim==0.2.7) (3.0.9)\n",
            "Looking in indexes: https://pypi.org/simple, https://us-python.pkg.dev/colab-wheels/public/simple/\n",
            "Requirement already satisfied: cma in /usr/local/lib/python3.7/dist-packages (3.2.2)\n",
            "Requirement already satisfied: numpy in /usr/local/lib/python3.7/dist-packages (from cma) (1.21.6)\n"
          ]
        }
      ],
      "source": [
        "!pip3 install git+https://github.com/holounic/Bayesian-Optimization.git\n",
        "!pip3 install cma"
      ]
    },
    {
      "cell_type": "code",
      "execution_count": 2,
      "metadata": {
        "id": "RhcUJPTw0_lm"
      },
      "outputs": [],
      "source": [
        "import numpy as np\n",
        "import matplotlib\n",
        "import matplotlib.pyplot as plt\n",
        "\n",
        "import cma\n",
        "\n",
        "from bayes_optim import BO\n",
        "from bayes_optim.search_space import RealSpace\n",
        "from bayes_optim.surrogate import GaussianProcess, trend\n",
        "\n",
        "from pyDOE import lhs\n",
        "\n",
        "from scipy.stats.qmc import Sobol, Halton\n",
        "\n",
        "from benchmark.bbobbenchmarks import F21, F16\n",
        "\n",
        "from tqdm.notebook import tqdm, trange\n",
        "\n",
        "np.random.seed(1111)\n",
        "\n",
        "dim = 2\n",
        "lb, ub = -5, 5\n",
        "\n",
        "mean = trend.constant_trend(dim, beta=None)\n",
        "thetaL = 1e-10 * (ub - lb) * np.ones(dim)\n",
        "thetaU = 10 * (ub - lb) * np.ones(dim)\n",
        "theta0 = np.random.rand(dim) * (thetaU - thetaL) + thetaL\n",
        "\n",
        "max_FEs = 2**6\n",
        "verbose = False\n",
        "\n",
        "space = RealSpace([lb, ub], random_state=np.random.randint(1, 10000)) * dim\n",
        "n_samples = 30000\n",
        "samples = space.sample(n_samples)\n",
        "\n",
        "obj_func = F21(1)\n",
        "\n",
        "doe_budget = 0.1\n",
        "doe_size = int(doe_budget * max_FEs)\n",
        "values = obj_func(samples)\n",
        "\n",
        "n_runs = 100"
      ]
    },
    {
      "cell_type": "code",
      "source": [
        "opt_color, found_color, initial_color = \"green\", \"red\", \"blue\"\n",
        "\n",
        "def plot(points, colors, ax=plt, outline=False, marker='o', marker_size=30):\n",
        "    transposed = np.transpose(points)\n",
        "    if outline:\n",
        "        ax.scatter(transposed[0], transposed[1], color=\"none\", edgecolor=colors, marker=marker, s=marker_size)\n",
        "    else:\n",
        "        ax.scatter(transposed[0], transposed[1], c=colors, marker=marker, s=marker_size)\n",
        "\n",
        "\n",
        "# plot DoE, optimum, found by the BO, and global optimum on the surface of the function\n",
        "def plot_result(func, samples, values, result, ax):\n",
        "  plot(samples, values, ax=ax, outline=False)\n",
        "  if result[\"initial_points\"] is not None:\n",
        "    plot(result[\"initial_points\"], [\"blue\"] * result[\"initial_points\"].shape[0], ax=ax, marker='^')\n",
        "  ax.set_title(f'{result.get(\"description\", \"regret\")}: {result[\"regret\"]}', size=6)\n",
        "  plot([func._getxopt(), result[\"found_x\"]], [opt_color, found_color], ax=ax, marker='s')\n",
        "\n",
        "\n",
        "# plot initial points provided to the CMA-ES and DoE, found by it, on the surface of the function\n",
        "def plot_initial_found(func, samples, values, initial, found, result):\n",
        "  fig, axs = plt.subplots(1, 2)\n",
        "  fig.suptitle(\"Objective function \" + func.__class__.__name__, fontsize=8)\n",
        "  plot(samples, values, ax=axs[0], outline=False) # plot surface\n",
        "  axs[0].set_title('Initial individual for CMA-ES')\n",
        "  plot(samples, values, ax=axs[1], outline=False)\n",
        "  axs[1].set_title('DoE found by CMA-ES')\n",
        "  plot(initial, [\"blue\"] * initial.shape[0], ax=axs[0], outline=False)\n",
        "  plot(found, [\"yellow\"] * initial.shape[0], ax=axs[1], outline=False)\n",
        "  plt.show()\n",
        "\n",
        "\n",
        "# plot DoE, all points used by the BO during training, global optimum, found optimum\n",
        "def plot_ei_performance(func, samples, values, bo, result, marker_size=30):\n",
        "  plt.suptitle(\"BO history\", fontsize=8)\n",
        "  plot(samples, values, ax=plt.gca(), outline=False) # plot surface\n",
        "  if result[\"initial_points\"] is not None:\n",
        "    plot(result[\"initial_points\"], [\"blue\"] * result[\"initial_points\"].shape[0], ax=plt.gca(), marker='^', marker_size=marker_size*2)\n",
        "  \n",
        "  for i in range(1, len(bo.history)):\n",
        "    for h in bo.history[i]:\n",
        "      x, y = h\n",
        "      plt.scatter(x, y, color=\"magenta\", s=marker_size)\n",
        "      plt.annotate(str(i), h)\n",
        "  plot([func._getxopt(), result[\"found_x\"]], [opt_color, found_color], ax=plt.gca(), marker='s', marker_size=marker_size)"
      ],
      "metadata": {
        "id": "9xMlmHHBaxCH"
      },
      "execution_count": 3,
      "outputs": []
    },
    {
      "cell_type": "code",
      "execution_count": 4,
      "metadata": {
        "id": "o4UdYktm3S9k"
      },
      "outputs": [],
      "source": [
        "def make_optimizer(obj_func, doe):\n",
        "    model = GaussianProcess(\n",
        "        mean=mean,\n",
        "        corr=\"squared_exponential\",\n",
        "        theta0=theta0,\n",
        "        thetaL=thetaL,\n",
        "        thetaU=thetaU,\n",
        "        nugget=0,\n",
        "        noise_estim=False,\n",
        "        optimizer=\"BFGS\",\n",
        "        wait_iter=3,\n",
        "        random_start=dim,\n",
        "        likelihood=\"concentrated\",\n",
        "        eval_budget=100 * dim\n",
        "    )\n",
        "    return BO(\n",
        "        search_space=space,\n",
        "        obj_fun=obj_func,\n",
        "        model=model,\n",
        "        DoE_size=len(doe),\n",
        "        acquisition_fun=\"EI\",\n",
        "        initial_points=doe,\n",
        "        max_FEs=max_FEs,\n",
        "        verbose=verbose,\n",
        "        n_point=1\n",
        "    )\n",
        "\n",
        "def compute_all(doe, n=3, n_points=1000):\n",
        "  regrets = []\n",
        "  history = []\n",
        "  precisions = []\n",
        "  for seed in range(n):\n",
        "    bo = make_optimizer(obj_func, doe)\n",
        "    xopt, yopt, _ = bo.run()\n",
        "    regret = yopt - obj_func.getfopt()\n",
        "    points = lhs(dim, n_points) * 10 - 5\n",
        "    predicted_y = np.concatenate(bo.model.predict(points))\n",
        "    real_y = obj_func(points)\n",
        "    precision = np.mean((predicted_y - real_y)**2)\n",
        "    precisions.append(precision)\n",
        "    regrets.append(regret)\n",
        "    history.append({'xopt': xopt, 'yopt': yopt, 'regret': regret, 'doe': doe, 'precision': precision})\n",
        "  return np.concatenate(regrets).mean(), np.mean(precisions), history\n",
        "\n",
        "def compute_all_for(f, n=10):\n",
        "  precisions, regrets, history = [], [], []\n",
        "  for _ in trange(n):\n",
        "    doe = f()\n",
        "    r, p, h = compute_all(doe, n=1, n_points=1000)\n",
        "    precisions.append(p)\n",
        "    regrets.append(r)\n",
        "    history.append(h[0])\n",
        "  return precisions, regrets, history"
      ]
    },
    {
      "cell_type": "markdown",
      "metadata": {
        "id": "esIUn7Q49POn"
      },
      "source": [
        "# Latin hypercube sampling\n"
      ]
    },
    {
      "cell_type": "code",
      "source": [
        "def generate_lhs():\n",
        "  return lhs(2, doe_size) * 10 - 5"
      ],
      "metadata": {
        "id": "y-OjbAF0gC2l"
      },
      "execution_count": 5,
      "outputs": []
    },
    {
      "cell_type": "code",
      "execution_count": 6,
      "metadata": {
        "id": "LDFPljzBISfz",
        "colab": {
          "base_uri": "https://localhost:8080/",
          "height": 49,
          "referenced_widgets": [
            "5b0b134d581c4e098cbbab107894a51b",
            "79c3f69e789344cf9871197a9964cb7e",
            "939c7c643e8a401bb31f9a5978273402",
            "a83489bffd81484f91f55b6fe2d87607",
            "f4c19f4de9c34d60a09e732558b90b47",
            "1d84f8ae2c3a430697733436224ee2e0",
            "07ba43b74afb4a338dfd0a161a32493a",
            "87664b6b9320417fa3e9beac6a7b8349",
            "308c477fd8b144718aec378e8f56b352",
            "a603082630d8406c80e171186bf9c67c",
            "cbb711a6c4d64c7eb9d948933d9787ab"
          ]
        },
        "outputId": "64df5712-cc03-4b56-ec09-1e872fd2ce32"
      },
      "outputs": [
        {
          "output_type": "display_data",
          "data": {
            "text/plain": [
              "  0%|          | 0/100 [00:00<?, ?it/s]"
            ],
            "application/vnd.jupyter.widget-view+json": {
              "version_major": 2,
              "version_minor": 0,
              "model_id": "5b0b134d581c4e098cbbab107894a51b"
            }
          },
          "metadata": {}
        }
      ],
      "source": [
        "lhs_precision, lhs_regret, lhs_history = compute_all_for(generate_lhs, n=n_runs)"
      ]
    },
    {
      "cell_type": "markdown",
      "source": [
        "# Uniform"
      ],
      "metadata": {
        "id": "ob8R0yvV4pbu"
      }
    },
    {
      "cell_type": "code",
      "source": [
        "def generate_uniform():\n",
        "  return np.random.uniform(-5, 5, (doe_size, 2))"
      ],
      "metadata": {
        "id": "EaGzpTI5xg1Q"
      },
      "execution_count": 7,
      "outputs": []
    },
    {
      "cell_type": "code",
      "source": [
        "uniform_precision, uniform_regret, uniform_history = compute_all_for(generate_uniform, n=n_runs)"
      ],
      "metadata": {
        "colab": {
          "base_uri": "https://localhost:8080/",
          "height": 49,
          "referenced_widgets": [
            "ad44c49aff85488282e857513b3a7755",
            "717d136a1c834768b2d525776c81c385",
            "cd32281a2918445687928e5abdce5dbe",
            "380c738c01c1470d968f1af1b950e8d0",
            "b71cef877c784182a9cef3b72a04996e",
            "c80ebfa4257342a1b78c3950e078aa3d",
            "ea9daf14eea14df1b34ce8390a1797da",
            "5096997cb4474647b96aea04f93dd1ea",
            "fb9b235d1cc74d14a7bcaf62a4ae89da",
            "11f1955de4a54cbbb3f42f2dce72ffea",
            "c3be0780e4324426ba36a78a95bb47d7"
          ]
        },
        "id": "RfWicUMjx6h2",
        "outputId": "b7a954fa-3a37-451d-ce2b-e1639434f0bf"
      },
      "execution_count": 8,
      "outputs": [
        {
          "output_type": "display_data",
          "data": {
            "text/plain": [
              "  0%|          | 0/100 [00:00<?, ?it/s]"
            ],
            "application/vnd.jupyter.widget-view+json": {
              "version_major": 2,
              "version_minor": 0,
              "model_id": "ad44c49aff85488282e857513b3a7755"
            }
          },
          "metadata": {}
        }
      ]
    },
    {
      "cell_type": "markdown",
      "source": [
        "# Sobol"
      ],
      "metadata": {
        "id": "oqMMktOY4skG"
      }
    },
    {
      "cell_type": "code",
      "source": [
        "def generate_sobol():\n",
        "  return Sobol(dim).random(doe_size) * 10 - 5"
      ],
      "metadata": {
        "id": "cGlbflLD4Txn"
      },
      "execution_count": 9,
      "outputs": []
    },
    {
      "cell_type": "code",
      "source": [
        "sobol_precision, sobol_regret, sobol_history = compute_all_for(generate_sobol, n=n_runs)"
      ],
      "metadata": {
        "colab": {
          "base_uri": "https://localhost:8080/",
          "height": 49,
          "referenced_widgets": [
            "02cf9fca3f2f4b81901c92b2b1c80a94",
            "76cee666fe364e1b8e73c648370c4352",
            "6438a31827af4cc898d807d62d3a3a94",
            "421bb681952c4725841ad9ee99862f74",
            "f3b477ad8aa3406a89ab4309e63a5f2e",
            "7aef2bc8b57349f09e782ad506967cd8",
            "bb78ed235d0f40c6b2a52bb1c9900083",
            "f1b8e385874947eba57753582b26a7ff",
            "1241ef6591614d0dad2e40a7f2ff8e50",
            "60fded6d0a00491c8bbf1d12b57983ac",
            "e17d0638c1ab4eb3a1cf9fa6c8ff6f4d"
          ]
        },
        "id": "IXdbhHPt4yUP",
        "outputId": "008c9a82-241e-4fab-c1f7-f198b5f28e02"
      },
      "execution_count": 10,
      "outputs": [
        {
          "output_type": "display_data",
          "data": {
            "text/plain": [
              "  0%|          | 0/100 [00:00<?, ?it/s]"
            ],
            "application/vnd.jupyter.widget-view+json": {
              "version_major": 2,
              "version_minor": 0,
              "model_id": "02cf9fca3f2f4b81901c92b2b1c80a94"
            }
          },
          "metadata": {}
        }
      ]
    },
    {
      "cell_type": "markdown",
      "source": [
        "# Halton"
      ],
      "metadata": {
        "id": "B4R-S10D89EE"
      }
    },
    {
      "cell_type": "code",
      "source": [
        "def generate_halton():\n",
        "  return Halton(dim).random(doe_size) * 10 - 5"
      ],
      "metadata": {
        "id": "Giv2AjVR9AU8"
      },
      "execution_count": 11,
      "outputs": []
    },
    {
      "cell_type": "code",
      "source": [
        "halton_precision, halton_regret, halton_history = compute_all_for(generate_halton, n=n_runs)"
      ],
      "metadata": {
        "colab": {
          "base_uri": "https://localhost:8080/",
          "height": 49,
          "referenced_widgets": [
            "807f42c8d1b84f1d96db07966f7ca09c",
            "0ce6d69a628b4c8490fadf71fb437571",
            "73d20311bf3f4a9cb2e66ebd949a2b2d",
            "73e6d578aa004eb5b165192418ca4a27",
            "2e79d264f80c4051ba137e97ac215acd",
            "51b076587534417aa3746c5ebaaa2d6f",
            "7e1b334f115a4a5da077b418607a97ac",
            "520dd50db3dc4883a8ba6d4a41725190",
            "b189ded3c1ab4188a74b85db940080eb",
            "4eda6a9a4feb45fbb6e0324b86747045",
            "06309159366b4b97a34e7baf7e28eb7d"
          ]
        },
        "id": "YNQtcWnG9HxT",
        "outputId": "366a3b8b-f0a7-47c3-9c4a-7aff806b1c84"
      },
      "execution_count": 12,
      "outputs": [
        {
          "output_type": "display_data",
          "data": {
            "text/plain": [
              "  0%|          | 0/100 [00:00<?, ?it/s]"
            ],
            "application/vnd.jupyter.widget-view+json": {
              "version_major": 2,
              "version_minor": 0,
              "model_id": "807f42c8d1b84f1d96db07966f7ca09c"
            }
          },
          "metadata": {}
        }
      ]
    },
    {
      "cell_type": "markdown",
      "source": [
        "# Cumulative"
      ],
      "metadata": {
        "id": "UgGhman8_EnK"
      }
    },
    {
      "cell_type": "code",
      "source": [
        "all_history = (lhs_history, uniform_history, sobol_history, halton_history)\n",
        "all_titles = (\"lhs\", \"uniform\", \"sobol\", \"halton\")"
      ],
      "metadata": {
        "id": "znnUKYUu_HSi"
      },
      "execution_count": 13,
      "outputs": []
    },
    {
      "cell_type": "code",
      "source": [
        "plt.rcParams[\"figure.figsize\"] = (14, 8)\n",
        "rs = [np.concatenate([result['regret'] for result in history]) for history in all_history]\n",
        "plt.boxplot(rs)\n",
        "plt.xticks(list(range(1, len(all_history) + 1)), all_titles)\n",
        "plt.title('Regret')"
      ],
      "metadata": {
        "colab": {
          "base_uri": "https://localhost:8080/",
          "height": 516
        },
        "id": "sb5cwWbs9ze4",
        "outputId": "91c47782-8311-4a06-9991-4d8b20bb530d"
      },
      "execution_count": 14,
      "outputs": [
        {
          "output_type": "execute_result",
          "data": {
            "text/plain": [
              "Text(0.5, 1.0, 'Regret')"
            ]
          },
          "metadata": {},
          "execution_count": 14
        },
        {
          "output_type": "display_data",
          "data": {
            "text/plain": [
              "<Figure size 1008x576 with 1 Axes>"
            ],
            "image/png": "[encoded data removed]"
          },
          "metadata": {
            "needs_background": "light"
          }
        }
      ]
    },
    {
      "cell_type": "code",
      "source": [
        "plt.rcParams[\"figure.figsize\"] = (14, 8)\n",
        "rs = [[result['precision'] for result in history] for history in all_history]\n",
        "plt.boxplot(rs)\n",
        "plt.xticks(list(range(1, len(all_history) + 1)), [\"lhs\", \"uniform\", \"sobol\", \"halton\"])\n",
        "plt.title('Precision')"
      ],
      "metadata": {
        "colab": {
          "base_uri": "https://localhost:8080/",
          "height": 516
        },
        "id": "gLnGQflA-8iN",
        "outputId": "bf727a57-95da-4a5d-b921-521e9cb160be"
      },
      "execution_count": 15,
      "outputs": [
        {
          "output_type": "execute_result",
          "data": {
            "text/plain": [
              "Text(0.5, 1.0, 'Precision')"
            ]
          },
          "metadata": {},
          "execution_count": 15
        },
        {
          "output_type": "display_data",
          "data": {
            "text/plain": [
              "<Figure size 1008x576 with 1 Axes>"
            ],
            "image/png": "[encoded data removed]"
          },
          "metadata": {
            "needs_background": "light"
          }
        }
      ]
    }
  ],
  "metadata": {
    "colab": {
      "collapsed_sections": [],
      "provenance": [],
      "toc_visible": true
    },
    "kernelspec": {
      "display_name": "Python 3",
      "name": "python3"
    },
    "language_info": {
      "name": "python"
    },
    "widgets": {
      "application/vnd.jupyter.widget-state+json": {
        "5b0b134d581c4e098cbbab107894a51b": {
          "model_module": "@jupyter-widgets/controls",
          "model_name": "HBoxModel",
          "model_module_version": "1.5.0",
          "state": {
            "_dom_classes": [],
            "_model_module": "@jupyter-widgets/controls",
            "_model_module_version": "1.5.0",
            "_model_name": "HBoxModel",
            "_view_count": null,
            "_view_module": "@jupyter-widgets/controls",
            "_view_module_version": "1.5.0",
            "_view_name": "HBoxView",
            "box_style": "",
            "children": [
              "IPY_MODEL_79c3f69e789344cf9871197a9964cb7e",
              "IPY_MODEL_939c7c643e8a401bb31f9a5978273402",
              "IPY_MODEL_a83489bffd81484f91f55b6fe2d87607"
            ],
            "layout": "IPY_MODEL_f4c19f4de9c34d60a09e732558b90b47"
          }
        },
        "79c3f69e789344cf9871197a9964cb7e": {
          "model_module": "@jupyter-widgets/controls",
          "model_name": "HTMLModel",
          "model_module_version": "1.5.0",
          "state": {
            "_dom_classes": [],
            "_model_module": "@jupyter-widgets/controls",
            "_model_module_version": "1.5.0",
            "_model_name": "HTMLModel",
            "_view_count": null,
            "_view_module": "@jupyter-widgets/controls",
            "_view_module_version": "1.5.0",
            "_view_name": "HTMLView",
            "description": "",
            "description_tooltip": null,
            "layout": "IPY_MODEL_1d84f8ae2c3a430697733436224ee2e0",
            "placeholder": "​",
            "style": "IPY_MODEL_07ba43b74afb4a338dfd0a161a32493a",
            "value": "100%"
          }
        },
        "939c7c643e8a401bb31f9a5978273402": {
          "model_module": "@jupyter-widgets/controls",
          "model_name": "FloatProgressModel",
          "model_module_version": "1.5.0",
          "state": {
            "_dom_classes": [],
            "_model_module": "@jupyter-widgets/controls",
            "_model_module_version": "1.5.0",
            "_model_name": "FloatProgressModel",
            "_view_count": null,
            "_view_module": "@jupyter-widgets/controls",
            "_view_module_version": "1.5.0",
            "_view_name": "ProgressView",
            "bar_style": "success",
            "description": "",
            "description_tooltip": null,
            "layout": "IPY_MODEL_87664b6b9320417fa3e9beac6a7b8349",
            "max": 100,
            "min": 0,
            "orientation": "horizontal",
            "style": "IPY_MODEL_308c477fd8b144718aec378e8f56b352",
            "value": 100
          }
        },
        "a83489bffd81484f91f55b6fe2d87607": {
          "model_module": "@jupyter-widgets/controls",
          "model_name": "HTMLModel",
          "model_module_version": "1.5.0",
          "state": {
            "_dom_classes": [],
            "_model_module": "@jupyter-widgets/controls",
            "_model_module_version": "1.5.0",
            "_model_name": "HTMLModel",
            "_view_count": null,
            "_view_module": "@jupyter-widgets/controls",
            "_view_module_version": "1.5.0",
            "_view_name": "HTMLView",
            "description": "",
            "description_tooltip": null,
            "layout": "IPY_MODEL_a603082630d8406c80e171186bf9c67c",
            "placeholder": "​",
            "style": "IPY_MODEL_cbb711a6c4d64c7eb9d948933d9787ab",
            "value": " 100/100 [18:40&lt;00:00, 10.60s/it]"
          }
        },
        "f4c19f4de9c34d60a09e732558b90b47": {
          "model_module": "@jupyter-widgets/base",
          "model_name": "LayoutModel",
          "model_module_version": "1.2.0",
          "state": {
            "_model_module": "@jupyter-widgets/base",
            "_model_module_version": "1.2.0",
            "_model_name": "LayoutModel",
            "_view_count": null,
            "_view_module": "@jupyter-widgets/base",
            "_view_module_version": "1.2.0",
            "_view_name": "LayoutView",
            "align_content": null,
            "align_items": null,
            "align_self": null,
            "border": null,
            "bottom": null,
            "display": null,
            "flex": null,
            "flex_flow": null,
            "grid_area": null,
            "grid_auto_columns": null,
            "grid_auto_flow": null,
            "grid_auto_rows": null,
            "grid_column": null,
            "grid_gap": null,
            "grid_row": null,
            "grid_template_areas": null,
            "grid_template_columns": null,
            "grid_template_rows": null,
            "height": null,
            "justify_content": null,
            "justify_items": null,
            "left": null,
            "margin": null,
            "max_height": null,
            "max_width": null,
            "min_height": null,
            "min_width": null,
            "object_fit": null,
            "object_position": null,
            "order": null,
            "overflow": null,
            "overflow_x": null,
            "overflow_y": null,
            "padding": null,
            "right": null,
            "top": null,
            "visibility": null,
            "width": null
          }
        },
        "1d84f8ae2c3a430697733436224ee2e0": {
          "model_module": "@jupyter-widgets/base",
          "model_name": "LayoutModel",
          "model_module_version": "1.2.0",
          "state": {
            "_model_module": "@jupyter-widgets/base",
            "_model_module_version": "1.2.0",
            "_model_name": "LayoutModel",
            "_view_count": null,
            "_view_module": "@jupyter-widgets/base",
            "_view_module_version": "1.2.0",
            "_view_name": "LayoutView",
            "align_content": null,
            "align_items": null,
            "align_self": null,
            "border": null,
            "bottom": null,
            "display": null,
            "flex": null,
            "flex_flow": null,
            "grid_area": null,
            "grid_auto_columns": null,
            "grid_auto_flow": null,
            "grid_auto_rows": null,
            "grid_column": null,
            "grid_gap": null,
            "grid_row": null,
            "grid_template_areas": null,
            "grid_template_columns": null,
            "grid_template_rows": null,
            "height": null,
            "justify_content": null,
            "justify_items": null,
            "left": null,
            "margin": null,
            "max_height": null,
            "max_width": null,
            "min_height": null,
            "min_width": null,
            "object_fit": null,
            "object_position": null,
            "order": null,
            "overflow": null,
            "overflow_x": null,
            "overflow_y": null,
            "padding": null,
            "right": null,
            "top": null,
            "visibility": null,
            "width": null
          }
        },
        "07ba43b74afb4a338dfd0a161a32493a": {
          "model_module": "@jupyter-widgets/controls",
          "model_name": "DescriptionStyleModel",
          "model_module_version": "1.5.0",
          "state": {
            "_model_module": "@jupyter-widgets/controls",
            "_model_module_version": "1.5.0",
            "_model_name": "DescriptionStyleModel",
            "_view_count": null,
            "_view_module": "@jupyter-widgets/base",
            "_view_module_version": "1.2.0",
            "_view_name": "StyleView",
            "description_width": ""
          }
        },
        "87664b6b9320417fa3e9beac6a7b8349": {
          "model_module": "@jupyter-widgets/base",
          "model_name": "LayoutModel",
          "model_module_version": "1.2.0",
          "state": {
            "_model_module": "@jupyter-widgets/base",
            "_model_module_version": "1.2.0",
            "_model_name": "LayoutModel",
            "_view_count": null,
            "_view_module": "@jupyter-widgets/base",
            "_view_module_version": "1.2.0",
            "_view_name": "LayoutView",
            "align_content": null,
            "align_items": null,
            "align_self": null,
            "border": null,
            "bottom": null,
            "display": null,
            "flex": null,
            "flex_flow": null,
            "grid_area": null,
            "grid_auto_columns": null,
            "grid_auto_flow": null,
            "grid_auto_rows": null,
            "grid_column": null,
            "grid_gap": null,
            "grid_row": null,
            "grid_template_areas": null,
            "grid_template_columns": null,
            "grid_template_rows": null,
            "height": null,
            "justify_content": null,
            "justify_items": null,
            "left": null,
            "margin": null,
            "max_height": null,
            "max_width": null,
            "min_height": null,
            "min_width": null,
            "object_fit": null,
            "object_position": null,
            "order": null,
            "overflow": null,
            "overflow_x": null,
            "overflow_y": null,
            "padding": null,
            "right": null,
            "top": null,
            "visibility": null,
            "width": null
          }
        },
        "308c477fd8b144718aec378e8f56b352": {
          "model_module": "@jupyter-widgets/controls",
          "model_name": "ProgressStyleModel",
          "model_module_version": "1.5.0",
          "state": {
            "_model_module": "@jupyter-widgets/controls",
            "_model_module_version": "1.5.0",
            "_model_name": "ProgressStyleModel",
            "_view_count": null,
            "_view_module": "@jupyter-widgets/base",
            "_view_module_version": "1.2.0",
            "_view_name": "StyleView",
            "bar_color": null,
            "description_width": ""
          }
        },
        "a603082630d8406c80e171186bf9c67c": {
          "model_module": "@jupyter-widgets/base",
          "model_name": "LayoutModel",
          "model_module_version": "1.2.0",
          "state": {
            "_model_module": "@jupyter-widgets/base",
            "_model_module_version": "1.2.0",
            "_model_name": "LayoutModel",
            "_view_count": null,
            "_view_module": "@jupyter-widgets/base",
            "_view_module_version": "1.2.0",
            "_view_name": "LayoutView",
            "align_content": null,
            "align_items": null,
            "align_self": null,
            "border": null,
            "bottom": null,
            "display": null,
            "flex": null,
            "flex_flow": null,
            "grid_area": null,
            "grid_auto_columns": null,
            "grid_auto_flow": null,
            "grid_auto_rows": null,
            "grid_column": null,
            "grid_gap": null,
            "grid_row": null,
            "grid_template_areas": null,
            "grid_template_columns": null,
            "grid_template_rows": null,
            "height": null,
            "justify_content": null,
            "justify_items": null,
            "left": null,
            "margin": null,
            "max_height": null,
            "max_width": null,
            "min_height": null,
            "min_width": null,
            "object_fit": null,
            "object_position": null,
            "order": null,
            "overflow": null,
            "overflow_x": null,
            "overflow_y": null,
            "padding": null,
            "right": null,
            "top": null,
            "visibility": null,
            "width": null
          }
        },
        "cbb711a6c4d64c7eb9d948933d9787ab": {
          "model_module": "@jupyter-widgets/controls",
          "model_name": "DescriptionStyleModel",
          "model_module_version": "1.5.0",
          "state": {
            "_model_module": "@jupyter-widgets/controls",
            "_model_module_version": "1.5.0",
            "_model_name": "DescriptionStyleModel",
            "_view_count": null,
            "_view_module": "@jupyter-widgets/base",
            "_view_module_version": "1.2.0",
            "_view_name": "StyleView",
            "description_width": ""
          }
        },
        "ad44c49aff85488282e857513b3a7755": {
          "model_module": "@jupyter-widgets/controls",
          "model_name": "HBoxModel",
          "model_module_version": "1.5.0",
          "state": {
            "_dom_classes": [],
            "_model_module": "@jupyter-widgets/controls",
            "_model_module_version": "1.5.0",
            "_model_name": "HBoxModel",
            "_view_count": null,
            "_view_module": "@jupyter-widgets/controls",
            "_view_module_version": "1.5.0",
            "_view_name": "HBoxView",
            "box_style": "",
            "children": [
              "IPY_MODEL_717d136a1c834768b2d525776c81c385",
              "IPY_MODEL_cd32281a2918445687928e5abdce5dbe",
              "IPY_MODEL_380c738c01c1470d968f1af1b950e8d0"
            ],
            "layout": "IPY_MODEL_b71cef877c784182a9cef3b72a04996e"
          }
        },
        "717d136a1c834768b2d525776c81c385": {
          "model_module": "@jupyter-widgets/controls",
          "model_name": "HTMLModel",
          "model_module_version": "1.5.0",
          "state": {
            "_dom_classes": [],
            "_model_module": "@jupyter-widgets/controls",
            "_model_module_version": "1.5.0",
            "_model_name": "HTMLModel",
            "_view_count": null,
            "_view_module": "@jupyter-widgets/controls",
            "_view_module_version": "1.5.0",
            "_view_name": "HTMLView",
            "description": "",
            "description_tooltip": null,
            "layout": "IPY_MODEL_c80ebfa4257342a1b78c3950e078aa3d",
            "placeholder": "​",
            "style": "IPY_MODEL_ea9daf14eea14df1b34ce8390a1797da",
            "value": "100%"
          }
        },
        "cd32281a2918445687928e5abdce5dbe": {
          "model_module": "@jupyter-widgets/controls",
          "model_name": "FloatProgressModel",
          "model_module_version": "1.5.0",
          "state": {
            "_dom_classes": [],
            "_model_module": "@jupyter-widgets/controls",
            "_model_module_version": "1.5.0",
            "_model_name": "FloatProgressModel",
            "_view_count": null,
            "_view_module": "@jupyter-widgets/controls",
            "_view_module_version": "1.5.0",
            "_view_name": "ProgressView",
            "bar_style": "success",
            "description": "",
            "description_tooltip": null,
            "layout": "IPY_MODEL_5096997cb4474647b96aea04f93dd1ea",
            "max": 100,
            "min": 0,
            "orientation": "horizontal",
            "style": "IPY_MODEL_fb9b235d1cc74d14a7bcaf62a4ae89da",
            "value": 100
          }
        },
        "380c738c01c1470d968f1af1b950e8d0": {
          "model_module": "@jupyter-widgets/controls",
          "model_name": "HTMLModel",
          "model_module_version": "1.5.0",
          "state": {
            "_dom_classes": [],
            "_model_module": "@jupyter-widgets/controls",
            "_model_module_version": "1.5.0",
            "_model_name": "HTMLModel",
            "_view_count": null,
            "_view_module": "@jupyter-widgets/controls",
            "_view_module_version": "1.5.0",
            "_view_name": "HTMLView",
            "description": "",
            "description_tooltip": null,
            "layout": "IPY_MODEL_11f1955de4a54cbbb3f42f2dce72ffea",
            "placeholder": "​",
            "style": "IPY_MODEL_c3be0780e4324426ba36a78a95bb47d7",
            "value": " 100/100 [17:56&lt;00:00, 11.08s/it]"
          }
        },
        "b71cef877c784182a9cef3b72a04996e": {
          "model_module": "@jupyter-widgets/base",
          "model_name": "LayoutModel",
          "model_module_version": "1.2.0",
          "state": {
            "_model_module": "@jupyter-widgets/base",
            "_model_module_version": "1.2.0",
            "_model_name": "LayoutModel",
            "_view_count": null,
            "_view_module": "@jupyter-widgets/base",
            "_view_module_version": "1.2.0",
            "_view_name": "LayoutView",
            "align_content": null,
            "align_items": null,
            "align_self": null,
            "border": null,
            "bottom": null,
            "display": null,
            "flex": null,
            "flex_flow": null,
            "grid_area": null,
            "grid_auto_columns": null,
            "grid_auto_flow": null,
            "grid_auto_rows": null,
            "grid_column": null,
            "grid_gap": null,
            "grid_row": null,
            "grid_template_areas": null,
            "grid_template_columns": null,
            "grid_template_rows": null,
            "height": null,
            "justify_content": null,
            "justify_items": null,
            "left": null,
            "margin": null,
            "max_height": null,
            "max_width": null,
            "min_height": null,
            "min_width": null,
            "object_fit": null,
            "object_position": null,
            "order": null,
            "overflow": null,
            "overflow_x": null,
            "overflow_y": null,
            "padding": null,
            "right": null,
            "top": null,
            "visibility": null,
            "width": null
          }
        },
        "c80ebfa4257342a1b78c3950e078aa3d": {
          "model_module": "@jupyter-widgets/base",
          "model_name": "LayoutModel",
          "model_module_version": "1.2.0",
          "state": {
            "_model_module": "@jupyter-widgets/base",
            "_model_module_version": "1.2.0",
            "_model_name": "LayoutModel",
            "_view_count": null,
            "_view_module": "@jupyter-widgets/base",
            "_view_module_version": "1.2.0",
            "_view_name": "LayoutView",
            "align_content": null,
            "align_items": null,
            "align_self": null,
            "border": null,
            "bottom": null,
            "display": null,
            "flex": null,
            "flex_flow": null,
            "grid_area": null,
            "grid_auto_columns": null,
            "grid_auto_flow": null,
            "grid_auto_rows": null,
            "grid_column": null,
            "grid_gap": null,
            "grid_row": null,
            "grid_template_areas": null,
            "grid_template_columns": null,
            "grid_template_rows": null,
            "height": null,
            "justify_content": null,
            "justify_items": null,
            "left": null,
            "margin": null,
            "max_height": null,
            "max_width": null,
            "min_height": null,
            "min_width": null,
            "object_fit": null,
            "object_position": null,
            "order": null,
            "overflow": null,
            "overflow_x": null,
            "overflow_y": null,
            "padding": null,
            "right": null,
            "top": null,
            "visibility": null,
            "width": null
          }
        },
        "ea9daf14eea14df1b34ce8390a1797da": {
          "model_module": "@jupyter-widgets/controls",
          "model_name": "DescriptionStyleModel",
          "model_module_version": "1.5.0",
          "state": {
            "_model_module": "@jupyter-widgets/controls",
            "_model_module_version": "1.5.0",
            "_model_name": "DescriptionStyleModel",
            "_view_count": null,
            "_view_module": "@jupyter-widgets/base",
            "_view_module_version": "1.2.0",
            "_view_name": "StyleView",
            "description_width": ""
          }
        },
        "5096997cb4474647b96aea04f93dd1ea": {
          "model_module": "@jupyter-widgets/base",
          "model_name": "LayoutModel",
          "model_module_version": "1.2.0",
          "state": {
            "_model_module": "@jupyter-widgets/base",
            "_model_module_version": "1.2.0",
            "_model_name": "LayoutModel",
            "_view_count": null,
            "_view_module": "@jupyter-widgets/base",
            "_view_module_version": "1.2.0",
            "_view_name": "LayoutView",
            "align_content": null,
            "align_items": null,
            "align_self": null,
            "border": null,
            "bottom": null,
            "display": null,
            "flex": null,
            "flex_flow": null,
            "grid_area": null,
            "grid_auto_columns": null,
            "grid_auto_flow": null,
            "grid_auto_rows": null,
            "grid_column": null,
            "grid_gap": null,
            "grid_row": null,
            "grid_template_areas": null,
            "grid_template_columns": null,
            "grid_template_rows": null,
            "height": null,
            "justify_content": null,
            "justify_items": null,
            "left": null,
            "margin": null,
            "max_height": null,
            "max_width": null,
            "min_height": null,
            "min_width": null,
            "object_fit": null,
            "object_position": null,
            "order": null,
            "overflow": null,
            "overflow_x": null,
            "overflow_y": null,
            "padding": null,
            "right": null,
            "top": null,
            "visibility": null,
            "width": null
          }
        },
        "fb9b235d1cc74d14a7bcaf62a4ae89da": {
          "model_module": "@jupyter-widgets/controls",
          "model_name": "ProgressStyleModel",
          "model_module_version": "1.5.0",
          "state": {
            "_model_module": "@jupyter-widgets/controls",
            "_model_module_version": "1.5.0",
            "_model_name": "ProgressStyleModel",
            "_view_count": null,
            "_view_module": "@jupyter-widgets/base",
            "_view_module_version": "1.2.0",
            "_view_name": "StyleView",
            "bar_color": null,
            "description_width": ""
          }
        },
        "11f1955de4a54cbbb3f42f2dce72ffea": {
          "model_module": "@jupyter-widgets/base",
          "model_name": "LayoutModel",
          "model_module_version": "1.2.0",
          "state": {
            "_model_module": "@jupyter-widgets/base",
            "_model_module_version": "1.2.0",
            "_model_name": "LayoutModel",
            "_view_count": null,
            "_view_module": "@jupyter-widgets/base",
            "_view_module_version": "1.2.0",
            "_view_name": "LayoutView",
            "align_content": null,
            "align_items": null,
            "align_self": null,
            "border": null,
            "bottom": null,
            "display": null,
            "flex": null,
            "flex_flow": null,
            "grid_area": null,
            "grid_auto_columns": null,
            "grid_auto_flow": null,
            "grid_auto_rows": null,
            "grid_column": null,
            "grid_gap": null,
            "grid_row": null,
            "grid_template_areas": null,
            "grid_template_columns": null,
            "grid_template_rows": null,
            "height": null,
            "justify_content": null,
            "justify_items": null,
            "left": null,
            "margin": null,
            "max_height": null,
            "max_width": null,
            "min_height": null,
            "min_width": null,
            "object_fit": null,
            "object_position": null,
            "order": null,
            "overflow": null,
            "overflow_x": null,
            "overflow_y": null,
            "padding": null,
            "right": null,
            "top": null,
            "visibility": null,
            "width": null
          }
        },
        "c3be0780e4324426ba36a78a95bb47d7": {
          "model_module": "@jupyter-widgets/controls",
          "model_name": "DescriptionStyleModel",
          "model_module_version": "1.5.0",
          "state": {
            "_model_module": "@jupyter-widgets/controls",
            "_model_module_version": "1.5.0",
            "_model_name": "DescriptionStyleModel",
            "_view_count": null,
            "_view_module": "@jupyter-widgets/base",
            "_view_module_version": "1.2.0",
            "_view_name": "StyleView",
            "description_width": ""
          }
        },
        "02cf9fca3f2f4b81901c92b2b1c80a94": {
          "model_module": "@jupyter-widgets/controls",
          "model_name": "HBoxModel",
          "model_module_version": "1.5.0",
          "state": {
            "_dom_classes": [],
            "_model_module": "@jupyter-widgets/controls",
            "_model_module_version": "1.5.0",
            "_model_name": "HBoxModel",
            "_view_count": null,
            "_view_module": "@jupyter-widgets/controls",
            "_view_module_version": "1.5.0",
            "_view_name": "HBoxView",
            "box_style": "",
            "children": [
              "IPY_MODEL_76cee666fe364e1b8e73c648370c4352",
              "IPY_MODEL_6438a31827af4cc898d807d62d3a3a94",
              "IPY_MODEL_421bb681952c4725841ad9ee99862f74"
            ],
            "layout": "IPY_MODEL_f3b477ad8aa3406a89ab4309e63a5f2e"
          }
        },
        "76cee666fe364e1b8e73c648370c4352": {
          "model_module": "@jupyter-widgets/controls",
          "model_name": "HTMLModel",
          "model_module_version": "1.5.0",
          "state": {
            "_dom_classes": [],
            "_model_module": "@jupyter-widgets/controls",
            "_model_module_version": "1.5.0",
            "_model_name": "HTMLModel",
            "_view_count": null,
            "_view_module": "@jupyter-widgets/controls",
            "_view_module_version": "1.5.0",
            "_view_name": "HTMLView",
            "description": "",
            "description_tooltip": null,
            "layout": "IPY_MODEL_7aef2bc8b57349f09e782ad506967cd8",
            "placeholder": "​",
            "style": "IPY_MODEL_bb78ed235d0f40c6b2a52bb1c9900083",
            "value": "100%"
          }
        },
        "6438a31827af4cc898d807d62d3a3a94": {
          "model_module": "@jupyter-widgets/controls",
          "model_name": "FloatProgressModel",
          "model_module_version": "1.5.0",
          "state": {
            "_dom_classes": [],
            "_model_module": "@jupyter-widgets/controls",
            "_model_module_version": "1.5.0",
            "_model_name": "FloatProgressModel",
            "_view_count": null,
            "_view_module": "@jupyter-widgets/controls",
            "_view_module_version": "1.5.0",
            "_view_name": "ProgressView",
            "bar_style": "success",
            "description": "",
            "description_tooltip": null,
            "layout": "IPY_MODEL_f1b8e385874947eba57753582b26a7ff",
            "max": 100,
            "min": 0,
            "orientation": "horizontal",
            "style": "IPY_MODEL_1241ef6591614d0dad2e40a7f2ff8e50",
            "value": 100
          }
        },
        "421bb681952c4725841ad9ee99862f74": {
          "model_module": "@jupyter-widgets/controls",
          "model_name": "HTMLModel",
          "model_module_version": "1.5.0",
          "state": {
            "_dom_classes": [],
            "_model_module": "@jupyter-widgets/controls",
            "_model_module_version": "1.5.0",
            "_model_name": "HTMLModel",
            "_view_count": null,
            "_view_module": "@jupyter-widgets/controls",
            "_view_module_version": "1.5.0",
            "_view_name": "HTMLView",
            "description": "",
            "description_tooltip": null,
            "layout": "IPY_MODEL_60fded6d0a00491c8bbf1d12b57983ac",
            "placeholder": "​",
            "style": "IPY_MODEL_e17d0638c1ab4eb3a1cf9fa6c8ff6f4d",
            "value": " 100/100 [17:54&lt;00:00, 12.29s/it]"
          }
        },
        "f3b477ad8aa3406a89ab4309e63a5f2e": {
          "model_module": "@jupyter-widgets/base",
          "model_name": "LayoutModel",
          "model_module_version": "1.2.0",
          "state": {
            "_model_module": "@jupyter-widgets/base",
            "_model_module_version": "1.2.0",
            "_model_name": "LayoutModel",
            "_view_count": null,
            "_view_module": "@jupyter-widgets/base",
            "_view_module_version": "1.2.0",
            "_view_name": "LayoutView",
            "align_content": null,
            "align_items": null,
            "align_self": null,
            "border": null,
            "bottom": null,
            "display": null,
            "flex": null,
            "flex_flow": null,
            "grid_area": null,
            "grid_auto_columns": null,
            "grid_auto_flow": null,
            "grid_auto_rows": null,
            "grid_column": null,
            "grid_gap": null,
            "grid_row": null,
            "grid_template_areas": null,
            "grid_template_columns": null,
            "grid_template_rows": null,
            "height": null,
            "justify_content": null,
            "justify_items": null,
            "left": null,
            "margin": null,
            "max_height": null,
            "max_width": null,
            "min_height": null,
            "min_width": null,
            "object_fit": null,
            "object_position": null,
            "order": null,
            "overflow": null,
            "overflow_x": null,
            "overflow_y": null,
            "padding": null,
            "right": null,
            "top": null,
            "visibility": null,
            "width": null
          }
        },
        "7aef2bc8b57349f09e782ad506967cd8": {
          "model_module": "@jupyter-widgets/base",
          "model_name": "LayoutModel",
          "model_module_version": "1.2.0",
          "state": {
            "_model_module": "@jupyter-widgets/base",
            "_model_module_version": "1.2.0",
            "_model_name": "LayoutModel",
            "_view_count": null,
            "_view_module": "@jupyter-widgets/base",
            "_view_module_version": "1.2.0",
            "_view_name": "LayoutView",
            "align_content": null,
            "align_items": null,
            "align_self": null,
            "border": null,
            "bottom": null,
            "display": null,
            "flex": null,
            "flex_flow": null,
            "grid_area": null,
            "grid_auto_columns": null,
            "grid_auto_flow": null,
            "grid_auto_rows": null,
            "grid_column": null,
            "grid_gap": null,
            "grid_row": null,
            "grid_template_areas": null,
            "grid_template_columns": null,
            "grid_template_rows": null,
            "height": null,
            "justify_content": null,
            "justify_items": null,
            "left": null,
            "margin": null,
            "max_height": null,
            "max_width": null,
            "min_height": null,
            "min_width": null,
            "object_fit": null,
            "object_position": null,
            "order": null,
            "overflow": null,
            "overflow_x": null,
            "overflow_y": null,
            "padding": null,
            "right": null,
            "top": null,
            "visibility": null,
            "width": null
          }
        },
        "bb78ed235d0f40c6b2a52bb1c9900083": {
          "model_module": "@jupyter-widgets/controls",
          "model_name": "DescriptionStyleModel",
          "model_module_version": "1.5.0",
          "state": {
            "_model_module": "@jupyter-widgets/controls",
            "_model_module_version": "1.5.0",
            "_model_name": "DescriptionStyleModel",
            "_view_count": null,
            "_view_module": "@jupyter-widgets/base",
            "_view_module_version": "1.2.0",
            "_view_name": "StyleView",
            "description_width": ""
          }
        },
        "f1b8e385874947eba57753582b26a7ff": {
          "model_module": "@jupyter-widgets/base",
          "model_name": "LayoutModel",
          "model_module_version": "1.2.0",
          "state": {
            "_model_module": "@jupyter-widgets/base",
            "_model_module_version": "1.2.0",
            "_model_name": "LayoutModel",
            "_view_count": null,
            "_view_module": "@jupyter-widgets/base",
            "_view_module_version": "1.2.0",
            "_view_name": "LayoutView",
            "align_content": null,
            "align_items": null,
            "align_self": null,
            "border": null,
            "bottom": null,
            "display": null,
            "flex": null,
            "flex_flow": null,
            "grid_area": null,
            "grid_auto_columns": null,
            "grid_auto_flow": null,
            "grid_auto_rows": null,
            "grid_column": null,
            "grid_gap": null,
            "grid_row": null,
            "grid_template_areas": null,
            "grid_template_columns": null,
            "grid_template_rows": null,
            "height": null,
            "justify_content": null,
            "justify_items": null,
            "left": null,
            "margin": null,
            "max_height": null,
            "max_width": null,
            "min_height": null,
            "min_width": null,
            "object_fit": null,
            "object_position": null,
            "order": null,
            "overflow": null,
            "overflow_x": null,
            "overflow_y": null,
            "padding": null,
            "right": null,
            "top": null,
            "visibility": null,
            "width": null
          }
        },
        "1241ef6591614d0dad2e40a7f2ff8e50": {
          "model_module": "@jupyter-widgets/controls",
          "model_name": "ProgressStyleModel",
          "model_module_version": "1.5.0",
          "state": {
            "_model_module": "@jupyter-widgets/controls",
            "_model_module_version": "1.5.0",
            "_model_name": "ProgressStyleModel",
            "_view_count": null,
            "_view_module": "@jupyter-widgets/base",
            "_view_module_version": "1.2.0",
            "_view_name": "StyleView",
            "bar_color": null,
            "description_width": ""
          }
        },
        "60fded6d0a00491c8bbf1d12b57983ac": {
          "model_module": "@jupyter-widgets/base",
          "model_name": "LayoutModel",
          "model_module_version": "1.2.0",
          "state": {
            "_model_module": "@jupyter-widgets/base",
            "_model_module_version": "1.2.0",
            "_model_name": "LayoutModel",
            "_view_count": null,
            "_view_module": "@jupyter-widgets/base",
            "_view_module_version": "1.2.0",
            "_view_name": "LayoutView",
            "align_content": null,
            "align_items": null,
            "align_self": null,
            "border": null,
            "bottom": null,
            "display": null,
            "flex": null,
            "flex_flow": null,
            "grid_area": null,
            "grid_auto_columns": null,
            "grid_auto_flow": null,
            "grid_auto_rows": null,
            "grid_column": null,
            "grid_gap": null,
            "grid_row": null,
            "grid_template_areas": null,
            "grid_template_columns": null,
            "grid_template_rows": null,
            "height": null,
            "justify_content": null,
            "justify_items": null,
            "left": null,
            "margin": null,
            "max_height": null,
            "max_width": null,
            "min_height": null,
            "min_width": null,
            "object_fit": null,
            "object_position": null,
            "order": null,
            "overflow": null,
            "overflow_x": null,
            "overflow_y": null,
            "padding": null,
            "right": null,
            "top": null,
            "visibility": null,
            "width": null
          }
        },
        "e17d0638c1ab4eb3a1cf9fa6c8ff6f4d": {
          "model_module": "@jupyter-widgets/controls",
          "model_name": "DescriptionStyleModel",
          "model_module_version": "1.5.0",
          "state": {
            "_model_module": "@jupyter-widgets/controls",
            "_model_module_version": "1.5.0",
            "_model_name": "DescriptionStyleModel",
            "_view_count": null,
            "_view_module": "@jupyter-widgets/base",
            "_view_module_version": "1.2.0",
            "_view_name": "StyleView",
            "description_width": ""
          }
        },
        "807f42c8d1b84f1d96db07966f7ca09c": {
          "model_module": "@jupyter-widgets/controls",
          "model_name": "HBoxModel",
          "model_module_version": "1.5.0",
          "state": {
            "_dom_classes": [],
            "_model_module": "@jupyter-widgets/controls",
            "_model_module_version": "1.5.0",
            "_model_name": "HBoxModel",
            "_view_count": null,
            "_view_module": "@jupyter-widgets/controls",
            "_view_module_version": "1.5.0",
            "_view_name": "HBoxView",
            "box_style": "",
            "children": [
              "IPY_MODEL_0ce6d69a628b4c8490fadf71fb437571",
              "IPY_MODEL_73d20311bf3f4a9cb2e66ebd949a2b2d",
              "IPY_MODEL_73e6d578aa004eb5b165192418ca4a27"
            ],
            "layout": "IPY_MODEL_2e79d264f80c4051ba137e97ac215acd"
          }
        },
        "0ce6d69a628b4c8490fadf71fb437571": {
          "model_module": "@jupyter-widgets/controls",
          "model_name": "HTMLModel",
          "model_module_version": "1.5.0",
          "state": {
            "_dom_classes": [],
            "_model_module": "@jupyter-widgets/controls",
            "_model_module_version": "1.5.0",
            "_model_name": "HTMLModel",
            "_view_count": null,
            "_view_module": "@jupyter-widgets/controls",
            "_view_module_version": "1.5.0",
            "_view_name": "HTMLView",
            "description": "",
            "description_tooltip": null,
            "layout": "IPY_MODEL_51b076587534417aa3746c5ebaaa2d6f",
            "placeholder": "​",
            "style": "IPY_MODEL_7e1b334f115a4a5da077b418607a97ac",
            "value": "100%"
          }
        },
        "73d20311bf3f4a9cb2e66ebd949a2b2d": {
          "model_module": "@jupyter-widgets/controls",
          "model_name": "FloatProgressModel",
          "model_module_version": "1.5.0",
          "state": {
            "_dom_classes": [],
            "_model_module": "@jupyter-widgets/controls",
            "_model_module_version": "1.5.0",
            "_model_name": "FloatProgressModel",
            "_view_count": null,
            "_view_module": "@jupyter-widgets/controls",
            "_view_module_version": "1.5.0",
            "_view_name": "ProgressView",
            "bar_style": "success",
            "description": "",
            "description_tooltip": null,
            "layout": "IPY_MODEL_520dd50db3dc4883a8ba6d4a41725190",
            "max": 100,
            "min": 0,
            "orientation": "horizontal",
            "style": "IPY_MODEL_b189ded3c1ab4188a74b85db940080eb",
            "value": 100
          }
        },
        "73e6d578aa004eb5b165192418ca4a27": {
          "model_module": "@jupyter-widgets/controls",
          "model_name": "HTMLModel",
          "model_module_version": "1.5.0",
          "state": {
            "_dom_classes": [],
            "_model_module": "@jupyter-widgets/controls",
            "_model_module_version": "1.5.0",
            "_model_name": "HTMLModel",
            "_view_count": null,
            "_view_module": "@jupyter-widgets/controls",
            "_view_module_version": "1.5.0",
            "_view_name": "HTMLView",
            "description": "",
            "description_tooltip": null,
            "layout": "IPY_MODEL_4eda6a9a4feb45fbb6e0324b86747045",
            "placeholder": "​",
            "style": "IPY_MODEL_06309159366b4b97a34e7baf7e28eb7d",
            "value": " 100/100 [18:21&lt;00:00, 11.17s/it]"
          }
        },
        "2e79d264f80c4051ba137e97ac215acd": {
          "model_module": "@jupyter-widgets/base",
          "model_name": "LayoutModel",
          "model_module_version": "1.2.0",
          "state": {
            "_model_module": "@jupyter-widgets/base",
            "_model_module_version": "1.2.0",
            "_model_name": "LayoutModel",
            "_view_count": null,
            "_view_module": "@jupyter-widgets/base",
            "_view_module_version": "1.2.0",
            "_view_name": "LayoutView",
            "align_content": null,
            "align_items": null,
            "align_self": null,
            "border": null,
            "bottom": null,
            "display": null,
            "flex": null,
            "flex_flow": null,
            "grid_area": null,
            "grid_auto_columns": null,
            "grid_auto_flow": null,
            "grid_auto_rows": null,
            "grid_column": null,
            "grid_gap": null,
            "grid_row": null,
            "grid_template_areas": null,
            "grid_template_columns": null,
            "grid_template_rows": null,
            "height": null,
            "justify_content": null,
            "justify_items": null,
            "left": null,
            "margin": null,
            "max_height": null,
            "max_width": null,
            "min_height": null,
            "min_width": null,
            "object_fit": null,
            "object_position": null,
            "order": null,
            "overflow": null,
            "overflow_x": null,
            "overflow_y": null,
            "padding": null,
            "right": null,
            "top": null,
            "visibility": null,
            "width": null
          }
        },
        "51b076587534417aa3746c5ebaaa2d6f": {
          "model_module": "@jupyter-widgets/base",
          "model_name": "LayoutModel",
          "model_module_version": "1.2.0",
          "state": {
            "_model_module": "@jupyter-widgets/base",
            "_model_module_version": "1.2.0",
            "_model_name": "LayoutModel",
            "_view_count": null,
            "_view_module": "@jupyter-widgets/base",
            "_view_module_version": "1.2.0",
            "_view_name": "LayoutView",
            "align_content": null,
            "align_items": null,
            "align_self": null,
            "border": null,
            "bottom": null,
            "display": null,
            "flex": null,
            "flex_flow": null,
            "grid_area": null,
            "grid_auto_columns": null,
            "grid_auto_flow": null,
            "grid_auto_rows": null,
            "grid_column": null,
            "grid_gap": null,
            "grid_row": null,
            "grid_template_areas": null,
            "grid_template_columns": null,
            "grid_template_rows": null,
            "height": null,
            "justify_content": null,
            "justify_items": null,
            "left": null,
            "margin": null,
            "max_height": null,
            "max_width": null,
            "min_height": null,
            "min_width": null,
            "object_fit": null,
            "object_position": null,
            "order": null,
            "overflow": null,
            "overflow_x": null,
            "overflow_y": null,
            "padding": null,
            "right": null,
            "top": null,
            "visibility": null,
            "width": null
          }
        },
        "7e1b334f115a4a5da077b418607a97ac": {
          "model_module": "@jupyter-widgets/controls",
          "model_name": "DescriptionStyleModel",
          "model_module_version": "1.5.0",
          "state": {
            "_model_module": "@jupyter-widgets/controls",
            "_model_module_version": "1.5.0",
            "_model_name": "DescriptionStyleModel",
            "_view_count": null,
            "_view_module": "@jupyter-widgets/base",
            "_view_module_version": "1.2.0",
            "_view_name": "StyleView",
            "description_width": ""
          }
        },
        "520dd50db3dc4883a8ba6d4a41725190": {
          "model_module": "@jupyter-widgets/base",
          "model_name": "LayoutModel",
          "model_module_version": "1.2.0",
          "state": {
            "_model_module": "@jupyter-widgets/base",
            "_model_module_version": "1.2.0",
            "_model_name": "LayoutModel",
            "_view_count": null,
            "_view_module": "@jupyter-widgets/base",
            "_view_module_version": "1.2.0",
            "_view_name": "LayoutView",
            "align_content": null,
            "align_items": null,
            "align_self": null,
            "border": null,
            "bottom": null,
            "display": null,
            "flex": null,
            "flex_flow": null,
            "grid_area": null,
            "grid_auto_columns": null,
            "grid_auto_flow": null,
            "grid_auto_rows": null,
            "grid_column": null,
            "grid_gap": null,
            "grid_row": null,
            "grid_template_areas": null,
            "grid_template_columns": null,
            "grid_template_rows": null,
            "height": null,
            "justify_content": null,
            "justify_items": null,
            "left": null,
            "margin": null,
            "max_height": null,
            "max_width": null,
            "min_height": null,
            "min_width": null,
            "object_fit": null,
            "object_position": null,
            "order": null,
            "overflow": null,
            "overflow_x": null,
            "overflow_y": null,
            "padding": null,
            "right": null,
            "top": null,
            "visibility": null,
            "width": null
          }
        },
        "b189ded3c1ab4188a74b85db940080eb": {
          "model_module": "@jupyter-widgets/controls",
          "model_name": "ProgressStyleModel",
          "model_module_version": "1.5.0",
          "state": {
            "_model_module": "@jupyter-widgets/controls",
            "_model_module_version": "1.5.0",
            "_model_name": "ProgressStyleModel",
            "_view_count": null,
            "_view_module": "@jupyter-widgets/base",
            "_view_module_version": "1.2.0",
            "_view_name": "StyleView",
            "bar_color": null,
            "description_width": ""
          }
        },
        "4eda6a9a4feb45fbb6e0324b86747045": {
          "model_module": "@jupyter-widgets/base",
          "model_name": "LayoutModel",
          "model_module_version": "1.2.0",
          "state": {
            "_model_module": "@jupyter-widgets/base",
            "_model_module_version": "1.2.0",
            "_model_name": "LayoutModel",
            "_view_count": null,
            "_view_module": "@jupyter-widgets/base",
            "_view_module_version": "1.2.0",
            "_view_name": "LayoutView",
            "align_content": null,
            "align_items": null,
            "align_self": null,
            "border": null,
            "bottom": null,
            "display": null,
            "flex": null,
            "flex_flow": null,
            "grid_area": null,
            "grid_auto_columns": null,
            "grid_auto_flow": null,
            "grid_auto_rows": null,
            "grid_column": null,
            "grid_gap": null,
            "grid_row": null,
            "grid_template_areas": null,
            "grid_template_columns": null,
            "grid_template_rows": null,
            "height": null,
            "justify_content": null,
            "justify_items": null,
            "left": null,
            "margin": null,
            "max_height": null,
            "max_width": null,
            "min_height": null,
            "min_width": null,
            "object_fit": null,
            "object_position": null,
            "order": null,
            "overflow": null,
            "overflow_x": null,
            "overflow_y": null,
            "padding": null,
            "right": null,
            "top": null,
            "visibility": null,
            "width": null
          }
        },
        "06309159366b4b97a34e7baf7e28eb7d": {
          "model_module": "@jupyter-widgets/controls",
          "model_name": "DescriptionStyleModel",
          "model_module_version": "1.5.0",
          "state": {
            "_model_module": "@jupyter-widgets/controls",
            "_model_module_version": "1.5.0",
            "_model_name": "DescriptionStyleModel",
            "_view_count": null,
            "_view_module": "@jupyter-widgets/base",
            "_view_module_version": "1.2.0",
            "_view_name": "StyleView",
            "description_width": ""
          }
        }
      }
    }
  },
  "nbformat": 4,
  "nbformat_minor": 0
}